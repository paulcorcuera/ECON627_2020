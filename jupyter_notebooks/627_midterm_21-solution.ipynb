{
 "cells": [
  {
   "cell_type": "markdown",
   "metadata": {},
   "source": [
    "# Suggested Solution to Midterm (Question 3)\n"
   ]
  },
  {
   "cell_type": "code",
   "execution_count": 1,
   "metadata": {},
   "outputs": [
    {
     "name": "stderr",
     "output_type": "stream",
     "text": [
      "\u001b[32m\u001b[1m  Activating\u001b[22m\u001b[39m project at `c:\\Users\\steve\\Documents\\GitHub\\ECON627_UBC.jl`\n"
     ]
    }
   ],
   "source": [
    "using Pkg\n",
    "Pkg.activate(joinpath(pwd(),\"..\")) ;"
   ]
  },
  {
   "cell_type": "markdown",
   "metadata": {},
   "source": [
    "## Load Main Packages"
   ]
  },
  {
   "cell_type": "code",
   "execution_count": 2,
   "metadata": {},
   "outputs": [],
   "source": [
    "using Distributions, Random, Parameters, LinearAlgebra, PrettyTables"
   ]
  },
  {
   "cell_type": "markdown",
   "metadata": {},
   "source": [
    "## Set Constants"
   ]
  },
  {
   "cell_type": "code",
   "execution_count": 3,
   "metadata": {},
   "outputs": [],
   "source": [
    "β= [1.0 ; 1.0]\n",
    "const ρ=0.9\n",
    "const Σ=[1.0 ρ; ρ 1;]\n",
    "const n = 100\n",
    "const R = 10^4\n",
    "const α = 0.05 ;"
   ]
  },
  {
   "cell_type": "markdown",
   "metadata": {},
   "source": [
    "## Random Seed"
   ]
  },
  {
   "cell_type": "code",
   "execution_count": 4,
   "metadata": {},
   "outputs": [],
   "source": [
    "Random.seed!(1234);"
   ]
  },
  {
   "cell_type": "markdown",
   "metadata": {},
   "source": [
    "## DGP\n",
    "\n",
    "The data generating process follows the structure of question 2. Where errors across equations have a correlation parameter of 0.9. Furthermore, errors are homoskedastic. "
   ]
  },
  {
   "cell_type": "code",
   "execution_count": 5,
   "metadata": {},
   "outputs": [
    {
     "data": {
      "text/plain": [
       "generate_data (generic function with 1 method)"
      ]
     },
     "metadata": {},
     "output_type": "display_data"
    }
   ],
   "source": [
    "function generate_data(n)\n",
    "    #Define the Multivariate Normal Distribution instance\n",
    "    mvnormal = MvNormal([0.0; 0.0], Σ)\n",
    "    \n",
    "\n",
    "    #DGP : Correlation across errors\n",
    "     \n",
    "    Errors=rand(mvnormal,n)'\n",
    "    U1 = Errors[:,1]\n",
    "    U2 = Errors[:,2]  \n",
    "    U = vcat(U1, U2)\n",
    "    \n",
    "    X1 = rand(Normal(),n,1) \n",
    "    X2 = rand(Normal(),n,1)\n",
    "    \n",
    "    Z = hcat(X1, X2)\n",
    "    \n",
    "    X = vcat( hcat(X1,zeros(n,1)) , hcat(zeros(n,1), X2) ) \n",
    "    Y = X*β + U \n",
    "    \n",
    "    return (Y = Y , X = X, Z =Z )\n",
    "end"
   ]
  },
  {
   "cell_type": "code",
   "execution_count": 6,
   "metadata": {},
   "outputs": [
    {
     "data": {
      "text/plain": [
       "GMM (generic function with 1 method)"
      ]
     },
     "metadata": {},
     "output_type": "display_data"
    }
   ],
   "source": [
    "function GMM(W, Y, X, Z)\n",
    "    \n",
    "    βGMM=(X'*Z*W*Z'*X)\\(X'*Z*W*Z'*Y)\n",
    "    Q = Z'*X/n\n",
    "    \n",
    "    se = sqrt(inv(Q'*W*Q)/n)\n",
    "    \n",
    "    return (βGMM = βGMM , se = se)\n",
    "end"
   ]
  },
  {
   "cell_type": "markdown",
   "metadata": {},
   "source": [
    "## Simulation\n",
    "\n",
    "Both the equation-by-equation estimator and the system efficient estimator are consistent. To see that the system efficient estimator has lower variance, we can compute the average confidence interval length."
   ]
  },
  {
   "cell_type": "code",
   "execution_count": 7,
   "metadata": {},
   "outputs": [],
   "source": [
    "length_eqbyeq = zeros(1,2)\n",
    "length_systemeff = zeros(1,2)\n",
    "\n",
    "for r=1:R\n",
    "    Y, X, Z = generate_data(n)\n",
    "    # Equation by Equation \n",
    "    W1 = inv(kron([1 0 ; 0 1], (Z'Z)/n))\n",
    "    Znew = kron([1 0 ; 0 1], Z)\n",
    "        \n",
    "    β_eqbyeq, se_eqbyeq = GMM(W1,Y,X,Znew)   \n",
    "    \n",
    "    # System Efficient \n",
    "    Uhat = Y - X*β_eqbyeq \n",
    "    Unew = vcat( hcat(Uhat[1:n] , zeros(n,1)) , hcat(zeros(n,1), Uhat[n+1:end] ) )\n",
    "    Σhat = (Unew'Unew)/n \n",
    "    W2 = inv(kron( Σhat , (Z'Z)/n))\n",
    "    \n",
    "    β_systemeff, se_systemeff = GMM(W2,Y,X,Znew)   \n",
    "   \n",
    "    \n",
    "    # Compute Confidence Intervals\n",
    "    upper_eqbyeq = β_eqbyeq .- diag(se_eqbyeq)*quantile.(Normal(), α./2)/sqrt(n)\n",
    "    lower_eqbyeq = β_eqbyeq .+ diag(se_eqbyeq)*quantile.(Normal(), α./2)/sqrt(n)\n",
    "    \n",
    "    upper_systemeff = β_systemeff .- diag(se_systemeff)*quantile.(Normal(), α./2)/sqrt(n)\n",
    "    lower_systemeff = β_systemeff .+ diag(se_systemeff)*quantile.(Normal(), α./2)/sqrt(n)    \n",
    "    \n",
    "    length_eqbyeq .+= 1*(upper_eqbyeq .- lower_eqbyeq)'\n",
    "    length_systemeff .+= 1*(upper_systemeff .- lower_systemeff)'\n",
    "    \n",
    "end"
   ]
  },
  {
   "cell_type": "code",
   "execution_count": 10,
   "metadata": {},
   "outputs": [
    {
     "name": "stdout",
     "output_type": "stream",
     "text": [
      "┌───────────┬──────────────────────┬──────────────────┐\n",
      "│\u001b[1m Parameter \u001b[0m│\u001b[1m Equation-by-Equation \u001b[0m│\u001b[1m System Efficient \u001b[0m│\n",
      "├───────────┼──────────────────────┼──────────────────┤\n",
      "│        β1 │             0.039486 │        0.0392128 │\n",
      "│        β2 │            0.0394937 │        0.0391938 │\n",
      "└───────────┴──────────────────────┴──────────────────┘\n"
     ]
    }
   ],
   "source": [
    "header = [\"Parameter\", \"Equation-by-Equation\",  \"System Efficient\"]\n",
    "table = [ \"β1\"  length_eqbyeq[1]/R  length_systemeff[1]/R ;\n",
    "\"β2\"  length_eqbyeq[2]/R  length_systemeff[2]/R ;\n",
    "]\n",
    "pretty_table(table; header)\n"
   ]
  },
  {
   "cell_type": "markdown",
   "metadata": {},
   "source": [
    "As expected, the system efficient GMM yields the smallest standard errors (shortest confidence interval)."
   ]
  }
 ],
 "metadata": {
  "kernelspec": {
   "display_name": "Julia 1.8.5",
   "language": "julia",
   "name": "julia-1.8"
  },
  "language_info": {
   "file_extension": ".jl",
   "mimetype": "application/julia",
   "name": "julia",
   "version": "1.8.5"
  }
 },
 "nbformat": 4,
 "nbformat_minor": 4
}
