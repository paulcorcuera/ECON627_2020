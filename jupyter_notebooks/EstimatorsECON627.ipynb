{
 "cells": [
  {
   "cell_type": "markdown",
   "metadata": {},
   "source": [
    "# Julia Review (ECON627 UBC)\n",
    "\n",
    "****"
   ]
  },
  {
   "cell_type": "markdown",
   "metadata": {},
   "source": [
    "If we choose to store our packages (and their versions), we want to activate our Project.toml file. "
   ]
  },
  {
   "cell_type": "code",
   "execution_count": 1,
   "metadata": {},
   "outputs": [
    {
     "name": "stderr",
     "output_type": "stream",
     "text": [
      "\u001b[32m\u001b[1m  Activating\u001b[22m\u001b[39m project at `c:\\Users\\steve\\Documents\\GitHub\\ECON627_UBC.jl`\n"
     ]
    }
   ],
   "source": [
    "using Pkg\n",
    "Pkg.activate(joinpath(pwd(),\"..\")) ;"
   ]
  },
  {
   "cell_type": "markdown",
   "metadata": {},
   "source": [
    "****\n",
    "\n",
    "In this course you learned that there is a large class of estimators that, under suitable regularity conditions, admit an asymptotic linear representation: \n",
    "\n",
    "\\begin{align*}\n",
    "\\sqrt n \\left( \\hat{\\theta}_n - \\theta_0 \\right) &= - \\left[ \\frac{\\partial Q_n(\\theta_0)}{\\partial \\theta \\partial \\theta'} \\right]^{-1} \\sqrt n \\frac{\\partial Q_n(\\theta_0)}{\\partial \\theta} + o_P(1)  \\\\\n",
    "\\sqrt n \\left( \\hat{\\theta}_n - \\theta_0 \\right) &= \\frac{1}{\\sqrt n} \\sum_{i=1}^n \\xi_i + o_P(1) \\quad , \n",
    "\\end{align*}\n",
    "\n",
    "where $\\xi_i$ is known as the influence function, which are i.i.d and centered at zero $\\mathbf{E}[\\xi_i]=0$. By the CLT of i.i.d observations we have that \n",
    "\n",
    "\\begin{equation}\n",
    "\\sqrt n \\left( \\hat{\\theta}_n - \\theta_0 \\right) \\rightarrow_d \\mathcal{N}( 0, \\mathbf{E}[\\xi_i \\xi_i'])\n",
    "\\end{equation}\n",
    "\n"
   ]
  },
  {
   "cell_type": "markdown",
   "metadata": {},
   "source": [
    "**************\n",
    "#### How to know if I'm missing an extra \"n\" when I compute the standard errors?\n",
    "Just follow these steps:\n",
    "\n",
    "- Compute analytically the asymptotic variance.\n",
    "- Replace every expectation by sample average (every sample average must be divided by n!).\n",
    "- The standard errors will be ``sqrt.(diag(avar))/sqrt(n)``\n"
   ]
  },
  {
   "cell_type": "markdown",
   "metadata": {},
   "source": [
    "***\n",
    "Before we do anything, we set a random seed to ensure replicability of our code."
   ]
  },
  {
   "cell_type": "code",
   "execution_count": 2,
   "metadata": {},
   "outputs": [],
   "source": [
    "using Random\n",
    "Random.seed!(1234);"
   ]
  },
  {
   "cell_type": "markdown",
   "metadata": {},
   "source": [
    "Load the ECON627 package "
   ]
  },
  {
   "cell_type": "code",
   "execution_count": 3,
   "metadata": {},
   "outputs": [],
   "source": [
    "using ECON627_UBC"
   ]
  },
  {
   "cell_type": "markdown",
   "metadata": {},
   "source": [
    "## 1. Least Squares "
   ]
  },
  {
   "cell_type": "markdown",
   "metadata": {},
   "source": [
    " - Population Criterion : $Q(\\theta) = \\mathbf{E} \\left[ (Y_i - X_i'\\theta)^2 \\right]/2$\n",
    " - Sample Criterion: $Q_n(\\theta) = \\frac{1}{n} \\sum_{i=1}^n (Y_i - X_i'\\theta)^2/2$\n",
    " - Gradient:  $\\frac{\\partial Q_n(\\theta_0)}{\\partial \\theta} = - \\frac{1}{n} \\sum_{i=1}^n (Y_i-X_i'\\theta_0)X_i $\n",
    " - Hessian: $\\frac{\\partial Q_n(\\theta_0)}{\\partial \\theta \\partial \\theta'} = \\frac{1}{n} \\sum_{i=1}^n X_i X_i' \\rightarrow_p \\mathbf{E} X_i X_i'$\n",
    " - Influence function: $\\xi_i :=   (\\mathbf{E}X_i X_i')^{-1} X_i U_i$ \n",
    " \n",
    "Therefore, the asymptotic variance is given by \n",
    "$ (\\mathbf{E}X_i X_i')^{-1} \\mathbf{E}[ U_i^2 X_i X_i'] (\\mathbf{E}X_i X_i')^{-1}  $"
   ]
  },
  {
   "cell_type": "code",
   "execution_count": 4,
   "metadata": {},
   "outputs": [],
   "source": [
    "using Parameters, LinearAlgebra, Distributions"
   ]
  },
  {
   "cell_type": "code",
   "execution_count": 5,
   "metadata": {},
   "outputs": [
    {
     "data": {
      "text/plain": [
       "data_generating_ols (generic function with 1 method)"
      ]
     },
     "metadata": {},
     "output_type": "display_data"
    }
   ],
   "source": [
    "function data_generating_ols(;n=1000)\n",
    "    #Define the Multivariate Normal Distribution instance as an example\n",
    "    mvnormal = MvNormal([1.0; 2.0], [1 0.7; 0.7 1])\n",
    "    \n",
    "    #Matrix X (n x 2 ) and ε (n x 1)\n",
    "    X = rand(mvnormal,n)\n",
    "    X = transpose(X)\n",
    "    ε = randn(n, 1)\n",
    "    \n",
    "    #Vector y\n",
    "    y = X*[1.0;1.0] + ε\n",
    "        \n",
    "    #Return the data\n",
    "    return (X = X , y = y)\n",
    "end    "
   ]
  },
  {
   "cell_type": "code",
   "execution_count": 6,
   "metadata": {},
   "outputs": [
    {
     "data": {
      "text/plain": [
       "(θhat = [0.9563864710176802; 1.0323477434590973;;], se = [1.3591890782320168, 0.8250537779697441])"
      ]
     },
     "metadata": {},
     "output_type": "display_data"
    }
   ],
   "source": [
    "@unpack X,y = data_generating_ols(n=1000)\n",
    "@unpack θhat, se = ols(X,y)"
   ]
  },
  {
   "cell_type": "code",
   "execution_count": 7,
   "metadata": {},
   "outputs": [
    {
     "data": {
      "text/plain": [
       "0.955"
      ]
     },
     "metadata": {},
     "output_type": "display_data"
    }
   ],
   "source": [
    "n=1000\n",
    "R=10^3\n",
    "\n",
    "θcoverage95 = zeros(R)\n",
    "\n",
    "Threads.@threads for r=1:R\n",
    "    \n",
    "    @unpack X,y = data_generating_ols(;n=n)\n",
    "    @unpack θhat, se = ols(X,y)\n",
    "    lower_ci  = θhat .- 1.96.*se/sqrt(n)\n",
    "    upper_ci  = θhat .+ 1.96.*se/sqrt(n)\n",
    "    \n",
    "    #Coverage of θ[1]\n",
    "    θcoverage95[r] = (lower_ci[1]<1.0)*(upper_ci[1]>1.0)\n",
    "end\n",
    "\n",
    "sum(θcoverage95)/R"
   ]
  },
  {
   "cell_type": "markdown",
   "metadata": {},
   "source": [
    "## 2. Linear GMM"
   ]
  },
  {
   "cell_type": "markdown",
   "metadata": {},
   "source": [
    " - Population Criterion : $Q(\\theta) = \\mathbf{E} \\left[ Z_i (Y_i - X_i'\\theta) \\right]' A'A \\mathbf{E} \\left[ Z_i (Y_i - X_i'\\theta) \\right]/2$ \n",
    " \n",
    " Notice that if there's correct specification, $\\mathbf{E}  \\left[ Z_i (Y_i - X_i'\\theta) \\right] = 0$ ,this population criterion has a minimum value of 0 for any choice of norm $A$.\n",
    " \n",
    " - Sample Criterion: $Q_n(\\theta) = \\frac{1}{n}  \\left[ \\sum_{i=1}^n Z_i (Y_i - X_i'\\theta) \\right]' A_n'A_n  \\left[ \\sum_{i=1}^n Z_i (Y_i - X_i'\\theta) \\right]/2$\n",
    " - Gradient:  $\\frac{\\partial Q_n(\\theta_0)}{\\partial \\theta'} = - \\frac{1}{n} \\sum_{i=1}^n X_i Z_i' A_n' A_n \\frac{1}{n} \\sum_{i=1}^n Z_i(Y_i-X_i'\\theta_0)$\n",
    " - Hessian: $\\frac{\\partial Q_n(\\theta_0)}{\\partial \\theta \\partial \\theta'} = \\frac{1}{n} \\sum_{i=1}^n X_i Z_i' A_n'A_n  \\frac{1}{n} \\sum_{i=1}^n Z_i X_i' \\rightarrow_p \\Gamma_0 A'A \\Gamma_0$\n",
    " - Influence function: $\\xi_i :=   (\\Gamma_0' A'A \\Gamma_0)^{-1} \\Gamma_0' A'A Z_i U_i$ \n",
    " \n",
    "Therefore, the asymptotic variance is given by \n",
    "$ (\\Gamma_0' A'A \\Gamma_0)^{-1} \\Gamma_0' A'A \\mathbf{E}[ U_i^2 Z_i Z_i'] A'A \\Gamma_0 (\\Gamma_0' A'A \\Gamma_0)^{-1}  $"
   ]
  },
  {
   "cell_type": "code",
   "execution_count": 8,
   "metadata": {},
   "outputs": [],
   "source": [
    "using Parameters, LinearAlgebra, Distributions"
   ]
  },
  {
   "cell_type": "code",
   "execution_count": 9,
   "metadata": {},
   "outputs": [
    {
     "data": {
      "text/plain": [
       "data_generating_gmm (generic function with 1 method)"
      ]
     },
     "metadata": {},
     "output_type": "display_data"
    }
   ],
   "source": [
    "function data_generating_gmm(;n=1000)\n",
    "   \n",
    "    ϵ=randn(n,1)\n",
    "    V=randn(n,1)\n",
    "    U=0.5*ϵ+V\n",
    "    \n",
    "    Z1=randn(n,1)\n",
    "    Xexo=randn(n,3)\n",
    "    \n",
    "    Xendo=Z1+Xexo*ones(3,1)+V\n",
    "    Y=Xendo+Xexo*ones(3,1)+U\n",
    "\n",
    "    return (Y=Y, Xendo = Xendo, Xexo=Xexo, Z1 = Z1)  \n",
    "end    "
   ]
  },
  {
   "cell_type": "code",
   "execution_count": 10,
   "metadata": {},
   "outputs": [
    {
     "data": {
      "text/plain": [
       "(θhat = [0.9938392308323587; 0.9909012899063977; 0.9785738392953629; 0.9930816515690302;;], se = [1.1176338684691618, 1.5939775190723693, 1.5579986598162425, 1.5706964438137785])"
      ]
     },
     "metadata": {},
     "output_type": "display_data"
    }
   ],
   "source": [
    "@unpack Xendo, Xexo,Y,Z1 = data_generating_gmm(n=1000)\n",
    "X=hcat(Xendo,Xexo)\n",
    "Z=hcat(Xexo,Z1)\n",
    "@unpack θhat, se = TSLS(Y,X,Z)"
   ]
  },
  {
   "cell_type": "code",
   "execution_count": 11,
   "metadata": {},
   "outputs": [
    {
     "data": {
      "text/plain": [
       "0.943"
      ]
     },
     "metadata": {},
     "output_type": "display_data"
    }
   ],
   "source": [
    "n=1000\n",
    "R=10^3\n",
    "\n",
    "θcoverage95 = zeros(R)\n",
    "\n",
    "Threads.@threads for r=1:R\n",
    "    \n",
    "    @unpack Xendo, Xexo,Y,Z1 = data_generating_gmm(;n=n)\n",
    "    X=hcat(Xendo,Xexo)\n",
    "    Z=hcat(Xexo,Z1)\n",
    "    @unpack θhat, se = TSLS(Y,X,Z)\n",
    "    \n",
    "    lower_ci  = θhat .- 1.96.*se/sqrt(n)\n",
    "    upper_ci  = θhat .+ 1.96.*se/sqrt(n)\n",
    "    θcoverage95[r] = (lower_ci[1]<1.0)*(upper_ci[1]>1.0)\n",
    "end\n",
    "\n",
    "sum(θcoverage95)/R"
   ]
  },
  {
   "cell_type": "markdown",
   "metadata": {},
   "source": [
    "I'll also show results for GMM with $W=I$"
   ]
  },
  {
   "cell_type": "code",
   "execution_count": 12,
   "metadata": {},
   "outputs": [
    {
     "data": {
      "text/plain": [
       "0.956"
      ]
     },
     "metadata": {},
     "output_type": "display_data"
    }
   ],
   "source": [
    "n=1000\n",
    "R=10^3\n",
    "\n",
    "θcoverage95 = zeros(R)\n",
    "\n",
    "Threads.@threads for r=1:R\n",
    "    \n",
    "    @unpack Xendo, Xexo,Y,Z1 = data_generating_gmm(;n=n)\n",
    "    X=hcat(Xendo,Xexo)\n",
    "    Z=hcat(Xexo,Z1)\n",
    "    W = Matrix(I,size(Z,2),size(Z,2))\n",
    "    @unpack θhat, se = GMM(W,Y,X,Z)\n",
    "    \n",
    "    lower_ci  = θhat .- 1.96.*se/sqrt(n)\n",
    "    upper_ci  = θhat .+ 1.96.*se/sqrt(n)\n",
    "    θcoverage95[r] = (lower_ci[1]<1.0)*(upper_ci[1]>1.0)\n",
    "end\n",
    "\n",
    "sum(θcoverage95)/R"
   ]
  },
  {
   "cell_type": "markdown",
   "metadata": {},
   "source": [
    "And two-step efficient GMM "
   ]
  },
  {
   "cell_type": "code",
   "execution_count": 13,
   "metadata": {},
   "outputs": [
    {
     "data": {
      "text/plain": [
       "0.945"
      ]
     },
     "metadata": {},
     "output_type": "display_data"
    }
   ],
   "source": [
    "n=1000\n",
    "R=10^3\n",
    "\n",
    "θcoverage95 = zeros(R)\n",
    "\n",
    "Threads.@threads for r=1:R\n",
    "    \n",
    "    @unpack Xendo, Xexo,Y,Z1 = data_generating_gmm(;n=n)\n",
    "    X=hcat(Xendo,Xexo)\n",
    "    Z=hcat(Xexo,Z1)\n",
    "    @unpack θhat, se = TSGMM(Y,X,Z)\n",
    "    \n",
    "    lower_ci  = θhat .- 1.96.*se/sqrt(n)\n",
    "    upper_ci  = θhat .+ 1.96.*se/sqrt(n)\n",
    "    θcoverage95[r] = (lower_ci[1]<1.0)*(upper_ci[1]>1.0)\n",
    "end\n",
    "\n",
    "sum(θcoverage95)/R"
   ]
  },
  {
   "cell_type": "markdown",
   "metadata": {},
   "source": [
    "## 3. Non-linear GMM"
   ]
  },
  {
   "cell_type": "markdown",
   "metadata": {},
   "source": [
    " - Population Criterion : $Q(\\theta) = \\mathbf{E} \\left[g(W_i,\\theta) \\right]' A'A \\mathbf{E} \\left[ g(W_i,\\theta) \\right]/2$ \n",
    " \n",
    " Notice that if there's correct specification, $\\mathbf{E}  \\left[ g(W_i,\\theta)\\right] = 0$ ,this population criterion has a minimum value of 0 for any choice of norm $A$.\n",
    " \n",
    " - Sample Criterion: $Q_n(\\theta) = \\frac{1}{n}  \\left[ \\sum_{i=1}^n g(W_i,\\theta) \\right]' A_n'A_n  \\left[ \\sum_{i=1}^n g(W_i,\\theta) \\right]/2$\n",
    " - Gradient:  $\\frac{\\partial Q_n(\\theta_0)}{\\partial \\theta} =  \\left( \\frac{1}{n} \\sum_{i=1}^n \\frac{\\partial g(W_i,\\theta_0)'}{\\partial \\theta}\\right) A_n'A_n' \\left( \\frac{1}{n} \\sum_{i=1}^n  g(W_i,\\theta_0)\\right)$\n",
    " - Hessian: $\\frac{\\partial Q_n(\\theta_0)}{\\partial \\theta \\partial \\theta'} = \\left( \\frac{1}{n} \\sum_{i=1}^n \\frac{\\partial g(W_i,\\theta_0)}{\\partial \\theta}\\right) A_n'A_n' \\left( \\frac{1}{n} \\sum_{i=1}^n \\frac{\\partial g(W_i,\\theta_0)}{\\partial \\theta'}\\right) + \\left[I_k \\otimes \\left( \\frac{1}{n} \\sum_{i=1}^n  g(W_i,\\theta_0)\\right) A_n'A_n\\right] \\left[ \\frac{1}{n} \\sum_{i=1}^n \\frac{\\partial}{\\partial \\theta'} vec \\left( \\frac{\\partial g(W_i,\\theta_0)}{\\partial \\theta'} \\right) \\right]$\n",
    " $\\rightarrow_p \\Gamma_0' A'A\\Gamma_0 + \\left[I_k \\otimes \\mathbf{E}[g(W_i,\\theta_0)'A'A] \\right] \\mathbf{E} \\frac{\\partial}{\\partial \\theta'}vec \\left( \\frac{\\partial g(W_i,\\theta_0)}{\\partial \\theta'} \\right)  $\n",
    " \n",
    " where the second term is 0 if correctly specified. In the influence function below I'll assume it's zero to avoid writing too much algebra.\n",
    " \n",
    " - Influence function: $\\xi_i :=   (\\Gamma_0' A'A \\Gamma_0)^{-1} \\Gamma_0' A'A g(W_i,\\theta_0)$ \n",
    " \n",
    "Therefore, the asymptotic variance is given by \n",
    "$ (\\Gamma_0' A'A \\Gamma_0)^{-1} \\Gamma_0' A'A \\mathbf{E}[ g(W_i,\\theta_0) g(W_i,\\theta_0)'] A'A \\Gamma_0 (\\Gamma_0' A'A \\Gamma_0)^{-1}  $"
   ]
  },
  {
   "cell_type": "code",
   "execution_count": 14,
   "metadata": {},
   "outputs": [],
   "source": [
    "using Parameters, LinearAlgebra, Distributions, Optim, ForwardDiff"
   ]
  },
  {
   "cell_type": "code",
   "execution_count": 15,
   "metadata": {},
   "outputs": [
    {
     "data": {
      "text/plain": [
       "data_generating_gmm (generic function with 1 method)"
      ]
     },
     "metadata": {},
     "output_type": "display_data"
    }
   ],
   "source": [
    "function data_generating_gmm(;n=1000)\n",
    "   \n",
    "    ϵ=randn(n,1)\n",
    "    V=randn(n,1)\n",
    "    U=0.5*ϵ+V\n",
    "\n",
    "    #2 instruments for 1 endogenous : overidentified\n",
    "    Z1=randn(n,2)\n",
    "    Xexo=randn(n,3)\n",
    "    \n",
    "    Xendo=Z1*ones(2,1)+Xexo*ones(3,1)+V\n",
    "    Y=Xendo+Xexo*ones(3,1)+U\n",
    "\n",
    "    return (Y=Y, Xendo = Xendo, Xexo=Xexo, Z1 = Z1)  \n",
    "end    "
   ]
  },
  {
   "cell_type": "code",
   "execution_count": 16,
   "metadata": {},
   "outputs": [
    {
     "data": {
      "text/plain": [
       "#24 (generic function with 1 method)"
      ]
     },
     "metadata": {},
     "output_type": "display_data"
    }
   ],
   "source": [
    "@unpack Xendo, Xexo,Y,Z1 = data_generating_gmm(n=1000)\n",
    "X=hcat(Xendo,Xexo)\n",
    "Z=hcat(Xexo,Z1)\n",
    "W = inv(Z'*Z)\n",
    "g = (y,x,z,θ) -> z*(y-x*θ)"
   ]
  },
  {
   "cell_type": "code",
   "execution_count": 17,
   "metadata": {},
   "outputs": [
    {
     "ename": "MethodError",
     "evalue": "MethodError: no method matching (::ECON627_UBC.var\"#10#21\"{Matrix{Float64}, Matrix{Float64}, Matrix{Float64}, Matrix{Float64}, ECON627_UBC.var\"#gvec#18\"{ECON627_UBC.var\"#7#17\"{var\"#24#25\", Int64}, Int64}})(::Vector{ForwardDiff.Dual{ForwardDiff.Tag{ECON627_UBC.var\"#11#22\"{Matrix{Float64}, Matrix{Float64}, Matrix{Float64}, Matrix{Float64}, ECON627_UBC.var\"#10#21\"{Matrix{Float64}, Matrix{Float64}, Matrix{Float64}, Matrix{Float64}, ECON627_UBC.var\"#gvec#18\"{ECON627_UBC.var\"#7#17\"{var\"#24#25\", Int64}, Int64}}}, Float64}, Float64, 1}}, ::Matrix{Float64}, ::Matrix{Float64}, ::Matrix{Float64}, ::Matrix{Float64})\nClosest candidates are:\n  (::ECON627_UBC.var\"#10#21\")(::Any) at c:\\Users\\steve\\Documents\\GitHub\\ECON627_UBC.jl\\src\\ECON627_UBC.jl:149",
     "output_type": "error",
     "traceback": [
      "MethodError: no method matching (::ECON627_UBC.var\"#10#21\"{Matrix{Float64}, Matrix{Float64}, Matrix{Float64}, Matrix{Float64}, ECON627_UBC.var\"#gvec#18\"{ECON627_UBC.var\"#7#17\"{var\"#24#25\", Int64}, Int64}})(::Vector{ForwardDiff.Dual{ForwardDiff.Tag{ECON627_UBC.var\"#11#22\"{Matrix{Float64}, Matrix{Float64}, Matrix{Float64}, Matrix{Float64}, ECON627_UBC.var\"#10#21\"{Matrix{Float64}, Matrix{Float64}, Matrix{Float64}, Matrix{Float64}, ECON627_UBC.var\"#gvec#18\"{ECON627_UBC.var\"#7#17\"{var\"#24#25\", Int64}, Int64}}}, Float64}, Float64, 1}}, ::Matrix{Float64}, ::Matrix{Float64}, ::Matrix{Float64}, ::Matrix{Float64})\n",
      "Closest candidates are:\n",
      "  (::ECON627_UBC.var\"#10#21\")(::Any) at c:\\Users\\steve\\Documents\\GitHub\\ECON627_UBC.jl\\src\\ECON627_UBC.jl:149\n",
      "\n",
      "Stacktrace:\n",
      "  [1] (::ECON627_UBC.var\"#11#22\"{Matrix{Float64}, Matrix{Float64}, Matrix{Float64}, Matrix{Float64}, ECON627_UBC.var\"#10#21\"{Matrix{Float64}, Matrix{Float64}, Matrix{Float64}, Matrix{Float64}, ECON627_UBC.var\"#gvec#18\"{ECON627_UBC.var\"#7#17\"{var\"#24#25\", Int64}, Int64}}})(θ::Vector{ForwardDiff.Dual{ForwardDiff.Tag{ECON627_UBC.var\"#11#22\"{Matrix{Float64}, Matrix{Float64}, Matrix{Float64}, Matrix{Float64}, ECON627_UBC.var\"#10#21\"{Matrix{Float64}, Matrix{Float64}, Matrix{Float64}, Matrix{Float64}, ECON627_UBC.var\"#gvec#18\"{ECON627_UBC.var\"#7#17\"{var\"#24#25\", Int64}, Int64}}}, Float64}, Float64, 1}})\n",
      "    @ ECON627_UBC c:\\Users\\steve\\Documents\\GitHub\\ECON627_UBC.jl\\src\\ECON627_UBC.jl:151\n",
      "  [2] vector_mode_dual_eval!(f::ECON627_UBC.var\"#11#22\"{Matrix{Float64}, Matrix{Float64}, Matrix{Float64}, Matrix{Float64}, ECON627_UBC.var\"#10#21\"{Matrix{Float64}, Matrix{Float64}, Matrix{Float64}, Matrix{Float64}, ECON627_UBC.var\"#gvec#18\"{ECON627_UBC.var\"#7#17\"{var\"#24#25\", Int64}, Int64}}}, cfg::ForwardDiff.GradientConfig{ForwardDiff.Tag{ECON627_UBC.var\"#11#22\"{Matrix{Float64}, Matrix{Float64}, Matrix{Float64}, Matrix{Float64}, ECON627_UBC.var\"#10#21\"{Matrix{Float64}, Matrix{Float64}, Matrix{Float64}, Matrix{Float64}, ECON627_UBC.var\"#gvec#18\"{ECON627_UBC.var\"#7#17\"{var\"#24#25\", Int64}, Int64}}}, Float64}, Float64, 1, Vector{ForwardDiff.Dual{ForwardDiff.Tag{ECON627_UBC.var\"#11#22\"{Matrix{Float64}, Matrix{Float64}, Matrix{Float64}, Matrix{Float64}, ECON627_UBC.var\"#10#21\"{Matrix{Float64}, Matrix{Float64}, Matrix{Float64}, Matrix{Float64}, ECON627_UBC.var\"#gvec#18\"{ECON627_UBC.var\"#7#17\"{var\"#24#25\", Int64}, Int64}}}, Float64}, Float64, 1}}}, x::Vector{Float64})\n",
      "    @ ForwardDiff C:\\Users\\steve\\.julia\\packages\\ForwardDiff\\PcZ48\\src\\apiutils.jl:24\n",
      "  [3] vector_mode_gradient!(result::DiffResults.MutableDiffResult{1, Float64, Tuple{Vector{Float64}}}, f::ECON627_UBC.var\"#11#22\"{Matrix{Float64}, Matrix{Float64}, Matrix{Float64}, Matrix{Float64}, ECON627_UBC.var\"#10#21\"{Matrix{Float64}, Matrix{Float64}, Matrix{Float64}, Matrix{Float64}, ECON627_UBC.var\"#gvec#18\"{ECON627_UBC.var\"#7#17\"{var\"#24#25\", Int64}, Int64}}}, x::Vector{Float64}, cfg::ForwardDiff.GradientConfig{ForwardDiff.Tag{ECON627_UBC.var\"#11#22\"{Matrix{Float64}, Matrix{Float64}, Matrix{Float64}, Matrix{Float64}, ECON627_UBC.var\"#10#21\"{Matrix{Float64}, Matrix{Float64}, Matrix{Float64}, Matrix{Float64}, ECON627_UBC.var\"#gvec#18\"{ECON627_UBC.var\"#7#17\"{var\"#24#25\", Int64}, Int64}}}, Float64}, Float64, 1, Vector{ForwardDiff.Dual{ForwardDiff.Tag{ECON627_UBC.var\"#11#22\"{Matrix{Float64}, Matrix{Float64}, Matrix{Float64}, Matrix{Float64}, ECON627_UBC.var\"#10#21\"{Matrix{Float64}, Matrix{Float64}, Matrix{Float64}, Matrix{Float64}, ECON627_UBC.var\"#gvec#18\"{ECON627_UBC.var\"#7#17\"{var\"#24#25\", Int64}, Int64}}}, Float64}, Float64, 1}}})\n",
      "    @ ForwardDiff C:\\Users\\steve\\.julia\\packages\\ForwardDiff\\PcZ48\\src\\gradient.jl:96\n",
      "  [4] gradient!(result::DiffResults.MutableDiffResult{1, Float64, Tuple{Vector{Float64}}}, f::ECON627_UBC.var\"#11#22\"{Matrix{Float64}, Matrix{Float64}, Matrix{Float64}, Matrix{Float64}, ECON627_UBC.var\"#10#21\"{Matrix{Float64}, Matrix{Float64}, Matrix{Float64}, Matrix{Float64}, ECON627_UBC.var\"#gvec#18\"{ECON627_UBC.var\"#7#17\"{var\"#24#25\", Int64}, Int64}}}, x::Vector{Float64}, cfg::ForwardDiff.GradientConfig{ForwardDiff.Tag{ECON627_UBC.var\"#11#22\"{Matrix{Float64}, Matrix{Float64}, Matrix{Float64}, Matrix{Float64}, ECON627_UBC.var\"#10#21\"{Matrix{Float64}, Matrix{Float64}, Matrix{Float64}, Matrix{Float64}, ECON627_UBC.var\"#gvec#18\"{ECON627_UBC.var\"#7#17\"{var\"#24#25\", Int64}, Int64}}}, Float64}, Float64, 1, Vector{ForwardDiff.Dual{ForwardDiff.Tag{ECON627_UBC.var\"#11#22\"{Matrix{Float64}, Matrix{Float64}, Matrix{Float64}, Matrix{Float64}, ECON627_UBC.var\"#10#21\"{Matrix{Float64}, Matrix{Float64}, Matrix{Float64}, Matrix{Float64}, ECON627_UBC.var\"#gvec#18\"{ECON627_UBC.var\"#7#17\"{var\"#24#25\", Int64}, Int64}}}, Float64}, Float64, 1}}}, ::Val{true})\n",
      "    @ ForwardDiff C:\\Users\\steve\\.julia\\packages\\ForwardDiff\\PcZ48\\src\\gradient.jl:37\n",
      "  [5] gradient!(result::DiffResults.MutableDiffResult{1, Float64, Tuple{Vector{Float64}}}, f::ECON627_UBC.var\"#11#22\"{Matrix{Float64}, Matrix{Float64}, Matrix{Float64}, Matrix{Float64}, ECON627_UBC.var\"#10#21\"{Matrix{Float64}, Matrix{Float64}, Matrix{Float64}, Matrix{Float64}, ECON627_UBC.var\"#gvec#18\"{ECON627_UBC.var\"#7#17\"{var\"#24#25\", Int64}, Int64}}}, x::Vector{Float64}, cfg::ForwardDiff.GradientConfig{ForwardDiff.Tag{ECON627_UBC.var\"#11#22\"{Matrix{Float64}, Matrix{Float64}, Matrix{Float64}, Matrix{Float64}, ECON627_UBC.var\"#10#21\"{Matrix{Float64}, Matrix{Float64}, Matrix{Float64}, Matrix{Float64}, ECON627_UBC.var\"#gvec#18\"{ECON627_UBC.var\"#7#17\"{var\"#24#25\", Int64}, Int64}}}, Float64}, Float64, 1, Vector{ForwardDiff.Dual{ForwardDiff.Tag{ECON627_UBC.var\"#11#22\"{Matrix{Float64}, Matrix{Float64}, Matrix{Float64}, Matrix{Float64}, ECON627_UBC.var\"#10#21\"{Matrix{Float64}, Matrix{Float64}, Matrix{Float64}, Matrix{Float64}, ECON627_UBC.var\"#gvec#18\"{ECON627_UBC.var\"#7#17\"{var\"#24#25\", Int64}, Int64}}}, Float64}, Float64, 1}}})\n",
      "    @ ForwardDiff C:\\Users\\steve\\.julia\\packages\\ForwardDiff\\PcZ48\\src\\gradient.jl:35\n",
      "  [6] (::NLSolversBase.var\"#42#48\"{ECON627_UBC.var\"#11#22\"{Matrix{Float64}, Matrix{Float64}, Matrix{Float64}, Matrix{Float64}, ECON627_UBC.var\"#10#21\"{Matrix{Float64}, Matrix{Float64}, Matrix{Float64}, Matrix{Float64}, ECON627_UBC.var\"#gvec#18\"{ECON627_UBC.var\"#7#17\"{var\"#24#25\", Int64}, Int64}}}, ForwardDiff.GradientConfig{ForwardDiff.Tag{ECON627_UBC.var\"#11#22\"{Matrix{Float64}, Matrix{Float64}, Matrix{Float64}, Matrix{Float64}, ECON627_UBC.var\"#10#21\"{Matrix{Float64}, Matrix{Float64}, Matrix{Float64}, Matrix{Float64}, ECON627_UBC.var\"#gvec#18\"{ECON627_UBC.var\"#7#17\"{var\"#24#25\", Int64}, Int64}}}, Float64}, Float64, 1, Vector{ForwardDiff.Dual{ForwardDiff.Tag{ECON627_UBC.var\"#11#22\"{Matrix{Float64}, Matrix{Float64}, Matrix{Float64}, Matrix{Float64}, ECON627_UBC.var\"#10#21\"{Matrix{Float64}, Matrix{Float64}, Matrix{Float64}, Matrix{Float64}, ECON627_UBC.var\"#gvec#18\"{ECON627_UBC.var\"#7#17\"{var\"#24#25\", Int64}, Int64}}}, Float64}, Float64, 1}}}})(out::Vector{Float64}, x::Vector{Float64})\n",
      "    @ NLSolversBase C:\\Users\\steve\\.julia\\packages\\NLSolversBase\\kavn7\\src\\objective_types\\twicedifferentiable.jl:132\n",
      "  [7] value_gradient_hessian!!(obj::TwiceDifferentiable{Float64, Vector{Float64}, Matrix{Float64}, Vector{Float64}}, x::Vector{Float64})\n",
      "    @ NLSolversBase C:\\Users\\steve\\.julia\\packages\\NLSolversBase\\kavn7\\src\\objective_types\\incomplete.jl:135\n",
      "  [8] initial_state(method::NewtonTrustRegion{Float64}, options::Optim.Options{Float64, Nothing}, d::TwiceDifferentiable{Float64, Vector{Float64}, Matrix{Float64}, Vector{Float64}}, initial_x::Vector{Float64})\n",
      "    @ Optim C:\\Users\\steve\\.julia\\packages\\Optim\\V8ZEC\\src\\multivariate\\solvers\\second_order\\newton_trust_region.jl:310\n",
      "  [9] optimize\n",
      "    @ C:\\Users\\steve\\.julia\\packages\\Optim\\V8ZEC\\src\\multivariate\\optimize\\optimize.jl:36 [inlined]\n",
      " [10] #optimize#89\n",
      "    @ C:\\Users\\steve\\.julia\\packages\\Optim\\V8ZEC\\src\\multivariate\\optimize\\interface.jl:143 [inlined]\n",
      " [11] NLGMM(Y::Matrix{Float64}, X::Matrix{Float64}, Z::Matrix{Float64}, W::Matrix{Float64}, g::var\"#24#25\")\n",
      "    @ ECON627_UBC c:\\Users\\steve\\Documents\\GitHub\\ECON627_UBC.jl\\src\\ECON627_UBC.jl:151\n",
      " [12] top-level scope\n",
      "    @ C:\\Users\\steve\\.julia\\packages\\UnPack\\EkESO\\src\\UnPack.jl:100"
     ]
    }
   ],
   "source": [
    "@unpack θhat, se = NLGMM(Y, X, Z,W,g) "
   ]
  },
  {
   "cell_type": "code",
   "execution_count": 18,
   "metadata": {},
   "outputs": [
    {
     "ename": "TaskFailedException",
     "evalue": "TaskFailedException\n\n    nested task error: MethodError: no method matching (::ECON627_UBC.var\"#10#21\"{Matrix{Float64}, Matrix{Float64}, Matrix{Float64}, Matrix{Float64}, ECON627_UBC.var\"#gvec#18\"{ECON627_UBC.var\"#7#17\"{var\"#24#25\", Int64}, Int64}})(::Vector{ForwardDiff.Dual{ForwardDiff.Tag{ECON627_UBC.var\"#11#22\"{Matrix{Float64}, Matrix{Float64}, Matrix{Float64}, Matrix{Float64}, ECON627_UBC.var\"#10#21\"{Matrix{Float64}, Matrix{Float64}, Matrix{Float64}, Matrix{Float64}, ECON627_UBC.var\"#gvec#18\"{ECON627_UBC.var\"#7#17\"{var\"#24#25\", Int64}, Int64}}}, Float64}, Float64, 1}}, ::Matrix{Float64}, ::Matrix{Float64}, ::Matrix{Float64}, ::Matrix{Float64})\n    Closest candidates are:\n      (::ECON627_UBC.var\"#10#21\")(::Any) at c:\\Users\\steve\\Documents\\GitHub\\ECON627_UBC.jl\\src\\ECON627_UBC.jl:149\n    Stacktrace:\n      [1] (::ECON627_UBC.var\"#11#22\"{Matrix{Float64}, Matrix{Float64}, Matrix{Float64}, Matrix{Float64}, ECON627_UBC.var\"#10#21\"{Matrix{Float64}, Matrix{Float64}, Matrix{Float64}, Matrix{Float64}, ECON627_UBC.var\"#gvec#18\"{ECON627_UBC.var\"#7#17\"{var\"#24#25\", Int64}, Int64}}})(θ::Vector{ForwardDiff.Dual{ForwardDiff.Tag{ECON627_UBC.var\"#11#22\"{Matrix{Float64}, Matrix{Float64}, Matrix{Float64}, Matrix{Float64}, ECON627_UBC.var\"#10#21\"{Matrix{Float64}, Matrix{Float64}, Matrix{Float64}, Matrix{Float64}, ECON627_UBC.var\"#gvec#18\"{ECON627_UBC.var\"#7#17\"{var\"#24#25\", Int64}, Int64}}}, Float64}, Float64, 1}})\n        @ ECON627_UBC c:\\Users\\steve\\Documents\\GitHub\\ECON627_UBC.jl\\src\\ECON627_UBC.jl:151\n      [2] vector_mode_dual_eval!(f::ECON627_UBC.var\"#11#22\"{Matrix{Float64}, Matrix{Float64}, Matrix{Float64}, Matrix{Float64}, ECON627_UBC.var\"#10#21\"{Matrix{Float64}, Matrix{Float64}, Matrix{Float64}, Matrix{Float64}, ECON627_UBC.var\"#gvec#18\"{ECON627_UBC.var\"#7#17\"{var\"#24#25\", Int64}, Int64}}}, cfg::ForwardDiff.GradientConfig{ForwardDiff.Tag{ECON627_UBC.var\"#11#22\"{Matrix{Float64}, Matrix{Float64}, Matrix{Float64}, Matrix{Float64}, ECON627_UBC.var\"#10#21\"{Matrix{Float64}, Matrix{Float64}, Matrix{Float64}, Matrix{Float64}, ECON627_UBC.var\"#gvec#18\"{ECON627_UBC.var\"#7#17\"{var\"#24#25\", Int64}, Int64}}}, Float64}, Float64, 1, Vector{ForwardDiff.Dual{ForwardDiff.Tag{ECON627_UBC.var\"#11#22\"{Matrix{Float64}, Matrix{Float64}, Matrix{Float64}, Matrix{Float64}, ECON627_UBC.var\"#10#21\"{Matrix{Float64}, Matrix{Float64}, Matrix{Float64}, Matrix{Float64}, ECON627_UBC.var\"#gvec#18\"{ECON627_UBC.var\"#7#17\"{var\"#24#25\", Int64}, Int64}}}, Float64}, Float64, 1}}}, x::Vector{Float64})\n        @ ForwardDiff C:\\Users\\steve\\.julia\\packages\\ForwardDiff\\PcZ48\\src\\apiutils.jl:24\n      [3] vector_mode_gradient!(result::DiffResults.MutableDiffResult{1, Float64, Tuple{Vector{Float64}}}, f::ECON627_UBC.var\"#11#22\"{Matrix{Float64}, Matrix{Float64}, Matrix{Float64}, Matrix{Float64}, ECON627_UBC.var\"#10#21\"{Matrix{Float64}, Matrix{Float64}, Matrix{Float64}, Matrix{Float64}, ECON627_UBC.var\"#gvec#18\"{ECON627_UBC.var\"#7#17\"{var\"#24#25\", Int64}, Int64}}}, x::Vector{Float64}, cfg::ForwardDiff.GradientConfig{ForwardDiff.Tag{ECON627_UBC.var\"#11#22\"{Matrix{Float64}, Matrix{Float64}, Matrix{Float64}, Matrix{Float64}, ECON627_UBC.var\"#10#21\"{Matrix{Float64}, Matrix{Float64}, Matrix{Float64}, Matrix{Float64}, ECON627_UBC.var\"#gvec#18\"{ECON627_UBC.var\"#7#17\"{var\"#24#25\", Int64}, Int64}}}, Float64}, Float64, 1, Vector{ForwardDiff.Dual{ForwardDiff.Tag{ECON627_UBC.var\"#11#22\"{Matrix{Float64}, Matrix{Float64}, Matrix{Float64}, Matrix{Float64}, ECON627_UBC.var\"#10#21\"{Matrix{Float64}, Matrix{Float64}, Matrix{Float64}, Matrix{Float64}, ECON627_UBC.var\"#gvec#18\"{ECON627_UBC.var\"#7#17\"{var\"#24#25\", Int64}, Int64}}}, Float64}, Float64, 1}}})\n        @ ForwardDiff C:\\Users\\steve\\.julia\\packages\\ForwardDiff\\PcZ48\\src\\gradient.jl:96\n      [4] gradient!(result::DiffResults.MutableDiffResult{1, Float64, Tuple{Vector{Float64}}}, f::ECON627_UBC.var\"#11#22\"{Matrix{Float64}, Matrix{Float64}, Matrix{Float64}, Matrix{Float64}, ECON627_UBC.var\"#10#21\"{Matrix{Float64}, Matrix{Float64}, Matrix{Float64}, Matrix{Float64}, ECON627_UBC.var\"#gvec#18\"{ECON627_UBC.var\"#7#17\"{var\"#24#25\", Int64}, Int64}}}, x::Vector{Float64}, cfg::ForwardDiff.GradientConfig{ForwardDiff.Tag{ECON627_UBC.var\"#11#22\"{Matrix{Float64}, Matrix{Float64}, Matrix{Float64}, Matrix{Float64}, ECON627_UBC.var\"#10#21\"{Matrix{Float64}, Matrix{Float64}, Matrix{Float64}, Matrix{Float64}, ECON627_UBC.var\"#gvec#18\"{ECON627_UBC.var\"#7#17\"{var\"#24#25\", Int64}, Int64}}}, Float64}, Float64, 1, Vector{ForwardDiff.Dual{ForwardDiff.Tag{ECON627_UBC.var\"#11#22\"{Matrix{Float64}, Matrix{Float64}, Matrix{Float64}, Matrix{Float64}, ECON627_UBC.var\"#10#21\"{Matrix{Float64}, Matrix{Float64}, Matrix{Float64}, Matrix{Float64}, ECON627_UBC.var\"#gvec#18\"{ECON627_UBC.var\"#7#17\"{var\"#24#25\", Int64}, Int64}}}, Float64}, Float64, 1}}}, ::Val{true})\n        @ ForwardDiff C:\\Users\\steve\\.julia\\packages\\ForwardDiff\\PcZ48\\src\\gradient.jl:37\n      [5] gradient!(result::DiffResults.MutableDiffResult{1, Float64, Tuple{Vector{Float64}}}, f::ECON627_UBC.var\"#11#22\"{Matrix{Float64}, Matrix{Float64}, Matrix{Float64}, Matrix{Float64}, ECON627_UBC.var\"#10#21\"{Matrix{Float64}, Matrix{Float64}, Matrix{Float64}, Matrix{Float64}, ECON627_UBC.var\"#gvec#18\"{ECON627_UBC.var\"#7#17\"{var\"#24#25\", Int64}, Int64}}}, x::Vector{Float64}, cfg::ForwardDiff.GradientConfig{ForwardDiff.Tag{ECON627_UBC.var\"#11#22\"{Matrix{Float64}, Matrix{Float64}, Matrix{Float64}, Matrix{Float64}, ECON627_UBC.var\"#10#21\"{Matrix{Float64}, Matrix{Float64}, Matrix{Float64}, Matrix{Float64}, ECON627_UBC.var\"#gvec#18\"{ECON627_UBC.var\"#7#17\"{var\"#24#25\", Int64}, Int64}}}, Float64}, Float64, 1, Vector{ForwardDiff.Dual{ForwardDiff.Tag{ECON627_UBC.var\"#11#22\"{Matrix{Float64}, Matrix{Float64}, Matrix{Float64}, Matrix{Float64}, ECON627_UBC.var\"#10#21\"{Matrix{Float64}, Matrix{Float64}, Matrix{Float64}, Matrix{Float64}, ECON627_UBC.var\"#gvec#18\"{ECON627_UBC.var\"#7#17\"{var\"#24#25\", Int64}, Int64}}}, Float64}, Float64, 1}}})\n        @ ForwardDiff C:\\Users\\steve\\.julia\\packages\\ForwardDiff\\PcZ48\\src\\gradient.jl:35\n      [6] (::NLSolversBase.var\"#42#48\"{ECON627_UBC.var\"#11#22\"{Matrix{Float64}, Matrix{Float64}, Matrix{Float64}, Matrix{Float64}, ECON627_UBC.var\"#10#21\"{Matrix{Float64}, Matrix{Float64}, Matrix{Float64}, Matrix{Float64}, ECON627_UBC.var\"#gvec#18\"{ECON627_UBC.var\"#7#17\"{var\"#24#25\", Int64}, Int64}}}, ForwardDiff.GradientConfig{ForwardDiff.Tag{ECON627_UBC.var\"#11#22\"{Matrix{Float64}, Matrix{Float64}, Matrix{Float64}, Matrix{Float64}, ECON627_UBC.var\"#10#21\"{Matrix{Float64}, Matrix{Float64}, Matrix{Float64}, Matrix{Float64}, ECON627_UBC.var\"#gvec#18\"{ECON627_UBC.var\"#7#17\"{var\"#24#25\", Int64}, Int64}}}, Float64}, Float64, 1, Vector{ForwardDiff.Dual{ForwardDiff.Tag{ECON627_UBC.var\"#11#22\"{Matrix{Float64}, Matrix{Float64}, Matrix{Float64}, Matrix{Float64}, ECON627_UBC.var\"#10#21\"{Matrix{Float64}, Matrix{Float64}, Matrix{Float64}, Matrix{Float64}, ECON627_UBC.var\"#gvec#18\"{ECON627_UBC.var\"#7#17\"{var\"#24#25\", Int64}, Int64}}}, Float64}, Float64, 1}}}})(out::Vector{Float64}, x::Vector{Float64})\n        @ NLSolversBase C:\\Users\\steve\\.julia\\packages\\NLSolversBase\\kavn7\\src\\objective_types\\twicedifferentiable.jl:132\n      [7] value_gradient_hessian!!(obj::TwiceDifferentiable{Float64, Vector{Float64}, Matrix{Float64}, Vector{Float64}}, x::Vector{Float64})\n        @ NLSolversBase C:\\Users\\steve\\.julia\\packages\\NLSolversBase\\kavn7\\src\\objective_types\\incomplete.jl:135\n      [8] initial_state(method::NewtonTrustRegion{Float64}, options::Optim.Options{Float64, Nothing}, d::TwiceDifferentiable{Float64, Vector{Float64}, Matrix{Float64}, Vector{Float64}}, initial_x::Vector{Float64})\n        @ Optim C:\\Users\\steve\\.julia\\packages\\Optim\\V8ZEC\\src\\multivariate\\solvers\\second_order\\newton_trust_region.jl:310\n      [9] optimize\n        @ C:\\Users\\steve\\.julia\\packages\\Optim\\V8ZEC\\src\\multivariate\\optimize\\optimize.jl:36 [inlined]\n     [10] #optimize#89\n        @ C:\\Users\\steve\\.julia\\packages\\Optim\\V8ZEC\\src\\multivariate\\optimize\\interface.jl:143 [inlined]\n     [11] NLGMM(Y::Matrix{Float64}, X::Matrix{Float64}, Z::Matrix{Float64}, W::Matrix{Float64}, g::var\"#24#25\")\n        @ ECON627_UBC c:\\Users\\steve\\Documents\\GitHub\\ECON627_UBC.jl\\src\\ECON627_UBC.jl:151\n     [12] macro expansion\n        @ C:\\Users\\steve\\.julia\\packages\\UnPack\\EkESO\\src\\UnPack.jl:100 [inlined]\n     [13] macro expansion\n        @ c:\\Users\\steve\\Documents\\GitHub\\ECON627_UBC.jl\\jupyter_notebooks\\EstimatorsECON627.ipynb:11 [inlined]\n     [14] (::var\"#128#threadsfor_fun#27\"{var\"#128#threadsfor_fun#26#28\"{UnitRange{Int64}}})(tid::Int64; onethread::Bool)\n        @ Main .\\threadingconstructs.jl:84\n     [15] #128#threadsfor_fun\n        @ .\\threadingconstructs.jl:51 [inlined]\n     [16] (::Base.Threads.var\"#1#2\"{var\"#128#threadsfor_fun#27\"{var\"#128#threadsfor_fun#26#28\"{UnitRange{Int64}}}, Int64})()\n        @ Base.Threads .\\threadingconstructs.jl:30",
     "output_type": "error",
     "traceback": [
      "TaskFailedException\n",
      "\n",
      "    nested task error: MethodError: no method matching (::ECON627_UBC.var\"#10#21\"{Matrix{Float64}, Matrix{Float64}, Matrix{Float64}, Matrix{Float64}, ECON627_UBC.var\"#gvec#18\"{ECON627_UBC.var\"#7#17\"{var\"#24#25\", Int64}, Int64}})(::Vector{ForwardDiff.Dual{ForwardDiff.Tag{ECON627_UBC.var\"#11#22\"{Matrix{Float64}, Matrix{Float64}, Matrix{Float64}, Matrix{Float64}, ECON627_UBC.var\"#10#21\"{Matrix{Float64}, Matrix{Float64}, Matrix{Float64}, Matrix{Float64}, ECON627_UBC.var\"#gvec#18\"{ECON627_UBC.var\"#7#17\"{var\"#24#25\", Int64}, Int64}}}, Float64}, Float64, 1}}, ::Matrix{Float64}, ::Matrix{Float64}, ::Matrix{Float64}, ::Matrix{Float64})\n",
      "    Closest candidates are:\n",
      "      (::ECON627_UBC.var\"#10#21\")(::Any) at c:\\Users\\steve\\Documents\\GitHub\\ECON627_UBC.jl\\src\\ECON627_UBC.jl:149\n",
      "    Stacktrace:\n",
      "      [1] (::ECON627_UBC.var\"#11#22\"{Matrix{Float64}, Matrix{Float64}, Matrix{Float64}, Matrix{Float64}, ECON627_UBC.var\"#10#21\"{Matrix{Float64}, Matrix{Float64}, Matrix{Float64}, Matrix{Float64}, ECON627_UBC.var\"#gvec#18\"{ECON627_UBC.var\"#7#17\"{var\"#24#25\", Int64}, Int64}}})(θ::Vector{ForwardDiff.Dual{ForwardDiff.Tag{ECON627_UBC.var\"#11#22\"{Matrix{Float64}, Matrix{Float64}, Matrix{Float64}, Matrix{Float64}, ECON627_UBC.var\"#10#21\"{Matrix{Float64}, Matrix{Float64}, Matrix{Float64}, Matrix{Float64}, ECON627_UBC.var\"#gvec#18\"{ECON627_UBC.var\"#7#17\"{var\"#24#25\", Int64}, Int64}}}, Float64}, Float64, 1}})\n",
      "        @ ECON627_UBC c:\\Users\\steve\\Documents\\GitHub\\ECON627_UBC.jl\\src\\ECON627_UBC.jl:151\n",
      "      [2] vector_mode_dual_eval!(f::ECON627_UBC.var\"#11#22\"{Matrix{Float64}, Matrix{Float64}, Matrix{Float64}, Matrix{Float64}, ECON627_UBC.var\"#10#21\"{Matrix{Float64}, Matrix{Float64}, Matrix{Float64}, Matrix{Float64}, ECON627_UBC.var\"#gvec#18\"{ECON627_UBC.var\"#7#17\"{var\"#24#25\", Int64}, Int64}}}, cfg::ForwardDiff.GradientConfig{ForwardDiff.Tag{ECON627_UBC.var\"#11#22\"{Matrix{Float64}, Matrix{Float64}, Matrix{Float64}, Matrix{Float64}, ECON627_UBC.var\"#10#21\"{Matrix{Float64}, Matrix{Float64}, Matrix{Float64}, Matrix{Float64}, ECON627_UBC.var\"#gvec#18\"{ECON627_UBC.var\"#7#17\"{var\"#24#25\", Int64}, Int64}}}, Float64}, Float64, 1, Vector{ForwardDiff.Dual{ForwardDiff.Tag{ECON627_UBC.var\"#11#22\"{Matrix{Float64}, Matrix{Float64}, Matrix{Float64}, Matrix{Float64}, ECON627_UBC.var\"#10#21\"{Matrix{Float64}, Matrix{Float64}, Matrix{Float64}, Matrix{Float64}, ECON627_UBC.var\"#gvec#18\"{ECON627_UBC.var\"#7#17\"{var\"#24#25\", Int64}, Int64}}}, Float64}, Float64, 1}}}, x::Vector{Float64})\n",
      "        @ ForwardDiff C:\\Users\\steve\\.julia\\packages\\ForwardDiff\\PcZ48\\src\\apiutils.jl:24\n",
      "      [3] vector_mode_gradient!(result::DiffResults.MutableDiffResult{1, Float64, Tuple{Vector{Float64}}}, f::ECON627_UBC.var\"#11#22\"{Matrix{Float64}, Matrix{Float64}, Matrix{Float64}, Matrix{Float64}, ECON627_UBC.var\"#10#21\"{Matrix{Float64}, Matrix{Float64}, Matrix{Float64}, Matrix{Float64}, ECON627_UBC.var\"#gvec#18\"{ECON627_UBC.var\"#7#17\"{var\"#24#25\", Int64}, Int64}}}, x::Vector{Float64}, cfg::ForwardDiff.GradientConfig{ForwardDiff.Tag{ECON627_UBC.var\"#11#22\"{Matrix{Float64}, Matrix{Float64}, Matrix{Float64}, Matrix{Float64}, ECON627_UBC.var\"#10#21\"{Matrix{Float64}, Matrix{Float64}, Matrix{Float64}, Matrix{Float64}, ECON627_UBC.var\"#gvec#18\"{ECON627_UBC.var\"#7#17\"{var\"#24#25\", Int64}, Int64}}}, Float64}, Float64, 1, Vector{ForwardDiff.Dual{ForwardDiff.Tag{ECON627_UBC.var\"#11#22\"{Matrix{Float64}, Matrix{Float64}, Matrix{Float64}, Matrix{Float64}, ECON627_UBC.var\"#10#21\"{Matrix{Float64}, Matrix{Float64}, Matrix{Float64}, Matrix{Float64}, ECON627_UBC.var\"#gvec#18\"{ECON627_UBC.var\"#7#17\"{var\"#24#25\", Int64}, Int64}}}, Float64}, Float64, 1}}})\n",
      "        @ ForwardDiff C:\\Users\\steve\\.julia\\packages\\ForwardDiff\\PcZ48\\src\\gradient.jl:96\n",
      "      [4] gradient!(result::DiffResults.MutableDiffResult{1, Float64, Tuple{Vector{Float64}}}, f::ECON627_UBC.var\"#11#22\"{Matrix{Float64}, Matrix{Float64}, Matrix{Float64}, Matrix{Float64}, ECON627_UBC.var\"#10#21\"{Matrix{Float64}, Matrix{Float64}, Matrix{Float64}, Matrix{Float64}, ECON627_UBC.var\"#gvec#18\"{ECON627_UBC.var\"#7#17\"{var\"#24#25\", Int64}, Int64}}}, x::Vector{Float64}, cfg::ForwardDiff.GradientConfig{ForwardDiff.Tag{ECON627_UBC.var\"#11#22\"{Matrix{Float64}, Matrix{Float64}, Matrix{Float64}, Matrix{Float64}, ECON627_UBC.var\"#10#21\"{Matrix{Float64}, Matrix{Float64}, Matrix{Float64}, Matrix{Float64}, ECON627_UBC.var\"#gvec#18\"{ECON627_UBC.var\"#7#17\"{var\"#24#25\", Int64}, Int64}}}, Float64}, Float64, 1, Vector{ForwardDiff.Dual{ForwardDiff.Tag{ECON627_UBC.var\"#11#22\"{Matrix{Float64}, Matrix{Float64}, Matrix{Float64}, Matrix{Float64}, ECON627_UBC.var\"#10#21\"{Matrix{Float64}, Matrix{Float64}, Matrix{Float64}, Matrix{Float64}, ECON627_UBC.var\"#gvec#18\"{ECON627_UBC.var\"#7#17\"{var\"#24#25\", Int64}, Int64}}}, Float64}, Float64, 1}}}, ::Val{true})\n",
      "        @ ForwardDiff C:\\Users\\steve\\.julia\\packages\\ForwardDiff\\PcZ48\\src\\gradient.jl:37\n",
      "      [5] gradient!(result::DiffResults.MutableDiffResult{1, Float64, Tuple{Vector{Float64}}}, f::ECON627_UBC.var\"#11#22\"{Matrix{Float64}, Matrix{Float64}, Matrix{Float64}, Matrix{Float64}, ECON627_UBC.var\"#10#21\"{Matrix{Float64}, Matrix{Float64}, Matrix{Float64}, Matrix{Float64}, ECON627_UBC.var\"#gvec#18\"{ECON627_UBC.var\"#7#17\"{var\"#24#25\", Int64}, Int64}}}, x::Vector{Float64}, cfg::ForwardDiff.GradientConfig{ForwardDiff.Tag{ECON627_UBC.var\"#11#22\"{Matrix{Float64}, Matrix{Float64}, Matrix{Float64}, Matrix{Float64}, ECON627_UBC.var\"#10#21\"{Matrix{Float64}, Matrix{Float64}, Matrix{Float64}, Matrix{Float64}, ECON627_UBC.var\"#gvec#18\"{ECON627_UBC.var\"#7#17\"{var\"#24#25\", Int64}, Int64}}}, Float64}, Float64, 1, Vector{ForwardDiff.Dual{ForwardDiff.Tag{ECON627_UBC.var\"#11#22\"{Matrix{Float64}, Matrix{Float64}, Matrix{Float64}, Matrix{Float64}, ECON627_UBC.var\"#10#21\"{Matrix{Float64}, Matrix{Float64}, Matrix{Float64}, Matrix{Float64}, ECON627_UBC.var\"#gvec#18\"{ECON627_UBC.var\"#7#17\"{var\"#24#25\", Int64}, Int64}}}, Float64}, Float64, 1}}})\n",
      "        @ ForwardDiff C:\\Users\\steve\\.julia\\packages\\ForwardDiff\\PcZ48\\src\\gradient.jl:35\n",
      "      [6] (::NLSolversBase.var\"#42#48\"{ECON627_UBC.var\"#11#22\"{Matrix{Float64}, Matrix{Float64}, Matrix{Float64}, Matrix{Float64}, ECON627_UBC.var\"#10#21\"{Matrix{Float64}, Matrix{Float64}, Matrix{Float64}, Matrix{Float64}, ECON627_UBC.var\"#gvec#18\"{ECON627_UBC.var\"#7#17\"{var\"#24#25\", Int64}, Int64}}}, ForwardDiff.GradientConfig{ForwardDiff.Tag{ECON627_UBC.var\"#11#22\"{Matrix{Float64}, Matrix{Float64}, Matrix{Float64}, Matrix{Float64}, ECON627_UBC.var\"#10#21\"{Matrix{Float64}, Matrix{Float64}, Matrix{Float64}, Matrix{Float64}, ECON627_UBC.var\"#gvec#18\"{ECON627_UBC.var\"#7#17\"{var\"#24#25\", Int64}, Int64}}}, Float64}, Float64, 1, Vector{ForwardDiff.Dual{ForwardDiff.Tag{ECON627_UBC.var\"#11#22\"{Matrix{Float64}, Matrix{Float64}, Matrix{Float64}, Matrix{Float64}, ECON627_UBC.var\"#10#21\"{Matrix{Float64}, Matrix{Float64}, Matrix{Float64}, Matrix{Float64}, ECON627_UBC.var\"#gvec#18\"{ECON627_UBC.var\"#7#17\"{var\"#24#25\", Int64}, Int64}}}, Float64}, Float64, 1}}}})(out::Vector{Float64}, x::Vector{Float64})\n",
      "        @ NLSolversBase C:\\Users\\steve\\.julia\\packages\\NLSolversBase\\kavn7\\src\\objective_types\\twicedifferentiable.jl:132\n",
      "      [7] value_gradient_hessian!!(obj::TwiceDifferentiable{Float64, Vector{Float64}, Matrix{Float64}, Vector{Float64}}, x::Vector{Float64})\n",
      "        @ NLSolversBase C:\\Users\\steve\\.julia\\packages\\NLSolversBase\\kavn7\\src\\objective_types\\incomplete.jl:135\n",
      "      [8] initial_state(method::NewtonTrustRegion{Float64}, options::Optim.Options{Float64, Nothing}, d::TwiceDifferentiable{Float64, Vector{Float64}, Matrix{Float64}, Vector{Float64}}, initial_x::Vector{Float64})\n",
      "        @ Optim C:\\Users\\steve\\.julia\\packages\\Optim\\V8ZEC\\src\\multivariate\\solvers\\second_order\\newton_trust_region.jl:310\n",
      "      [9] optimize\n",
      "        @ C:\\Users\\steve\\.julia\\packages\\Optim\\V8ZEC\\src\\multivariate\\optimize\\optimize.jl:36 [inlined]\n",
      "     [10] #optimize#89\n",
      "        @ C:\\Users\\steve\\.julia\\packages\\Optim\\V8ZEC\\src\\multivariate\\optimize\\interface.jl:143 [inlined]\n",
      "     [11] NLGMM(Y::Matrix{Float64}, X::Matrix{Float64}, Z::Matrix{Float64}, W::Matrix{Float64}, g::var\"#24#25\")\n",
      "        @ ECON627_UBC c:\\Users\\steve\\Documents\\GitHub\\ECON627_UBC.jl\\src\\ECON627_UBC.jl:151\n",
      "     [12] macro expansion\n",
      "        @ C:\\Users\\steve\\.julia\\packages\\UnPack\\EkESO\\src\\UnPack.jl:100 [inlined]\n",
      "     [13] macro expansion\n",
      "        @ c:\\Users\\steve\\Documents\\GitHub\\ECON627_UBC.jl\\jupyter_notebooks\\EstimatorsECON627.ipynb:11 [inlined]\n",
      "     [14] (::var\"#128#threadsfor_fun#27\"{var\"#128#threadsfor_fun#26#28\"{UnitRange{Int64}}})(tid::Int64; onethread::Bool)\n",
      "        @ Main .\\threadingconstructs.jl:84\n",
      "     [15] #128#threadsfor_fun\n",
      "        @ .\\threadingconstructs.jl:51 [inlined]\n",
      "     [16] (::Base.Threads.var\"#1#2\"{var\"#128#threadsfor_fun#27\"{var\"#128#threadsfor_fun#26#28\"{UnitRange{Int64}}}, Int64})()\n",
      "        @ Base.Threads .\\threadingconstructs.jl:30\n",
      "\n",
      "Stacktrace:\n",
      " [1] wait\n",
      "   @ .\\task.jl:345 [inlined]\n",
      " [2] threading_run(fun::var\"#128#threadsfor_fun#27\"{var\"#128#threadsfor_fun#26#28\"{UnitRange{Int64}}}, static::Bool)\n",
      "   @ Base.Threads .\\threadingconstructs.jl:38\n",
      " [3] top-level scope\n",
      "   @ .\\threadingconstructs.jl:89"
     ]
    }
   ],
   "source": [
    "n=1000\n",
    "R=10^3\n",
    "\n",
    "θcoverage95 = zeros(R)\n",
    "\n",
    "Threads.@threads for r=1:R\n",
    "    \n",
    "    @unpack Xendo, Xexo,Y,Z1 = data_generating_gmm(;n=n)\n",
    "    X=hcat(Xendo,Xexo)\n",
    "    Z=hcat(Xexo,Z1)\n",
    "    @unpack θhat, se = NLGMM(Y, X, Z,W,g) \n",
    "    \n",
    "    lower_ci  = θhat .- 1.96.*se/sqrt(n)\n",
    "    upper_ci  = θhat .+ 1.96.*se/sqrt(n)\n",
    "    θcoverage95[r] = (lower_ci[1]<1.0)*(upper_ci[1]>1.0)\n",
    "end\n",
    "\n",
    "sum(θcoverage95)/R"
   ]
  },
  {
   "cell_type": "markdown",
   "metadata": {},
   "source": [
    "## 4. MLE"
   ]
  },
  {
   "cell_type": "markdown",
   "metadata": {},
   "source": [
    " - Population Criterion : $Q(\\theta) = -\\mathbf{E} \\log f(W_i,\\theta)$ \n",
    " - Sample Criterion: $Q_n(\\theta) = -\\frac{1}{n}   \\sum_{i=1}^n f(W_i,\\theta) $\n",
    " - Gradient:  $\\frac{\\partial Q_n(\\theta_0)}{\\partial \\theta} = -\\frac{1}{n}   \\sum_{i=1}^n \\frac{\\partial}{\\partial \\theta} f(W_i,\\theta_0)$\n",
    " - Hessian: $\\frac{\\partial Q_n(\\theta_0)}{\\partial \\theta \\partial \\theta'} = -\\frac{1}{n}   \\sum_{i=1}^n \\frac{\\partial^2}{\\partial \\theta \\partial \\theta'} f(W_i,\\theta)$\n",
    " $\\rightarrow_p -\\mathbf{E} \\frac{\\partial^2}{\\partial \\theta \\partial \\theta'} \\log f(W_i,\\theta_0)  $ \n",
    " - Influence function: $\\xi_i := \\left[ \\mathbf{E} \\frac{\\partial^2}{\\partial \\theta \\partial \\theta'} \\log f(W_i,\\theta_0)  \\right]^{-1} \\frac{\\partial}{\\partial \\theta} \\log f(W_i,\\theta_0)  $ \n",
    " \n",
    "Therefore, the asymptotic variance is given by \n",
    "$ \\left[ \\mathbf{E} \\frac{\\partial^2}{\\partial \\theta \\partial \\theta'} \\log f(W_i,\\theta_0)  \\right]^{-1} \\mathbf{E}[ \\frac{\\partial}{\\partial \\theta} \\log f(W_i,\\theta_0) \\frac{\\partial}{\\partial \\theta'} \\log f(W_i,\\theta_0) ] \\left[ \\mathbf{E} \\frac{\\partial^2}{\\partial \\theta \\partial \\theta'} \\log f(W_i,\\theta_0)  \\right]^{-1} $\n",
    "\n",
    "Under correctly specified MLE the matrix inside $\\Omega_0$ equals the Hessian $B_0$, and the asymptotic variance is reduced to the inverse of the Hessian matrix. If that is not the case, the minimizer is a pseudo-true parameter and this is called the Quasi-MLE approach.  "
   ]
  },
  {
   "cell_type": "code",
   "execution_count": 19,
   "metadata": {},
   "outputs": [],
   "source": [
    "using Parameters, LinearAlgebra, Distributions, Optim, ForwardDiff"
   ]
  },
  {
   "cell_type": "code",
   "execution_count": 20,
   "metadata": {},
   "outputs": [
    {
     "data": {
      "text/plain": [
       "Λ (generic function with 1 method)"
      ]
     },
     "metadata": {},
     "output_type": "display_data"
    }
   ],
   "source": [
    "function data_generating_mle(;n=1000)\n",
    "      \n",
    "    X=randn(n)\n",
    "    u=randn(n)\n",
    "    Y=(u .< 1.0 .+ X)\n",
    "    X = hcat(ones(n), X)\n",
    "    return (Y=Y,X= X )\n",
    "end\n",
    "\n",
    "Φ(v)=cdf(Normal(0,1),v)\n",
    "ϕ(v)=pdf(Normal(0,1),v)\n",
    "Λ(v) = 1 / (1 + exp(-v))\n",
    "\n"
   ]
  },
  {
   "cell_type": "code",
   "execution_count": 21,
   "metadata": {},
   "outputs": [
    {
     "data": {
      "text/plain": [
       "LogL_Logit (generic function with 1 method)"
      ]
     },
     "metadata": {},
     "output_type": "display_data"
    }
   ],
   "source": [
    "function LogL_Probit(θ,X,Y)\n",
    "    n=length(Y)\n",
    "    LL=0.0\n",
    "    X1 = X[:,1] \n",
    "    X2 = X[:,2]\n",
    "    for i=1:n\n",
    "        indx=X1[i]*θ[1]+X2[i]*θ[2]\n",
    "        LL -=Y[i]*log(Φ(indx))+(1-Y[i])*log(1-Φ(indx))\n",
    "    end\n",
    "    return LL/n\n",
    "end\n",
    "\n",
    "\n",
    "function LogL_Logit(θ,X,Y)\n",
    "    n=length(Y)\n",
    "    LL=0.0\n",
    "    X1 = X[:,1] \n",
    "    X2 = X[:,2]\n",
    "    for i=1:n\n",
    "        indx=X1[i]*θ[1]+X2[i]*θ[2]\n",
    "        LL -=Y[i]*log(Λ(indx))+(1-Y[i])*log(1-Λ(indx))\n",
    "    end\n",
    "    return LL/n\n",
    "end"
   ]
  },
  {
   "cell_type": "code",
   "execution_count": null,
   "metadata": {},
   "outputs": [],
   "source": [
    "@unpack X,Y = data_generating_mle(;n=1000)\n",
    "@unpack θhat_probit, se_probit = MLE(Y,X,LogL_Probit)\n",
    "@unpack θhat_logit, se_logit = MLE(Y,X,LogL_Logit)\n"
   ]
  },
  {
   "cell_type": "code",
   "execution_count": null,
   "metadata": {},
   "outputs": [],
   "source": [
    "n=1000\n",
    "R=10^3\n",
    "\n",
    "θcoverage95 = zeros(R)\n",
    "\n",
    "Threads.@threads for r=1:R\n",
    "    \n",
    "    @unpack X,Y = data_generating_mle(;n=1000)\n",
    "    @unpack θhat, se = MLE(X,Y)\n",
    "\n",
    "    lower_ci  = θhat .- 1.96.*se/sqrt(n)\n",
    "    upper_ci  = θhat .+ 1.96.*se/sqrt(n)\n",
    "    θcoverage95[r] = (lower_ci[1]<1.0)*(upper_ci[1]>1.0)\n",
    "end\n",
    "\n",
    "sum(θcoverage95)/R"
   ]
  },
  {
   "cell_type": "markdown",
   "metadata": {},
   "source": [
    "## 5. Non-linear Least Squares"
   ]
  },
  {
   "cell_type": "markdown",
   "metadata": {},
   "source": [
    " - Population Criterion : $Q(\\theta) = \\mathbf{E} \\left[ (Y_i - g(X_i,\\theta))^2 \\right]/2$\n",
    " - Sample Criterion: $Q_n(\\theta) = \\frac{1}{n} \\sum_{i=1}^n (Y_i - g(X_i,\\theta))^2/2$\n",
    " - Gradient:  $\\frac{\\partial Q_n(\\theta_0)}{\\partial \\theta} = - \\frac{1}{n} \\sum_{i=1}^n \\frac{\\partial}{\\partial \\theta} g(X_i,\\theta_0) (Y_i-g(X_i,\\theta_0))$\n",
    " - Hessian: $\\frac{\\partial Q_n(\\theta_0)}{\\partial \\theta \\partial \\theta'} = \\frac{1}{n} \\sum_{i=1}^n \\{ \\frac{\\partial}{\\partial \\theta} g(X_i,\\theta_0) \\frac{\\partial}{\\partial \\theta} g(X_i,\\theta_0)' - U_i \\frac{\\partial^2}{\\partial \\theta \\partial \\theta'} g(X_i,\\theta_0) \\}  \\rightarrow_p \\mathbf{E}\\left[ \\frac{\\partial}{\\partial \\theta} g(X_i,\\theta_0) \\frac{\\partial}{\\partial \\theta} g(X_i,\\theta_0)'\\right] - \\mathbf{E} \\left[ U_i \\frac{\\partial^2}{\\partial \\theta \\partial \\theta'} g(X_i,\\theta_0)\\right]$\n",
    " \n",
    " where the second component is equal to 0 if the model is correctly specified $\\mathbf{E}[U_i \\mid X_i] =0$ and the law of iterated expectations. I will assume the model is correctly specified to simplify the algebra below. \n",
    " \n",
    " - Influence function: $\\xi_i :=   (\\mathbf{E}\\left[ \\frac{\\partial}{\\partial \\theta} g(X_i,\\theta_0) \\frac{\\partial}{\\partial \\theta} g(X_i,\\theta_0)'\\right])^{-1} \\frac{\\partial}{\\partial \\theta} g(X_i,\\theta_0) U_i$ \n",
    " \n",
    "Therefore, the asymptotic variance is given by \n",
    "$  (\\mathbf{E}\\left[ \\frac{\\partial}{\\partial \\theta} g(X_i,\\theta_0) \\frac{\\partial}{\\partial \\theta} g(X_i,\\theta_0)'\\right])^{-1} \\mathbf{E}[ U_i^2 \\frac{\\partial}{\\partial \\theta} g(X_i,\\theta_0) \\frac{\\partial}{\\partial \\theta} g(X_i,\\theta_0)']  (\\mathbf{E}\\left[ \\frac{\\partial}{\\partial \\theta} g(X_i,\\theta_0) \\frac{\\partial}{\\partial \\theta} g(X_i,\\theta_0)'\\right])^{-1}  $"
   ]
  },
  {
   "cell_type": "code",
   "execution_count": 24,
   "metadata": {},
   "outputs": [],
   "source": [
    "using Parameters, LinearAlgebra, Distributions, Optim, ForwardDiff"
   ]
  },
  {
   "cell_type": "code",
   "execution_count": 25,
   "metadata": {},
   "outputs": [
    {
     "data": {
      "text/plain": [
       "data_generating_nls (generic function with 1 method)"
      ]
     },
     "metadata": {},
     "output_type": "display_data"
    }
   ],
   "source": [
    "function data_generating_nls(;n=1000)\n",
    "    #Define the Multivariate Normal Distribution instance\n",
    "    mvnormal = MvNormal([1.0; 2.0], [1 0.7; 0.7 1]);\n",
    "    \n",
    "    #Define Logistic Link function \n",
    "    g = (x, b) -> (1 .+ exp.(-x * b)) .^ -1\n",
    "    \n",
    "    #Matrix X (n x 2 ) and ε (n x 1)\n",
    "    X = rand(mvnormal,n)\n",
    "    X = transpose(X)\n",
    "    ε = randn(n, 1)\n",
    "    \n",
    "    #Vector y\n",
    "    Y = g(X,[1.0, -1.0]) + ε\n",
    "        \n",
    "    #Return the data\n",
    "    return (X = X , Y = Y)\n",
    "end"
   ]
  },
  {
   "cell_type": "code",
   "execution_count": 26,
   "metadata": {},
   "outputs": [
    {
     "data": {
      "text/plain": [
       "(θhat = [0.8376579661664639, -0.7386012310042075], se = [0.22300703875034458, 0.16026591368123383])"
      ]
     },
     "metadata": {},
     "output_type": "display_data"
    }
   ],
   "source": [
    "@unpack X,Y = data_generating_nls()\n",
    "g = (x, b) -> (1 .+ exp.(-x * b)) .^ -1\n",
    "\n",
    "@unpack θhat, se = nls(g,Y,X)"
   ]
  },
  {
   "cell_type": "code",
   "execution_count": 27,
   "metadata": {},
   "outputs": [
    {
     "data": {
      "text/plain": [
       "0.044"
      ]
     },
     "metadata": {},
     "output_type": "display_data"
    }
   ],
   "source": [
    "n=1000\n",
    "R=10^3\n",
    "\n",
    "θcoverage95 = zeros(R)\n",
    "g = (x, b) -> (1 .+ exp.(-x * b)) .^ -1\n",
    "\n",
    "Threads.@threads for r=1:R\n",
    "    \n",
    "    @unpack X,Y = data_generating_nls(;n=n)\n",
    "    @unpack θhat, se = nls(g,Y,X)\n",
    "    \n",
    "    lower_ci  = θhat .- 1.96.*se/sqrt(n)\n",
    "    upper_ci  = θhat .+ 1.96.*se/sqrt(n)\n",
    "    θcoverage95[r] = (lower_ci[1]<1.0)*(upper_ci[1]>1.0)\n",
    "end\n",
    "\n",
    "sum(θcoverage95)/R"
   ]
  },
  {
   "cell_type": "markdown",
   "metadata": {},
   "source": [
    "## 6. Minimum Distance"
   ]
  },
  {
   "cell_type": "markdown",
   "metadata": {},
   "source": [
    " - Population Criterion : $Q(\\theta) = (\\pi_0 - g(\\theta))' A'A (\\pi_0 - g(\\theta))/2$, \n",
    " - Sample Criterion: $Q_n(\\theta) = (\\hat{\\pi}_n - g(\\theta))' A_n'A_n (\\hat{\\pi}_n - g(\\theta))/2$\n",
    " \n",
    "  where $\\sqrt n (\\hat{\\pi}_n - \\pi_0 ) \\rightarrow_p \\mathcal{N}(0,V_0)$ is a first-step estimator.\n",
    "\n",
    " - Gradient:  $\\frac{\\partial Q_n(\\theta_0)}{\\partial \\theta} = - \\left( \\frac{\\partial g(\\theta_0)}{\\partial \\theta} \\right)' A_n'A_n (\\hat{\\pi}_n - g(\\theta_0))$\n",
    "  - Hessian: $\\frac{\\partial Q_n(\\theta_0)}{\\partial \\theta \\partial \\theta'} = \\left( \\frac{\\partial g(\\theta_0)}{\\partial \\theta} \\right)' A_n'A_n  \\left( \\frac{\\partial g(\\theta_0)}{\\partial \\theta} \\right) + \\left[I_k \\otimes (\\hat{\\pi}_n-g(\\theta_0))' A_n'A_n \\right] \\frac{\\partial}{\\partial \\theta'} vec\\left(  \\frac{\\partial g(\\theta_0)}{\\partial \\theta'}\\right) $\n",
    "$\\rightarrow_p \\Gamma_0 A'A\\Gamma_0 + \\left[ I_k \\otimes (\\pi_0-g(\\theta_0))' A'A  \\right] \\frac{\\partial}{\\partial \\theta'} vec\\left(  \\frac{\\partial g(\\theta_0)}{\\partial \\theta'}\\right) $\n",
    " \n",
    " where the second component is equal to 0 if the model is correctly specified $\\pi_0 = g(\\theta_0)$. I will assume the model is correctly specified to simplify the algebra below. \n",
    " \n",
    " - Influence function: $\\xi_i :=   (\\mathbf{E}\\left[ \\frac{\\partial}{\\partial \\theta} g(X_i,\\theta_0) \\frac{\\partial}{\\partial \\theta} g(X_i,\\theta_0)'\\right])^{-1} \\frac{\\partial}{\\partial \\theta} g(X_i,\\theta_0) U_i$ \n",
    " \n",
    "Therefore, the asymptotic variance is given by \n",
    "$  ( \\Gamma_0 A'A \\Gamma_0 )^{-1} \\Gamma_0 A'A \\xi_i^{\\pi} $, \n",
    "where $\\xi_i^{\\pi}$ is the influence function that comes from $\\sqrt n (\\hat{\\pi}_n - \\pi_0 )$ (i.e. the first step).\n"
   ]
  },
  {
   "cell_type": "markdown",
   "metadata": {},
   "source": [
    "## 7. Quantile Regression "
   ]
  },
  {
   "cell_type": "markdown",
   "metadata": {},
   "source": [
    "Recall that quantile regression is a special case where we encounter differentiability issues. The approach taken here is to construct a stochastic equicontinuous process such that we obtain a smooth function where we can apply a mean value expansion around the true value $\\theta_{\\tau,0}$.\n",
    "\n",
    "This approach yields the following asymptotic linear representation\n",
    "\n",
    "\\begin{align*}\n",
    "\\sqrt n (\\hat{\\theta}_{\\tau,n} - \\theta_{\\tau,0} ) &= - \\left( \\mathbf{E}[f(X_i'\\theta_{\\tau,0}) X_i X_i']\\right)^{-1} \\frac{1}{\\sqrt n} \\sum_{i=1}^n \\{  (\\tau - \\mathbf{1}\\{ Y_i < X_i'\\theta_{\\tau,0} \\} X_i \\} + o_P(1)\n",
    "\\end{align*}\n",
    "\n",
    "This implies that the influence function is given by \n",
    "$\\xi_i = \\left( \\mathbf{E}[f(X_i'\\theta_{\\tau,0}) X_i X_i']\\right)^{-1} \\{  (\\tau - \\mathbf{1}\\{ Y_i < X_i'\\theta_{\\tau,0} \\} X_i \\}$, and the asymptotic variance is given by $\\left( \\mathbf{E}[f(X_i'\\theta_{\\tau,0}) X_i X_i']\\right)^{-1}\\mathbf{E}[\\tau (1-\\tau) X_i X_i'] \\left(    \\mathbf{E}[f(X_i'\\theta_{\\tau,0}) X_i X_i']\\right)^{-1}$ by the L.I.E.\n",
    "\n"
   ]
  },
  {
   "cell_type": "code",
   "execution_count": 28,
   "metadata": {},
   "outputs": [],
   "source": [
    "using LinearAlgebra, JuMP, HiGHS, Optim, Statistics,Plots, Parameters"
   ]
  },
  {
   "cell_type": "code",
   "execution_count": 29,
   "metadata": {},
   "outputs": [],
   "source": [
    "function data_generating_qr(;n=1000)\n",
    "    X=randn(n,1).^2\n",
    "    U=rand(n,1)\n",
    "    Y=X .* (U .-0.5)\n",
    "    return (Y=Y, X=X)\n",
    "end\n",
    "\n",
    "#If you wanna estimate asy-var\n",
    "K(v)= abs(v) - 1 < 0 ?   0.5* (abs(v) - 1) : 0.0;"
   ]
  },
  {
   "cell_type": "code",
   "execution_count": 30,
   "metadata": {},
   "outputs": [
    {
     "data": {
      "text/plain": [
       "estimate_qreg (generic function with 1 method)"
      ]
     },
     "metadata": {},
     "output_type": "display_data"
    }
   ],
   "source": [
    "function estimate_qreg(;Y,X,τ)\n",
    "    \n",
    "    QR=Model(HiGHS.Optimizer)\n",
    "    set_silent(QR)\n",
    "    n=length(Y)\n",
    "    \n",
    "    c=[τ*ones(n,1);(1-τ)*ones(n,1);];\n",
    "    @variable(QR,x[1:2*n]>=0.0); #this includes the non-negativity constraint on z^{+} and z^{-}\n",
    "    @variable(QR,-100.0<=b<=100.0); #if you want to estimate vector b you use @variable(QR,-100.0<=b[1:k]<=100.0) where k is dimension\n",
    "    @objective(QR,Min,sum(c[i]*x[i] for i in 1:(2*n)));\n",
    "    @constraint(QR,constraint[i in 1:n],x[i]-x[n+i]+sum(X[i,:].*b)==Y[i]); #the equality constraint\n",
    "    optimize!(QR);\n",
    "    estr=value.(b)\n",
    "    \n",
    "    \n",
    "    #Drop this if you don't care about asy-var\n",
    "    \"Calculation of Asymptotic Variance\"\n",
    "    n=length(Y)\n",
    "    rhat= Y - X * estr;\n",
    "    h = 1.06 * std(rhat) * n ^ (-1 / 5);\n",
    "    Khat =  K.(rhat./h) ;\n",
    "\n",
    "    Ωhat = τ * (1 - τ) * (X' * X);\n",
    "    Bhat = ((X.*repeat(Khat,1,size(X,2)))' * X) ./ h;\n",
    "    v = n*(Bhat \\ Ωhat / Bhat);\n",
    "    \n",
    "    \n",
    "    return (θhat = estr , se = sqrt.(diag(v)) )\n",
    "end\n"
   ]
  },
  {
   "cell_type": "code",
   "execution_count": 31,
   "metadata": {},
   "outputs": [],
   "source": [
    "@unpack Y, X =data_generating_qr();\n",
    "@unpack θhat, se=estimate_qreg(;Y=Y,X=X,τ=0.25)"
   ]
  },
  {
   "cell_type": "code",
   "execution_count": null,
   "metadata": {},
   "outputs": [],
   "source": [
    "n=1000\n",
    "R=10^3\n",
    "τcheck=0.75\n",
    "θτ=τcheck-0.5\n",
    "θcoverage95 = zeros(R)\n",
    "\n",
    "# You can uncomment but it does take time to run, and you probably won't need this :) \n",
    "#Threads.@threads for r=1:R\n",
    "    \n",
    "    #@unpack Y, X =data_generating_qr(;n=n);\n",
    "    #@unpack θhat, se=estimate_qreg(;Y=Y,X=X,τ=τcheck)\n",
    "    \n",
    "    #lower_ci  = θhat .- 1.96.*se/sqrt(n)\n",
    "    #upper_ci  = θhat .+ 1.96.*se/sqrt(n)\n",
    "    #θcoverage95[r] = (lower_ci[1]<θτ)*(upper_ci[1]>θτ)\n",
    "#end\n",
    "\n",
    "sum(θcoverage95)/R"
   ]
  }
 ],
 "metadata": {
  "kernelspec": {
   "display_name": "Julia 1.8.5",
   "language": "julia",
   "name": "julia-1.8"
  },
  "language_info": {
   "file_extension": ".jl",
   "mimetype": "application/julia",
   "name": "julia",
   "version": "1.8.5"
  }
 },
 "nbformat": 4,
 "nbformat_minor": 4
}
