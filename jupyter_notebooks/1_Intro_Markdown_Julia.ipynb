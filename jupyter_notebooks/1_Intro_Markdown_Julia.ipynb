{
 "cells": [
  {
   "cell_type": "markdown",
   "metadata": {},
   "source": [
    "# ECON627: Introduction to Julia & Markdown\n",
    "\n",
    "## Paul Corcuera\n",
    "### Jan 18 , 2021\n",
    "****"
   ]
  },
  {
   "cell_type": "markdown",
   "metadata": {},
   "source": [
    "## 1. Basic Markdown Syntax\n",
    "\n",
    "****"
   ]
  },
  {
   "cell_type": "markdown",
   "metadata": {},
   "source": [
    "- To render a markdown code we need to specify in the following part of the Jupyter notebook \n",
    "\n",
    "![img](https://www.earthdatascience.org/images/courses/earth-analytics/bootcamp/jupyter-interface/change-cell-type.png) \n",
    "\n",
    "- To write a title we use hastag (#) and a space before writing a title. The number of # you use should correspond to the heading size, which goes from 1 to 6. For instance, we can write Hello with different heading sizes as # Hello; ## Hello; etc. \n",
    "\n",
    "- The corresponding output is"
   ]
  },
  {
   "cell_type": "markdown",
   "metadata": {},
   "source": [
    "# Hello\n",
    "## Hello\n",
    "### Hello\n",
    "etc."
   ]
  },
  {
   "cell_type": "markdown",
   "metadata": {},
   "source": [
    "- To put a line break we only use two or more spaces before hitting the *Enter* button.   \n",
    "\n",
    "- To create a new paragraph we just leave a blank line. \n",
    "\n",
    "- To create a horizontal rule to separate sections you can use three or more asterisks (\\*\\*\\*), dashes (---), or underscores (\\_\\_\\_) on a line by themselves. They all produce the same output.\n",
    "\n",
    "- We can also use HTML syntax to center some text. For instance,"
   ]
  },
  {
   "cell_type": "markdown",
   "metadata": {},
   "source": [
    "    <center>\n",
    "    Hello\n",
    "    </center>"
   ]
  },
  {
   "cell_type": "markdown",
   "metadata": {},
   "source": [
    "    will produce the following output:\n",
    "\n",
    "<center>\n",
    "Hello \n",
    "</center>\n",
    "\n",
    "- To denote a word or phrase as code, enclose it in backticks (\\`). The output looks like this: `GMMreg`.\n",
    "\n",
    "- To write math code we can use the dollar symbol, just as if we were in latex. If we use double dollar symbols we center an equation. The way we write the equations and greek letters works the same way as LaTeX code, i.e., to write $\\beta$ we use backslash and the word beta. \n",
    "\n",
    "$$ y_i =  x_i \\beta + \\epsilon_i $$\n",
    "\n",
    "- To write an indented block of text/code we can use the *TAB* button to indent a part of the text/code. \n"
   ]
  },
  {
   "cell_type": "markdown",
   "metadata": {},
   "source": [
    "    This is like a verbose mode, i.e.\n",
    "    symbols such as < or \\beta will not be \n",
    "    rendered as code."
   ]
  },
  {
   "cell_type": "markdown",
   "metadata": {},
   "source": [
    "- Alternatively, instead of indenting with *TAB* you can use triple backticks (\\`) and write julia, to have an indented block interpreted as julia code. If you write \\`\\`\\`julia and then close with \\`\\`\\` your code shows up like this."
   ]
  },
  {
   "cell_type": "markdown",
   "metadata": {},
   "source": [
    "```julia\n",
    "AKMreg(df::DataFrame, y::String, idvar::String, firmidvar::String)\n",
    "```"
   ]
  },
  {
   "cell_type": "markdown",
   "metadata": {},
   "source": [
    "  this is super useful if you want to explain what your function does!\n",
    "   \n",
    "- To display literal characters, like \\`, you need to add a backslash (\\\\) before the symbol.\n",
    "\n",
    "- This should be more than enough to be able to type the solutions to the problem sets in a Jupyter Notebook. You can explore more stuff by following [this link](https://www.markdownguide.org/basic-syntax/). \n",
    "\n",
    "- To export the notebook you can find the option *Export Notebook As* in the *File tab*, and you choose the option that says HTML. "
   ]
  },
  {
   "cell_type": "markdown",
   "metadata": {},
   "source": [
    "## 2. Julia Essentials\n",
    "\n",
    "****"
   ]
  },
  {
   "cell_type": "markdown",
   "metadata": {},
   "source": [
    "Julia has many of the standard primitive types. "
   ]
  },
  {
   "cell_type": "code",
   "execution_count": 1,
   "metadata": {},
   "outputs": [
    {
     "name": "stderr",
     "output_type": "stream",
     "text": [
      "\u001b[32m\u001b[1m Activating\u001b[22m\u001b[39m environment at `C:\\Users\\paulc\\.julia\\dev\\ECON627_2020\\Project.toml`\n"
     ]
    }
   ],
   "source": [
    "using Pkg\n",
    "Pkg.activate(joinpath(pwd(),\"..\"))"
   ]
  },
  {
   "cell_type": "code",
   "execution_count": 2,
   "metadata": {},
   "outputs": [
    {
     "data": {
      "text/plain": [
       "(\"hello\", 3.5)"
      ]
     },
     "execution_count": 2,
     "metadata": {},
     "output_type": "execute_result"
    }
   ],
   "source": [
    "x = 1 #Int\n",
    "y = 1.0 #Float\n",
    "boolean = true\n",
    "array = [1;2]\n",
    "matrix = [1 2 3 ; 4 5 6]\n",
    "tuple = (\"hello\", 3.5)"
   ]
  },
  {
   "cell_type": "markdown",
   "metadata": {},
   "source": [
    "We can look at the type using the `typeof` function. "
   ]
  },
  {
   "cell_type": "code",
   "execution_count": 3,
   "metadata": {},
   "outputs": [
    {
     "data": {
      "text/plain": [
       "Array{Int64,1}"
      ]
     },
     "execution_count": 3,
     "metadata": {},
     "output_type": "execute_result"
    }
   ],
   "source": [
    "typeof(array)"
   ]
  },
  {
   "cell_type": "markdown",
   "metadata": {},
   "source": [
    "To supress output we can put a `;` after a line of code. "
   ]
  },
  {
   "cell_type": "code",
   "execution_count": 4,
   "metadata": {},
   "outputs": [],
   "source": [
    "x = 3.5; "
   ]
  },
  {
   "cell_type": "markdown",
   "metadata": {},
   "source": [
    "If we want to show different lines of code we can use the macro `@show`."
   ]
  },
  {
   "cell_type": "code",
   "execution_count": 5,
   "metadata": {},
   "outputs": [
    {
     "name": "stdout",
     "output_type": "stream",
     "text": [
      "x + y = 4.5\n",
      "matrix * matrix' = [14 32; 32 77]\n"
     ]
    },
    {
     "data": {
      "text/plain": [
       "2×2 Array{Int64,2}:\n",
       " 14  32\n",
       " 32  77"
      ]
     },
     "execution_count": 5,
     "metadata": {},
     "output_type": "execute_result"
    }
   ],
   "source": [
    "@show x + y \n",
    "@show matrix*matrix'"
   ]
  },
  {
   "cell_type": "markdown",
   "metadata": {},
   "source": [
    "We can also use the `println()` function to print output."
   ]
  },
  {
   "cell_type": "code",
   "execution_count": 6,
   "metadata": {},
   "outputs": [
    {
     "name": "stdout",
     "output_type": "stream",
     "text": [
      "The value of x is 3.5\n",
      "The value of y is 1.0\n"
     ]
    }
   ],
   "source": [
    "println(\"The value of x is \", x)\n",
    "println(\"The value of y is \", y)"
   ]
  },
  {
   "cell_type": "code",
   "execution_count": 7,
   "metadata": {},
   "outputs": [
    {
     "name": "stdout",
     "output_type": "stream",
     "text": [
      "We can also print in multiple\n",
      "lines of code.\n"
     ]
    }
   ],
   "source": [
    "println(\"We can also print in multiple\\nlines of code.\")"
   ]
  },
  {
   "cell_type": "markdown",
   "metadata": {},
   "source": [
    "#### Iterables"
   ]
  },
  {
   "cell_type": "code",
   "execution_count": 8,
   "metadata": {},
   "outputs": [
    {
     "name": "stdout",
     "output_type": "stream",
     "text": [
      "3\n",
      "4\n",
      "5\n"
     ]
    }
   ],
   "source": [
    "β = [3;4;5]\n",
    "for i in β\n",
    "   println(i)     \n",
    "end"
   ]
  },
  {
   "cell_type": "code",
   "execution_count": 9,
   "metadata": {},
   "outputs": [
    {
     "data": {
      "text/plain": [
       "UnitRange{Int64}"
      ]
     },
     "execution_count": 9,
     "metadata": {},
     "output_type": "execute_result"
    }
   ],
   "source": [
    "range_obj = 1:3\n",
    "array_obj = collect(range_obj)\n",
    "typeof(range_obj)"
   ]
  },
  {
   "cell_type": "markdown",
   "metadata": {},
   "source": [
    "We can also loop over Range objects."
   ]
  },
  {
   "cell_type": "code",
   "execution_count": 10,
   "metadata": {},
   "outputs": [
    {
     "name": "stdout",
     "output_type": "stream",
     "text": [
      "1\n",
      "2\n",
      "3\n"
     ]
    }
   ],
   "source": [
    "for i in range_obj\n",
    "    println(i)\n",
    "end"
   ]
  },
  {
   "cell_type": "code",
   "execution_count": 11,
   "metadata": {},
   "outputs": [
    {
     "name": "stdout",
     "output_type": "stream",
     "text": [
      "Element 1 of array is: 1\n",
      "Element 2 of array is: 2\n",
      "Element 3 of array is: 3\n"
     ]
    }
   ],
   "source": [
    "for i in eachindex(array_obj)\n",
    "    println(\"Element \",i,\" of array is: \", array_obj[i])\n",
    "end"
   ]
  },
  {
   "cell_type": "markdown",
   "metadata": {},
   "source": [
    "#### Indexing\n",
    "\n",
    "It works pretty much the same way as Matlab."
   ]
  },
  {
   "cell_type": "code",
   "execution_count": 12,
   "metadata": {},
   "outputs": [
    {
     "name": "stdout",
     "output_type": "stream",
     "text": [
      "The last element is 5\n",
      "The second element is 2\n"
     ]
    }
   ],
   "source": [
    "array = [1; 2; 4 ; 5]\n",
    "println(\"The last element is \", array[end])\n",
    "println(\"The second element is \", array[2])"
   ]
  },
  {
   "cell_type": "code",
   "execution_count": 13,
   "metadata": {},
   "outputs": [
    {
     "name": "stdout",
     "output_type": "stream",
     "text": [
      "Element (1,1) is: 1\n",
      "Element (1,2) is: 2\n",
      "Element (1,3) is: 3\n",
      "Element (2,1) is: 4\n",
      "Element (2,2) is: 5\n",
      "Element (2,3) is: 6\n"
     ]
    }
   ],
   "source": [
    "matrix = [1 2 3 ;4 5 6]\n",
    "\n",
    "for row in 1:size(matrix,1)\n",
    "    for col in 1:size(matrix,2)\n",
    "        println(\"Element ($row,$col) is: \",matrix[row,col])\n",
    "    end\n",
    "end"
   ]
  },
  {
   "cell_type": "markdown",
   "metadata": {},
   "source": [
    "#### Comprehensions\n",
    "\n",
    "These are easy ways to create arrays without writing many lines of code."
   ]
  },
  {
   "cell_type": "code",
   "execution_count": 14,
   "metadata": {},
   "outputs": [
    {
     "data": {
      "text/plain": [
       "3-element Array{Int64,1}:\n",
       " 45\n",
       " 30\n",
       " 92"
      ]
     },
     "execution_count": 14,
     "metadata": {},
     "output_type": "execute_result"
    }
   ],
   "source": [
    "array = [45; 32 ; 30 ; 85 ; 92]\n",
    "\n",
    "#These are the indices that we want to use of the array\n",
    "selection = [1;3;5]\n",
    "\n",
    "array_subset = [ array[i] for i in selection]"
   ]
  },
  {
   "cell_type": "code",
   "execution_count": 15,
   "metadata": {},
   "outputs": [
    {
     "data": {
      "text/plain": [
       "3-element Array{Int64,1}:\n",
       " 45\n",
       " 85\n",
       " 92"
      ]
     },
     "execution_count": 15,
     "metadata": {},
     "output_type": "execute_result"
    }
   ],
   "source": [
    "#Returns the indices that satisfy the condition\n",
    "selection = findall(x-> x>=35, array)\n",
    "\n",
    "array_subset2 = [array[x] for x in selection]"
   ]
  },
  {
   "cell_type": "code",
   "execution_count": 16,
   "metadata": {},
   "outputs": [
    {
     "data": {
      "text/plain": [
       "3-element Array{Int64,1}:\n",
       " 2\n",
       " 4\n",
       " 6"
      ]
     },
     "execution_count": 16,
     "metadata": {},
     "output_type": "execute_result"
    }
   ],
   "source": [
    "doubles = [2*i for i in 1:3]"
   ]
  },
  {
   "cell_type": "code",
   "execution_count": 17,
   "metadata": {},
   "outputs": [
    {
     "data": {
      "text/plain": [
       "3×2 Array{Int64,2}:\n",
       " 2  3\n",
       " 3  4\n",
       " 4  5"
      ]
     },
     "execution_count": 17,
     "metadata": {},
     "output_type": "execute_result"
    }
   ],
   "source": [
    "matrix_comprehension = [ i+j for i in 1:3, j in 1:2 ]"
   ]
  },
  {
   "cell_type": "markdown",
   "metadata": {},
   "source": [
    "Just as in Matlab we also have the functions `zeros()` and `ones()`."
   ]
  },
  {
   "cell_type": "code",
   "execution_count": 18,
   "metadata": {},
   "outputs": [
    {
     "data": {
      "text/plain": [
       "3-element Array{Float64,1}:\n",
       " 0.0\n",
       " 0.0\n",
       " 0.0"
      ]
     },
     "execution_count": 18,
     "metadata": {},
     "output_type": "execute_result"
    }
   ],
   "source": [
    "zeros(3)"
   ]
  },
  {
   "cell_type": "code",
   "execution_count": 19,
   "metadata": {},
   "outputs": [
    {
     "data": {
      "text/plain": [
       "3-element Array{Int64,1}:\n",
       " 0\n",
       " 0\n",
       " 0"
      ]
     },
     "execution_count": 19,
     "metadata": {},
     "output_type": "execute_result"
    }
   ],
   "source": [
    "zeros(Int64,3)"
   ]
  },
  {
   "cell_type": "code",
   "execution_count": 20,
   "metadata": {},
   "outputs": [
    {
     "data": {
      "text/plain": [
       "5-element Array{Float64,1}:\n",
       " 1.0\n",
       " 1.0\n",
       " 1.0\n",
       " 1.0\n",
       " 1.0"
      ]
     },
     "execution_count": 20,
     "metadata": {},
     "output_type": "execute_result"
    }
   ],
   "source": [
    "ones(5)"
   ]
  },
  {
   "cell_type": "markdown",
   "metadata": {},
   "source": [
    "#### Logical Operations"
   ]
  },
  {
   "cell_type": "code",
   "execution_count": 21,
   "metadata": {},
   "outputs": [
    {
     "data": {
      "text/plain": [
       "1"
      ]
     },
     "execution_count": 21,
     "metadata": {},
     "output_type": "execute_result"
    }
   ],
   "source": [
    "#This creates a global variable named x\n",
    "x = 1 "
   ]
  },
  {
   "cell_type": "code",
   "execution_count": 22,
   "metadata": {},
   "outputs": [
    {
     "data": {
      "text/plain": [
       "false"
      ]
     },
     "execution_count": 22,
     "metadata": {},
     "output_type": "execute_result"
    }
   ],
   "source": [
    "#We can test if this is equal to a value\n",
    "x == 2"
   ]
  },
  {
   "cell_type": "code",
   "execution_count": 23,
   "metadata": {},
   "outputs": [
    {
     "data": {
      "text/plain": [
       "true"
      ]
     },
     "execution_count": 23,
     "metadata": {},
     "output_type": "execute_result"
    }
   ],
   "source": [
    "x != 2"
   ]
  },
  {
   "cell_type": "code",
   "execution_count": 24,
   "metadata": {},
   "outputs": [
    {
     "data": {
      "text/plain": [
       "false"
      ]
     },
     "execution_count": 24,
     "metadata": {},
     "output_type": "execute_result"
    }
   ],
   "source": [
    "true && false"
   ]
  },
  {
   "cell_type": "code",
   "execution_count": 25,
   "metadata": {},
   "outputs": [
    {
     "data": {
      "text/plain": [
       "true"
      ]
     },
     "execution_count": 25,
     "metadata": {},
     "output_type": "execute_result"
    }
   ],
   "source": [
    "true || false"
   ]
  },
  {
   "cell_type": "markdown",
   "metadata": {},
   "source": [
    "#### Functions in Julia\n",
    "\n",
    "We can also perform something similar to the lambda functions in Matlab, and it's pretty straightforward."
   ]
  },
  {
   "cell_type": "code",
   "execution_count": 26,
   "metadata": {},
   "outputs": [
    {
     "data": {
      "text/plain": [
       "func (generic function with 1 method)"
      ]
     },
     "execution_count": 26,
     "metadata": {},
     "output_type": "execute_result"
    }
   ],
   "source": [
    "func(x) = x^2"
   ]
  },
  {
   "cell_type": "code",
   "execution_count": 27,
   "metadata": {},
   "outputs": [
    {
     "data": {
      "text/plain": [
       "0.010000000000000002"
      ]
     },
     "execution_count": 27,
     "metadata": {},
     "output_type": "execute_result"
    }
   ],
   "source": [
    "func(0.1)"
   ]
  },
  {
   "cell_type": "markdown",
   "metadata": {},
   "source": [
    "Alternatively, if the function is more complex, we can use the usual (and more verbose) way of defining functions."
   ]
  },
  {
   "cell_type": "code",
   "execution_count": 28,
   "metadata": {},
   "outputs": [
    {
     "data": {
      "text/plain": [
       "function2 (generic function with 1 method)"
      ]
     },
     "execution_count": 28,
     "metadata": {},
     "output_type": "execute_result"
    }
   ],
   "source": [
    "function function2(x,y)\n",
    "    return x+y\n",
    "end"
   ]
  },
  {
   "cell_type": "code",
   "execution_count": 29,
   "metadata": {},
   "outputs": [
    {
     "data": {
      "text/plain": [
       "4"
      ]
     },
     "execution_count": 29,
     "metadata": {},
     "output_type": "execute_result"
    }
   ],
   "source": [
    "function2(1,3)"
   ]
  },
  {
   "cell_type": "markdown",
   "metadata": {},
   "source": [
    "We can also broadcast a function to arrays, just like in Matlab, using a dot (.)."
   ]
  },
  {
   "cell_type": "code",
   "execution_count": 30,
   "metadata": {},
   "outputs": [
    {
     "data": {
      "text/plain": [
       "3-element Array{Int64,1}:\n",
       " 1\n",
       " 4\n",
       " 9"
      ]
     },
     "execution_count": 30,
     "metadata": {},
     "output_type": "execute_result"
    }
   ],
   "source": [
    "array = [1; 2 ; 3]\n",
    "func.(array)"
   ]
  },
  {
   "cell_type": "markdown",
   "metadata": {},
   "source": [
    "#### Scoping & Closures\n",
    "\n",
    "In general, sometimes we want to create an entire .jl file that contains functions to export (modules). In those cases, we have to be careful between the distinction of global vs local variables (scoping), and functions inside a functions become what is called a closure."
   ]
  },
  {
   "cell_type": "code",
   "execution_count": 31,
   "metadata": {},
   "outputs": [
    {
     "data": {
      "text/plain": [
       "0.05"
      ]
     },
     "execution_count": 31,
     "metadata": {},
     "output_type": "execute_result"
    }
   ],
   "source": [
    "x = 0.1 #This is global\n",
    "f(x) = x/2 #This x is local!\n",
    "\n",
    "f(x) #Calls the function with the argument given by the global variable."
   ]
  },
  {
   "cell_type": "code",
   "execution_count": 32,
   "metadata": {},
   "outputs": [
    {
     "data": {
      "text/plain": [
       "2.5"
      ]
     },
     "execution_count": 32,
     "metadata": {},
     "output_type": "execute_result"
    }
   ],
   "source": [
    "function h() # scope within the `h` function\n",
    "\n",
    "    square(x) = x^2 # local `x` in scope\n",
    "\n",
    "    # x is not bound to anything in this outer scope\n",
    "    y = 5\n",
    "    f(y) #By default Julia returns the last line inside the function\n",
    "    #It is equivalent to writing return f(y)\n",
    "end\n",
    "h() "
   ]
  },
  {
   "cell_type": "code",
   "execution_count": 33,
   "metadata": {},
   "outputs": [
    {
     "data": {
      "text/plain": [
       "0.5"
      ]
     },
     "execution_count": 33,
     "metadata": {},
     "output_type": "execute_result"
    }
   ],
   "source": [
    "function scalesquare(a)\n",
    "    f(x) = a * x^2  # refers to the `a` passed in the function (closure!)\n",
    "    return f(1)        \n",
    "end\n",
    "scalesquare(0.5)"
   ]
  },
  {
   "cell_type": "markdown",
   "metadata": {},
   "source": [
    "#### Return Named Tuples in a Function\n",
    "\n",
    "Sometimes we want to return many things from our function, and it is useful to name the different elements of the output so we can call them whenever we want."
   ]
  },
  {
   "cell_type": "code",
   "execution_count": 34,
   "metadata": {},
   "outputs": [
    {
     "data": {
      "text/plain": [
       "(s = 7, dif = -3, prod = 10)"
      ]
     },
     "execution_count": 34,
     "metadata": {},
     "output_type": "execute_result"
    }
   ],
   "source": [
    "function example(x,y)\n",
    "    a = x+y\n",
    "    b = x-y\n",
    "    c = x*y\n",
    "    return (s = a, dif = b, prod = c)\n",
    "end\n",
    "\n",
    "output = example(2,5)"
   ]
  },
  {
   "cell_type": "code",
   "execution_count": 35,
   "metadata": {},
   "outputs": [
    {
     "name": "stdout",
     "output_type": "stream",
     "text": [
      "The sum is :7. The dif is: -3.\n"
     ]
    }
   ],
   "source": [
    "println(\"The sum is :\",output.s,\". The dif is: \",output.dif,\".\")"
   ]
  },
  {
   "cell_type": "markdown",
   "metadata": {},
   "source": [
    "You can also use the Parameters package to unpack named tuples from a function. It creates objects with the same names as the named elements in the output."
   ]
  },
  {
   "cell_type": "code",
   "execution_count": 36,
   "metadata": {},
   "outputs": [
    {
     "data": {
      "text/plain": [
       "(s = 7, dif = -3, prod = 10)"
      ]
     },
     "execution_count": 36,
     "metadata": {},
     "output_type": "execute_result"
    }
   ],
   "source": [
    "using Parameters\n",
    "\n",
    "@unpack s, dif, prod = example(2,5)"
   ]
  },
  {
   "cell_type": "code",
   "execution_count": 37,
   "metadata": {},
   "outputs": [
    {
     "data": {
      "text/plain": [
       "7"
      ]
     },
     "execution_count": 37,
     "metadata": {},
     "output_type": "execute_result"
    }
   ],
   "source": [
    "s "
   ]
  },
  {
   "cell_type": "code",
   "execution_count": 38,
   "metadata": {},
   "outputs": [
    {
     "name": "stdout",
     "output_type": "stream",
     "text": [
      "The sum is :7. The dif is: -3.\n"
     ]
    }
   ],
   "source": [
    "#It is equivalent to indexing, but if we index we need to know the position of the things we want!\n",
    "println(\"The sum is :\",output[1],\". The dif is: \",output[2],\".\")"
   ]
  },
  {
   "cell_type": "markdown",
   "metadata": {},
   "source": [
    "#### Optional Arguments\n",
    "\n",
    "We include optional arguments in a function with the semi-colon (;). We must also set a default value for those arguments."
   ]
  },
  {
   "cell_type": "code",
   "execution_count": 39,
   "metadata": {},
   "outputs": [
    {
     "data": {
      "text/plain": [
       "example2 (generic function with 1 method)"
      ]
     },
     "execution_count": 39,
     "metadata": {},
     "output_type": "execute_result"
    }
   ],
   "source": [
    "function example2(x ; y = 2)\n",
    "    a = x+y\n",
    "    b = x-y\n",
    "    c = x*y\n",
    "    return (s = a, dif = b, prod = c)\n",
    "end"
   ]
  },
  {
   "cell_type": "code",
   "execution_count": 40,
   "metadata": {},
   "outputs": [
    {
     "data": {
      "text/plain": [
       "(s = 3, dif = -1, prod = 2)"
      ]
     },
     "execution_count": 40,
     "metadata": {},
     "output_type": "execute_result"
    }
   ],
   "source": [
    "example2(1)"
   ]
  },
  {
   "cell_type": "code",
   "execution_count": 41,
   "metadata": {},
   "outputs": [
    {
     "data": {
      "text/plain": [
       "(s = 6, dif = -4, prod = 5)"
      ]
     },
     "execution_count": 41,
     "metadata": {},
     "output_type": "execute_result"
    }
   ],
   "source": [
    "example2(1, y = 5)"
   ]
  },
  {
   "cell_type": "markdown",
   "metadata": {},
   "source": [
    "#### Multiple Dispatch\n",
    "\n",
    "One of the benefits of Julia is what is called multiple dispatch. Julia allows us to create different **methods** of the same function that work differently depending on the type of the arguments. For instance, if we are running OLS and we know that the design matrix (X) is very sparse we can leverage on this to construct a more efficient way to compute the vector of coefficients."
   ]
  },
  {
   "cell_type": "code",
   "execution_count": 42,
   "metadata": {},
   "outputs": [
    {
     "data": {
      "text/html": [
       "# 2 methods for generic function <b>somefunc</b>:<ul><li> somefunc(x::<b>AbstractArray</b>) in Main at In[42]:1</li> <li> somefunc(x::<b>Real</b>) in Main at In[42]:6</li> </ul>"
      ],
      "text/plain": [
       "# 2 methods for generic function \"somefunc\":\n",
       "[1] somefunc(x::AbstractArray) in Main at In[42]:1\n",
       "[2] somefunc(x::Real) in Main at In[42]:6"
      ]
     },
     "execution_count": 42,
     "metadata": {},
     "output_type": "execute_result"
    }
   ],
   "source": [
    "function somefunc(x::AbstractArray)\n",
    "    return sum(x)\n",
    "end\n",
    "\n",
    "\n",
    "function somefunc(x::Real)\n",
    "    return x \n",
    "end\n",
    "\n",
    "methods(somefunc)"
   ]
  },
  {
   "cell_type": "code",
   "execution_count": 43,
   "metadata": {},
   "outputs": [
    {
     "name": "stdout",
     "output_type": "stream",
     "text": [
      "6.0\n"
     ]
    }
   ],
   "source": [
    "#This calls the method that works on Range types\n",
    "sum(1:3)\n",
    "#This calls the method that works for Array types\n",
    "println(sum([1.0;2.0;3.0]))"
   ]
  },
  {
   "cell_type": "markdown",
   "metadata": {},
   "source": [
    "#### Installing Packages\n",
    "\n",
    "You can install packages from the terminal that is being run in the Jupyter Notebook by calling the Pkg package.  Alternatively, you can open the Julia application, change to your workspace directory, and type `]` to enter in the Pkg mode, then just type `add PackageName` ."
   ]
  },
  {
   "cell_type": "code",
   "execution_count": 44,
   "metadata": {},
   "outputs": [],
   "source": [
    "#using Pkg\n",
    "#Pkg.add(\"Statistics\") \n",
    "#Pkg.add(\"Distributions\")\n",
    "#Pkg.add(\"LinearAlgebra\")"
   ]
  },
  {
   "cell_type": "markdown",
   "metadata": {},
   "source": [
    "## 3. Putting Everything Together\n",
    "\n",
    "****"
   ]
  },
  {
   "cell_type": "code",
   "execution_count": 45,
   "metadata": {},
   "outputs": [],
   "source": [
    "using LinearAlgebra, Random, Distributions, Plots "
   ]
  },
  {
   "cell_type": "code",
   "execution_count": 46,
   "metadata": {},
   "outputs": [],
   "source": [
    "#Set the seed (Important for replicating your code!)\n",
    "Random.seed!(1234) ;"
   ]
  },
  {
   "cell_type": "markdown",
   "metadata": {},
   "source": [
    "Suppose we want to simulate data that follows this GDP \n",
    "\n",
    "$$ y_i = \\beta X_i  + \\varepsilon_i $$\n",
    "\n",
    "where \n",
    "\n",
    "$\\beta \\equiv  \\left[ \\begin{array}{c}  \\beta_1 \\\\ \\beta_2 \\end{array} \\right] = \\left[ \\begin{array}{c}  1.0 \\\\ -1.0 \\end{array} \\right]$ , $\\quad X_i \\sim N\\big( \\left[ \\begin{array}{c}  1.0 \\\\ 2.0 \\end{array} \\right], \\left[ \\begin{array}{c}  1.0 & \\rho\\\\ \\rho & 1.0 \\end{array} \\right] \\big) $, and  $\\varepsilon_i \\sim N(0,1)$.\n",
    "\n",
    "\n",
    "We want to compute average coverage of the confidence intervals of $\\beta_1$. The parameters should be set to $n = 1000$ observations, $R=500$ repetitions, and $\\rho = 0.9$. "
   ]
  },
  {
   "cell_type": "code",
   "execution_count": 47,
   "metadata": {},
   "outputs": [],
   "source": [
    "#Set constant number of repetition (I recommend using this when you need to set a global that won't be modified later on)\n",
    "const Reps = 500\n",
    "const β1 = 1.0 ;"
   ]
  },
  {
   "cell_type": "code",
   "execution_count": 48,
   "metadata": {},
   "outputs": [
    {
     "data": {
      "text/plain": [
       "gen_data (generic function with 4 methods)"
      ]
     },
     "execution_count": 48,
     "metadata": {},
     "output_type": "execute_result"
    }
   ],
   "source": [
    "function gen_data(n= 1000, β = [1.0; -1.0] , ρ = 0.9)\n",
    "    \"\"\"\n",
    "    n:= sample size\n",
    "    β:= true beta\n",
    "    ρ:= correlation coefficient\n",
    "    \"\"\"\n",
    "\n",
    "    #Define the Multivariate Normal Distribution instance\n",
    "    mvnormal = MvNormal([1.0; 2.0], [1 ρ; ρ 1]);\n",
    "    \n",
    "    #Matrix X (n x 2 ) and ε (n x 1)\n",
    "    X = rand(mvnormal,n)'\n",
    "    ε = randn(n, 1)\n",
    "    \n",
    "    #Vector y\n",
    "    y = X*β + ε\n",
    "        \n",
    "    #Return the data\n",
    "    return (X = X , y = y)\n",
    "end   "
   ]
  },
  {
   "cell_type": "code",
   "execution_count": 49,
   "metadata": {},
   "outputs": [
    {
     "data": {
      "text/plain": [
       "LMSettings"
      ]
     },
     "execution_count": 49,
     "metadata": {},
     "output_type": "execute_result"
    }
   ],
   "source": [
    "#The @with_kw allows to set default values inside a struct\n",
    "@with_kw struct LMSettings\n",
    "    variance_type::String = \"White\"\n",
    "    compute_ci::Bool = true\n",
    "    α::Real = 0.05\n",
    "end"
   ]
  },
  {
   "cell_type": "code",
   "execution_count": 50,
   "metadata": {},
   "outputs": [
    {
     "data": {
      "text/plain": [
       "LMSettings\n",
       "  variance_type: String \"White\"\n",
       "  compute_ci: Bool true\n",
       "  α: Float64 0.05\n"
      ]
     },
     "execution_count": 50,
     "metadata": {},
     "output_type": "execute_result"
    }
   ],
   "source": [
    "LMSettings()"
   ]
  },
  {
   "cell_type": "code",
   "execution_count": 51,
   "metadata": {},
   "outputs": [
    {
     "data": {
      "text/plain": [
       "LMSettings\n",
       "  variance_type: String \"Default\"\n",
       "  compute_ci: Bool false\n",
       "  α: Float64 0.05\n"
      ]
     },
     "execution_count": 51,
     "metadata": {},
     "output_type": "execute_result"
    }
   ],
   "source": [
    "LMSettings(variance_type = \"Default\", compute_ci =false)"
   ]
  },
  {
   "cell_type": "code",
   "execution_count": 52,
   "metadata": {},
   "outputs": [
    {
     "data": {
      "text/plain": [
       "ols (generic function with 1 method)"
      ]
     },
     "execution_count": 52,
     "metadata": {},
     "output_type": "execute_result"
    }
   ],
   "source": [
    "function ols(x,y; settings = LMSettings() )\n",
    "    #Extract sample size\n",
    "    n = size(x, 1)\n",
    "\n",
    "    #Estimate the model\n",
    "    xx = x'*x\n",
    "    xy = x'*y\n",
    "    βhat = xx\\xy\n",
    "    \n",
    "    res = y - x * βhat\n",
    "    \n",
    "    #Step 2: Compute Avar\n",
    "    if settings.variance_type == \"Default\"\n",
    "        avar = (res' * res) ./ xx \n",
    "        se = sqrt.(diag(avar))\n",
    "        \n",
    "    elseif settings.variance_type == \"White\"\n",
    "        xr = x .* res \n",
    "        avar = n\\(xx \\ (xr' * xr) / xx)\n",
    "        se = sqrt.(diag(avar))\n",
    "        \n",
    "    else\n",
    "        error(\"Incorrect variance type in the settings.\")\n",
    "    end\n",
    "    \n",
    "    #Step 3: Compute Confidence Intervals\n",
    "    if settings.compute_ci == true         \n",
    "        ci_lower = quantile(Normal(), settings.α / 2) .* se * sqrt(n) .+ βhat;\n",
    "        ci_upper = quantile(Normal(), 1 - settings.α / 2) .* se * sqrt(n) .+ βhat\n",
    "        \n",
    "    else \n",
    "        ci_lower = nothing\n",
    "        ci_upper = nothing \n",
    "        \n",
    "    end\n",
    "    \n",
    "    return (coef = βhat, se = se, ci_upper = ci_upper , ci_lower = ci_lower )\n",
    "end"
   ]
  },
  {
   "cell_type": "code",
   "execution_count": 53,
   "metadata": {},
   "outputs": [
    {
     "name": "stdout",
     "output_type": "stream",
     "text": [
      "Average Coverage = 0.952\n"
     ]
    }
   ],
   "source": [
    "#Create Matrix to store results\n",
    "InsideCI = zeros(Reps,1)\n",
    "Coeficients = zeros(Reps,2)\n",
    "\n",
    "for i=1:Reps\n",
    "\n",
    "    #Simulating Data\n",
    "    X,y = gen_data()\n",
    "\n",
    "    #Computing coefficients\n",
    "    @unpack coef , se , ci_upper  , ci_lower  = ols(X,y);\n",
    "\n",
    "    #Coverage Results\n",
    "    InsideCI[i] = ci_upper[1] > β1 && ci_lower[1] < β1 ? 1.0 : 0.0\n",
    "    Coeficients[i,:] = coef\n",
    "   \n",
    "end\n",
    "\n",
    "Coverage = mean(InsideCI, dims=1);\n",
    "println(\"Average Coverage = \", Coverage[1])\n",
    "\n"
   ]
  },
  {
   "cell_type": "markdown",
   "metadata": {},
   "source": [
    "We can also plot the distribution of $\\beta_1$ and $\\beta_2$ across simulations."
   ]
  },
  {
   "cell_type": "code",
   "execution_count": 54,
   "metadata": {},
   "outputs": [
    {
     "data": {
      "image/png": "[encoded data removed]"
     },
     "execution_count": 54,
     "metadata": {},
     "output_type": "execute_result"
    }
   ],
   "source": [
    "histogram( [Coeficients[:,1] Coeficients[:,2]], label=[\"beta1\" \"beta2\"],\n",
    "    size = (500, 300), fmt = :png, legend=:top, fillalpha=0.3)"
   ]
  },
  {
   "cell_type": "markdown",
   "metadata": {},
   "source": [
    "## 4. (Optional) More Advanced Stuff\n",
    "\n",
    "****\n",
    "Usually our moment conditions leave us with something that looks like a linear system of equations.  For instance, in the case of OLS we have the following system: \n",
    "\n",
    "$$ X'X * \\beta  = X'Y $$\n",
    "\n",
    "which can be rewritten as \n",
    "\n",
    "$$ A x  = b $$ \n",
    "\n",
    "\n",
    "We say a matrix is **ill-conditioned** if the basis of eigenvectors are close to, but not exactly, collinear. This can create numerical errors roughly in proportion to the base-10 log of the condition number. I don't think this is gonna be an issue in any of the computations you will perform in the course, but these type of issues can arise when we are, for instance, running models with many fixed effects (high dimensional FE). \n",
    "\n",
    "\n",
    "The condition number (using the 2-norm) can be computed as \n",
    "\n",
    "$$ k(A) = || A || * || A^{-1} || $$\n"
   ]
  },
  {
   "cell_type": "code",
   "execution_count": 55,
   "metadata": {},
   "outputs": [
    {
     "data": {
      "text/plain": [
       "2.0000000000005004e6"
      ]
     },
     "execution_count": 55,
     "metadata": {},
     "output_type": "execute_result"
    }
   ],
   "source": [
    "#Create ill-conditioned matrix\n",
    "ϵ = 1E-6\n",
    "A = [1.0 0.0\n",
    "     1.0 ϵ]\n",
    "cond(A)"
   ]
  },
  {
   "cell_type": "code",
   "execution_count": 56,
   "metadata": {},
   "outputs": [
    {
     "data": {
      "text/plain": [
       "2×2 Array{Float64,2}:\n",
       "  1.0    0.0\n",
       " -1.0e6  1.0e6"
      ]
     },
     "execution_count": 56,
     "metadata": {},
     "output_type": "execute_result"
    }
   ],
   "source": [
    "#Notice that it has both huge and tiny values!\n",
    "inv(A)"
   ]
  },
  {
   "cell_type": "markdown",
   "metadata": {},
   "source": [
    "This is actually one of the reasons to avoid using `inv()` in practice, and instead use the backslash notation, which will perform better. Another reason is that if the A matrix is sparse, we make it dense when we invert it. The backslash notation will exploit the fact that A was sparse in the first place!"
   ]
  },
  {
   "cell_type": "markdown",
   "metadata": {},
   "source": [
    "### Factorization\n",
    "\n",
    "One way to fix this is to do a factorization, which will allow us to compute a more stable inverse (like a triangular matrix). For instance, a QR decomposition splits A into an orthogonal matrix (inverse = transpose) and an upper triangular matrix. The solution is then simplified as\n",
    "\n",
    "$$ Q R x  = b $$ \n",
    "$$ R x  = Q^{T} * b $$\n",
    "$$ x = R^{-1}  Q^{T} * b $$"
   ]
  },
  {
   "cell_type": "code",
   "execution_count": 57,
   "metadata": {},
   "outputs": [
    {
     "data": {
      "text/plain": [
       "1001×1 Array{Float64,2}:\n",
       "       0.46145411636115213\n",
       " -233036.00480237874\n",
       "   73466.8477924236\n",
       "  475731.83252828807\n",
       "   16629.059291967813\n",
       "  156531.67028261715\n",
       "  -90632.28476431432\n",
       "  396946.4577618547\n",
       " -158857.43380003513\n",
       "  156086.41849524397\n",
       "  -98976.12500698051\n",
       "  297827.4163008304\n",
       " -441649.3853068084\n",
       "       ⋮\n",
       " -325442.7576607108\n",
       " -370731.92008147977\n",
       "   -6781.2592617338505\n",
       "  -80607.36259316909\n",
       "  239472.67590391356\n",
       "  259623.3162518157\n",
       "  350883.6386493752\n",
       "   98613.43514630072\n",
       "  498327.8684428162\n",
       " -287499.4664745022\n",
       "    8321.89296378373\n",
       "  466568.22018348624"
      ]
     },
     "execution_count": 57,
     "metadata": {},
     "output_type": "execute_result"
    }
   ],
   "source": [
    "illX = [ones(1000)'; ϵ * I]'\n",
    "illXX = illX'illX;\n",
    "illXY = illX' * rand(1000,1);\n",
    "\n",
    "Q, R = qr(illXX);\n",
    "βsol_qr = R \\ (Q'* illXY)\n"
   ]
  },
  {
   "cell_type": "code",
   "execution_count": 58,
   "metadata": {},
   "outputs": [
    {
     "data": {
      "text/plain": [
       "3.229517786600101e29"
      ]
     },
     "execution_count": 58,
     "metadata": {},
     "output_type": "execute_result"
    }
   ],
   "source": [
    "cond(illXX)"
   ]
  },
  {
   "cell_type": "code",
   "execution_count": 59,
   "metadata": {},
   "outputs": [
    {
     "data": {
      "text/plain": [
       "2.873181747420282e30"
      ]
     },
     "execution_count": 59,
     "metadata": {},
     "output_type": "execute_result"
    }
   ],
   "source": [
    "cond(R)"
   ]
  },
  {
   "cell_type": "code",
   "execution_count": 60,
   "metadata": {},
   "outputs": [
    {
     "data": {
      "text/plain": [
       "true"
      ]
     },
     "execution_count": 60,
     "metadata": {},
     "output_type": "execute_result"
    }
   ],
   "source": [
    "cond(R) > cond(illXX)"
   ]
  },
  {
   "cell_type": "markdown",
   "metadata": {},
   "source": [
    "Depending on the particular application and the factorization chosen we can improve a lot the conditioning number."
   ]
  },
  {
   "cell_type": "markdown",
   "metadata": {},
   "source": [
    "### Iterative Solution (Krylov Methods)\n",
    "\n",
    "This is will iterate the system on $x^k$ until it reaches a solution. It is an alternative to factorization. However, it has slow convergence rates when the matrix in the linear system is ill-conditioned. \n",
    "\n",
    "A solution to this is to set a matrix $ P $ which has numerically stable inverse. Consider the following case of a right preconditioner P:\n",
    "\n",
    "$$ A x = b $$\n",
    "$$ A P^{-1} P  x = b $$\n",
    "$$ (AP^{-1}) y = b $$ \n",
    "\n",
    "so we can use the last equation to solve for $y$ , and then recover $x$ from $P x = y $. "
   ]
  },
  {
   "cell_type": "code",
   "execution_count": 61,
   "metadata": {},
   "outputs": [
    {
     "data": {
      "text/plain": [
       "1.0703458981179625e6"
      ]
     },
     "execution_count": 61,
     "metadata": {},
     "output_type": "execute_result"
    }
   ],
   "source": [
    "#This creates a sparse matrix with 10% of zeros\n",
    "using SparseArrays\n",
    "A = sprand(100, 100, 0.1)   \n",
    "A = A * A'  \n",
    "cond(Matrix(A)) #Can be ill conditioned!"
   ]
  },
  {
   "cell_type": "markdown",
   "metadata": {},
   "source": [
    "One of the standard Krylov methods is Conjugate Gradient, which works for symmetric and positive definite matrices. This is exactly the case of our least squares problem!\n",
    "\n",
    "We can choose among many preconditioners, and there's no really a way to know which is gonna work the best. In this case I'll show the solution using an Algebraic Multigrid (AMG) preconditioner."
   ]
  },
  {
   "cell_type": "code",
   "execution_count": 62,
   "metadata": {},
   "outputs": [],
   "source": [
    "#Pkg.add(\"IterativeSolvers\")\n",
    "#Pkg.add(\"AlgebraicMultigrid\")\n",
    "using IterativeSolvers, AlgebraicMultigrid"
   ]
  },
  {
   "cell_type": "code",
   "execution_count": 63,
   "metadata": {},
   "outputs": [
    {
     "data": {
      "text/plain": [
       "Converged after 59 iterations."
      ]
     },
     "execution_count": 63,
     "metadata": {},
     "output_type": "execute_result"
    }
   ],
   "source": [
    "#Initial value\n",
    "β_init = zeros(100)\n",
    "b = A * rand(100,1)\n",
    "P = aspreconditioner(ruge_stuben(A))\n",
    "sol = cg!(β_init, A, b, Pl = P, log=true, maxiter = 1000)\n",
    "sol[end]"
   ]
  },
  {
   "cell_type": "code",
   "execution_count": 64,
   "metadata": {},
   "outputs": [
    {
     "data": {
      "text/plain": [
       "100-element Array{Float64,1}:\n",
       " 0.6901488231693906\n",
       " 0.7565708220183458\n",
       " 0.6963497871684824\n",
       " 0.5734265679332653\n",
       " 0.6231229993312912\n",
       " 0.43500680522677826\n",
       " 0.7771934733486723\n",
       " 0.8803706004151267\n",
       " 0.7788596512729516\n",
       " 0.6743031851916553\n",
       " 0.496961650411733\n",
       " 0.6166383981759211\n",
       " 0.2800066166910914\n",
       " ⋮\n",
       " 0.03204514975910175\n",
       " 0.8220604427401073\n",
       " 0.9170283208283931\n",
       " 0.4517359019125567\n",
       " 0.5713645111653427\n",
       " 0.772627925019254\n",
       " 0.7444510173505934\n",
       " 0.7870611921790308\n",
       " 0.8438634302388455\n",
       " 0.7754721050172753\n",
       " 0.6072224730333629\n",
       " 0.37425732011522933"
      ]
     },
     "execution_count": 64,
     "metadata": {},
     "output_type": "execute_result"
    }
   ],
   "source": [
    "#Show the vector of coefficients\n",
    "sol[1]"
   ]
  },
  {
   "cell_type": "markdown",
   "metadata": {},
   "source": [
    "Something I would like to point out is that using a preconditioner does not ensure that the number of iterations will reduce."
   ]
  }
 ],
 "metadata": {
  "kernelspec": {
   "display_name": "Julia 1.5.3",
   "language": "julia",
   "name": "julia-1.5"
  },
  "language_info": {
   "file_extension": ".jl",
   "mimetype": "application/julia",
   "name": "julia",
   "version": "1.5.3"
  }
 },
 "nbformat": 4,
 "nbformat_minor": 4
}
