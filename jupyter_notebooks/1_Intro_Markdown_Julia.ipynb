{
 "cells": [
  {
   "cell_type": "markdown",
   "metadata": {},
   "source": [
    "# ECON627: Introduction to Julia & Markdown\n",
    "\n",
    "## Paul Corcuera\n",
    "### Jan 18 , 2021\n",
    "****"
   ]
  },
  {
   "cell_type": "markdown",
   "metadata": {},
   "source": [
    "## 1. Basic Markdown Syntax\n",
    "\n",
    "****"
   ]
  },
  {
   "cell_type": "markdown",
   "metadata": {},
   "source": [
    "- To render a markdown code we need to specify in the following part of the Jupyter notebook \n",
    "\n",
    "![img](https://www.earthdatascience.org/images/courses/earth-analytics/bootcamp/jupyter-interface/change-cell-type.png) \n",
    "\n",
    "- To write a title we use hastag (#) and a space before writing a title. The number of # you use should correspond to the heading size, which goes from 1 to 6. For instance, we can write Hello with different heading sizes as # Hello; ## Hello; etc. \n",
    "\n",
    "- The corresponding output is"
   ]
  },
  {
   "cell_type": "markdown",
   "metadata": {},
   "source": [
    "# Hello\n",
    "## Hello\n",
    "### Hello\n",
    "etc."
   ]
  },
  {
   "cell_type": "markdown",
   "metadata": {},
   "source": [
    "- To put a line break we only use two or more spaces before hitting the *Enter* button.   \n",
    "\n",
    "- To create a new paragraph we just leave a blank line. \n",
    "\n",
    "- To create a horizontal rule to separate sections you can use three or more asterisks (\\*\\*\\*), dashes (---), or underscores (\\_\\_\\_) on a line by themselves. They all produce the same output.\n",
    "\n",
    "- We can also use HTML syntax to center some text. For instance,"
   ]
  },
  {
   "cell_type": "markdown",
   "metadata": {},
   "source": [
    "    <center>\n",
    "    Hello\n",
    "    </center>"
   ]
  },
  {
   "cell_type": "markdown",
   "metadata": {},
   "source": [
    "    will produce the following output:\n",
    "\n",
    "<center>\n",
    "Hello \n",
    "</center>\n",
    "\n",
    "- To denote a word or phrase as code, enclose it in backticks (\\`). The output looks like this: `GMMreg`.\n",
    "\n",
    "- To write math code we can use the dollar symbol, just as if we were in latex. If we use double dollar symbols we center an equation. The way we write the equations and greek letters works the same way as LaTeX code, i.e., to write $\\beta$ we use backslash and the word beta. \n",
    "\n",
    "$$ y_i =  x_i \\beta + \\epsilon_i $$\n",
    "\n",
    "- To write an indented block of text/code we can use the *TAB* button to indent a part of the text/code. \n"
   ]
  },
  {
   "cell_type": "markdown",
   "metadata": {},
   "source": [
    "    This is like a verbose mode, i.e.\n",
    "    symbols such as < or \\beta will not be \n",
    "    rendered as code."
   ]
  },
  {
   "cell_type": "markdown",
   "metadata": {},
   "source": [
    "- Alternatively, instead of indenting with *TAB* you can use triple backticks (\\`) and write julia, to have an indented block interpreted as julia code. If you write \\`\\`\\`julia and then close with \\`\\`\\` your code shows up like this."
   ]
  },
  {
   "cell_type": "markdown",
   "metadata": {},
   "source": [
    "```julia\n",
    "AKMreg(df::DataFrame, y::String, idvar::String, firmidvar::String)\n",
    "```"
   ]
  },
  {
   "cell_type": "markdown",
   "metadata": {},
   "source": [
    "  this is super useful if you want to explain what your function does!\n",
    "   \n",
    "- To display literal characters, like \\`, you need to add a backslash (\\\\) before the symbol.\n",
    "\n",
    "- This should be more than enough to be able to type the solutions to the problem sets in a Jupyter Notebook. You can explore more stuff by following [this link](https://www.markdownguide.org/basic-syntax/). \n",
    "\n",
    "- To export the notebook you can find the option *Export Notebook As* in the *File tab*, and you choose the option that says HTML. "
   ]
  },
  {
   "cell_type": "markdown",
   "metadata": {},
   "source": [
    "## 2. Julia Essentials\n",
    "\n",
    "****"
   ]
  },
  {
   "cell_type": "markdown",
   "metadata": {},
   "source": [
    "Julia has many of the standard primitive types. "
   ]
  },
  {
   "cell_type": "code",
   "execution_count": 1,
   "metadata": {},
   "outputs": [
    {
     "name": "stderr",
     "output_type": "stream",
     "text": [
      "\u001b[32m\u001b[1m  Activating\u001b[22m\u001b[39m project at `c:\\Users\\steve\\Documents\\GitHub\\ECON627_UBC.jl`"
     ]
    },
    {
     "name": "stderr",
     "output_type": "stream",
     "text": [
      "\n"
     ]
    }
   ],
   "source": [
    "using Pkg\n",
    "Pkg.activate(joinpath(pwd(),\"..\"))"
   ]
  },
  {
   "cell_type": "code",
   "execution_count": 2,
   "metadata": {},
   "outputs": [
    {
     "data": {
      "text/plain": [
       "(\"hello\", 3.5)"
      ]
     },
     "metadata": {},
     "output_type": "display_data"
    }
   ],
   "source": [
    "x = 1 #Int\n",
    "y = 1.0 #Float\n",
    "boolean = true\n",
    "array = [1;2]\n",
    "matrix = [1 2 3 ; 4 5 6]\n",
    "tuple = (\"hello\", 3.5)"
   ]
  },
  {
   "cell_type": "markdown",
   "metadata": {},
   "source": [
    "We can look at the type using the `typeof` function. "
   ]
  },
  {
   "cell_type": "code",
   "execution_count": 3,
   "metadata": {},
   "outputs": [
    {
     "data": {
      "text/plain": [
       "Vector{Int64}\u001b[90m (alias for \u001b[39m\u001b[90mArray{Int64, 1}\u001b[39m\u001b[90m)\u001b[39m"
      ]
     },
     "metadata": {},
     "output_type": "display_data"
    }
   ],
   "source": [
    "typeof(array)"
   ]
  },
  {
   "cell_type": "markdown",
   "metadata": {},
   "source": [
    "To supress output we can put a `;` after a line of code. "
   ]
  },
  {
   "cell_type": "code",
   "execution_count": 2,
   "metadata": {},
   "outputs": [],
   "source": [
    "x = 3.5;"
   ]
  },
  {
   "cell_type": "markdown",
   "metadata": {},
   "source": [
    "If we want to show different lines of code we can use the macro `@show`."
   ]
  },
  {
   "cell_type": "code",
   "execution_count": 5,
   "metadata": {},
   "outputs": [
    {
     "name": "stdout",
     "output_type": "stream",
     "text": [
      "x + y = 4.5"
     ]
    },
    {
     "name": "stdout",
     "output_type": "stream",
     "text": [
      "\n",
      "matrix * matrix' = [14 32; 32 77]\n"
     ]
    },
    {
     "data": {
      "text/plain": [
       "2×2 Matrix{Int64}:\n",
       " 14  32\n",
       " 32  77"
      ]
     },
     "metadata": {},
     "output_type": "display_data"
    }
   ],
   "source": [
    "@show x + y \n",
    "@show matrix*matrix'"
   ]
  },
  {
   "cell_type": "markdown",
   "metadata": {},
   "source": [
    "We can also use the `println()` function to print output."
   ]
  },
  {
   "cell_type": "code",
   "execution_count": 6,
   "metadata": {},
   "outputs": [
    {
     "name": "stdout",
     "output_type": "stream",
     "text": [
      "The value of x is 3.5\n",
      "The value of y is 1.0\n"
     ]
    }
   ],
   "source": [
    "println(\"The value of x is \", x)\n",
    "println(\"The value of y is \", y)"
   ]
  },
  {
   "cell_type": "code",
   "execution_count": 7,
   "metadata": {},
   "outputs": [
    {
     "name": "stdout",
     "output_type": "stream",
     "text": [
      "We can also print in multiple\n",
      "lines of code.\n"
     ]
    }
   ],
   "source": [
    "println(\"We can also print in multiple\\nlines of code.\")"
   ]
  },
  {
   "cell_type": "markdown",
   "metadata": {},
   "source": [
    "#### Iterables"
   ]
  },
  {
   "cell_type": "code",
   "execution_count": 8,
   "metadata": {},
   "outputs": [
    {
     "name": "stdout",
     "output_type": "stream",
     "text": [
      "3\n",
      "4\n",
      "5\n"
     ]
    }
   ],
   "source": [
    "β = [3;4;5]\n",
    "for i in β\n",
    "   println(i)     \n",
    "end"
   ]
  },
  {
   "cell_type": "code",
   "execution_count": 9,
   "metadata": {},
   "outputs": [
    {
     "data": {
      "text/plain": [
       "UnitRange{Int64}"
      ]
     },
     "metadata": {},
     "output_type": "display_data"
    }
   ],
   "source": [
    "range_obj = 1:3\n",
    "array_obj = collect(range_obj)\n",
    "typeof(range_obj)"
   ]
  },
  {
   "cell_type": "markdown",
   "metadata": {},
   "source": [
    "We can also loop over Range objects."
   ]
  },
  {
   "cell_type": "code",
   "execution_count": 10,
   "metadata": {},
   "outputs": [
    {
     "name": "stdout",
     "output_type": "stream",
     "text": [
      "1\n",
      "2\n",
      "3\n"
     ]
    }
   ],
   "source": [
    "for i in range_obj\n",
    "    println(i)\n",
    "end"
   ]
  },
  {
   "cell_type": "code",
   "execution_count": 11,
   "metadata": {},
   "outputs": [
    {
     "name": "stdout",
     "output_type": "stream",
     "text": [
      "Element 1 of array is: 1\n",
      "Element 2 of array is: 2\n",
      "Element 3 of array is: 3\n"
     ]
    }
   ],
   "source": [
    "for i in eachindex(array_obj)\n",
    "    println(\"Element \",i,\" of array is: \", array_obj[i])\n",
    "end"
   ]
  },
  {
   "cell_type": "markdown",
   "metadata": {},
   "source": [
    "#### Indexing\n",
    "\n",
    "It works pretty much the same way as Matlab."
   ]
  },
  {
   "cell_type": "code",
   "execution_count": 12,
   "metadata": {},
   "outputs": [
    {
     "name": "stdout",
     "output_type": "stream",
     "text": [
      "The last element is 5\n",
      "The second element is 2\n"
     ]
    }
   ],
   "source": [
    "array = [1; 2; 4 ; 5]\n",
    "println(\"The last element is \", array[end])\n",
    "println(\"The second element is \", array[2])"
   ]
  },
  {
   "cell_type": "code",
   "execution_count": 13,
   "metadata": {},
   "outputs": [
    {
     "name": "stdout",
     "output_type": "stream",
     "text": [
      "Element (1,1) is: 1\n",
      "Element (1,2) is: 2\n",
      "Element (1,3) is: 3\n",
      "Element (2,1) is: 4\n",
      "Element (2,2) is: 5\n",
      "Element (2,3) is: 6"
     ]
    },
    {
     "name": "stdout",
     "output_type": "stream",
     "text": [
      "\n"
     ]
    }
   ],
   "source": [
    "matrix = [1 2 3 ;4 5 6]\n",
    "\n",
    "for row in 1:size(matrix,1)\n",
    "    for col in 1:size(matrix,2)\n",
    "        println(\"Element ($row,$col) is: \",matrix[row,col])\n",
    "    end\n",
    "end"
   ]
  },
  {
   "cell_type": "markdown",
   "metadata": {},
   "source": [
    "#### Comprehensions\n",
    "\n",
    "These are easy ways to create arrays without writing many lines of code."
   ]
  },
  {
   "cell_type": "code",
   "execution_count": 14,
   "metadata": {},
   "outputs": [
    {
     "data": {
      "text/plain": [
       "3-element Vector{Int64}:\n",
       " 45\n",
       " 30\n",
       " 92"
      ]
     },
     "metadata": {},
     "output_type": "display_data"
    }
   ],
   "source": [
    "array = [45; 32 ; 30 ; 85 ; 92]\n",
    "\n",
    "#These are the indices that we want to use of the array\n",
    "selection = [1;3;5]\n",
    "\n",
    "array_subset = [ array[i] for i in selection]"
   ]
  },
  {
   "cell_type": "code",
   "execution_count": 15,
   "metadata": {},
   "outputs": [
    {
     "data": {
      "text/plain": [
       "3-element Vector{Int64}:\n",
       " 45\n",
       " 85\n",
       " 92"
      ]
     },
     "metadata": {},
     "output_type": "display_data"
    }
   ],
   "source": [
    "#Returns the indices that satisfy the condition\n",
    "selection = findall(x-> x>=35, array)\n",
    "\n",
    "array_subset2 = [array[x] for x in selection]"
   ]
  },
  {
   "cell_type": "code",
   "execution_count": 16,
   "metadata": {},
   "outputs": [
    {
     "data": {
      "text/plain": [
       "3-element Vector{Int64}:\n",
       " 2\n",
       " 4\n",
       " 6"
      ]
     },
     "metadata": {},
     "output_type": "display_data"
    }
   ],
   "source": [
    "doubles = [2*i for i in 1:3]"
   ]
  },
  {
   "cell_type": "code",
   "execution_count": 17,
   "metadata": {},
   "outputs": [
    {
     "data": {
      "text/plain": [
       "3×2 Matrix{Int64}:\n",
       " 2  3\n",
       " 3  4\n",
       " 4  5"
      ]
     },
     "metadata": {},
     "output_type": "display_data"
    }
   ],
   "source": [
    "matrix_comprehension = [ i+j for i in 1:3, j in 1:2 ]"
   ]
  },
  {
   "cell_type": "markdown",
   "metadata": {},
   "source": [
    "Just as in Matlab we also have the functions `zeros()` and `ones()`."
   ]
  },
  {
   "cell_type": "code",
   "execution_count": 18,
   "metadata": {},
   "outputs": [
    {
     "data": {
      "text/plain": [
       "3-element Vector{Float64}:\n",
       " 0.0\n",
       " 0.0\n",
       " 0.0"
      ]
     },
     "metadata": {},
     "output_type": "display_data"
    }
   ],
   "source": [
    "zeros(3)"
   ]
  },
  {
   "cell_type": "code",
   "execution_count": 19,
   "metadata": {},
   "outputs": [
    {
     "data": {
      "text/plain": [
       "3-element Vector{Int64}:\n",
       " 0\n",
       " 0\n",
       " 0"
      ]
     },
     "metadata": {},
     "output_type": "display_data"
    }
   ],
   "source": [
    "zeros(Int64,3)"
   ]
  },
  {
   "cell_type": "code",
   "execution_count": 20,
   "metadata": {},
   "outputs": [
    {
     "data": {
      "text/plain": [
       "5-element Vector{Float64}:\n",
       " 1.0\n",
       " 1.0\n",
       " 1.0\n",
       " 1.0\n",
       " 1.0"
      ]
     },
     "metadata": {},
     "output_type": "display_data"
    }
   ],
   "source": [
    "ones(5)"
   ]
  },
  {
   "cell_type": "markdown",
   "metadata": {},
   "source": [
    "#### Logical Operations"
   ]
  },
  {
   "cell_type": "code",
   "execution_count": 21,
   "metadata": {},
   "outputs": [
    {
     "data": {
      "text/plain": [
       "1"
      ]
     },
     "metadata": {},
     "output_type": "display_data"
    }
   ],
   "source": [
    "#This creates a global variable named x\n",
    "x = 1 "
   ]
  },
  {
   "cell_type": "code",
   "execution_count": 22,
   "metadata": {},
   "outputs": [
    {
     "data": {
      "text/plain": [
       "false"
      ]
     },
     "metadata": {},
     "output_type": "display_data"
    }
   ],
   "source": [
    "#We can test if this is equal to a value\n",
    "x == 2"
   ]
  },
  {
   "cell_type": "code",
   "execution_count": 23,
   "metadata": {},
   "outputs": [
    {
     "data": {
      "text/plain": [
       "true"
      ]
     },
     "metadata": {},
     "output_type": "display_data"
    }
   ],
   "source": [
    "x != 2"
   ]
  },
  {
   "cell_type": "code",
   "execution_count": 24,
   "metadata": {},
   "outputs": [
    {
     "data": {
      "text/plain": [
       "false"
      ]
     },
     "metadata": {},
     "output_type": "display_data"
    }
   ],
   "source": [
    "true && false"
   ]
  },
  {
   "cell_type": "code",
   "execution_count": 25,
   "metadata": {},
   "outputs": [
    {
     "data": {
      "text/plain": [
       "true"
      ]
     },
     "metadata": {},
     "output_type": "display_data"
    }
   ],
   "source": [
    "true || false"
   ]
  },
  {
   "cell_type": "markdown",
   "metadata": {},
   "source": [
    "#### Functions in Julia\n",
    "\n",
    "We can also perform something similar to the lambda functions in Matlab, and it's pretty straightforward."
   ]
  },
  {
   "cell_type": "code",
   "execution_count": 3,
   "metadata": {},
   "outputs": [
    {
     "data": {
      "text/plain": [
       "func (generic function with 1 method)"
      ]
     },
     "metadata": {},
     "output_type": "display_data"
    }
   ],
   "source": [
    "func(x) = x^2"
   ]
  },
  {
   "cell_type": "code",
   "execution_count": 4,
   "metadata": {},
   "outputs": [
    {
     "data": {
      "text/plain": [
       "0.010000000000000002"
      ]
     },
     "metadata": {},
     "output_type": "display_data"
    }
   ],
   "source": [
    "func(0.1)"
   ]
  },
  {
   "cell_type": "code",
   "execution_count": 5,
   "metadata": {},
   "outputs": [
    {
     "data": {
      "text/plain": [
       "0.010000000000000002"
      ]
     },
     "metadata": {},
     "output_type": "display_data"
    }
   ],
   "source": [
    "y = x -> x^2 \n",
    "y(0.1)"
   ]
  },
  {
   "cell_type": "markdown",
   "metadata": {},
   "source": [
    "Alternatively, if the function is more complex, we can use the usual (and more verbose) way of defining functions."
   ]
  },
  {
   "cell_type": "code",
   "execution_count": 28,
   "metadata": {},
   "outputs": [
    {
     "data": {
      "text/plain": [
       "function2 (generic function with 1 method)"
      ]
     },
     "metadata": {},
     "output_type": "display_data"
    }
   ],
   "source": [
    "function function2(x,y)\n",
    "    return x+y\n",
    "end"
   ]
  },
  {
   "cell_type": "code",
   "execution_count": 29,
   "metadata": {},
   "outputs": [
    {
     "data": {
      "text/plain": [
       "4"
      ]
     },
     "metadata": {},
     "output_type": "display_data"
    }
   ],
   "source": [
    "function2(1,3)"
   ]
  },
  {
   "cell_type": "markdown",
   "metadata": {},
   "source": [
    "We can also broadcast a function to arrays, just like in Matlab, using a dot (.)."
   ]
  },
  {
   "cell_type": "code",
   "execution_count": 30,
   "metadata": {},
   "outputs": [
    {
     "data": {
      "text/plain": [
       "3-element Vector{Int64}:\n",
       " 1\n",
       " 4\n",
       " 9"
      ]
     },
     "metadata": {},
     "output_type": "display_data"
    }
   ],
   "source": [
    "array = [1; 2 ; 3]\n",
    "func.(array)"
   ]
  },
  {
   "cell_type": "markdown",
   "metadata": {},
   "source": [
    "#### Scoping & Closures\n",
    "\n",
    "In general, sometimes we want to create an entire .jl file that contains functions to export (modules). In those cases, we have to be careful between the distinction of global vs local variables (scoping), and functions inside a functions become what is called a closure."
   ]
  },
  {
   "cell_type": "code",
   "execution_count": 31,
   "metadata": {},
   "outputs": [
    {
     "data": {
      "text/plain": [
       "0.05"
      ]
     },
     "metadata": {},
     "output_type": "display_data"
    }
   ],
   "source": [
    "x = 0.1 #This is global\n",
    "f(x) = x/2 #This x is local!\n",
    "\n",
    "f(x) #Calls the function with the argument given by the global variable."
   ]
  },
  {
   "cell_type": "code",
   "execution_count": 32,
   "metadata": {},
   "outputs": [
    {
     "data": {
      "text/plain": [
       "2.5"
      ]
     },
     "metadata": {},
     "output_type": "display_data"
    }
   ],
   "source": [
    "function h() # scope within the `h` function\n",
    "\n",
    "    square(x) = x^2 # local `x` in scope\n",
    "\n",
    "    # x is not bound to anything in this outer scope\n",
    "    y = 5\n",
    "    f(y) #By default Julia returns the last line inside the function\n",
    "    #It is equivalent to writing return f(y)\n",
    "end\n",
    "h() "
   ]
  },
  {
   "cell_type": "code",
   "execution_count": 33,
   "metadata": {},
   "outputs": [
    {
     "data": {
      "text/plain": [
       "0.5"
      ]
     },
     "metadata": {},
     "output_type": "display_data"
    }
   ],
   "source": [
    "function scalesquare(a)\n",
    "    f(x) = a * x^2  # refers to the `a` passed in the function (closure!)\n",
    "    return f(1)        \n",
    "end\n",
    "scalesquare(0.5)"
   ]
  },
  {
   "cell_type": "markdown",
   "metadata": {},
   "source": [
    "#### Return Named Tuples in a Function\n",
    "\n",
    "Sometimes we want to return many things from our function, and it is useful to name the different elements of the output so we can call them whenever we want."
   ]
  },
  {
   "cell_type": "code",
   "execution_count": 6,
   "metadata": {},
   "outputs": [
    {
     "data": {
      "text/plain": [
       "(s = 7, dif = -3, prod = 10)"
      ]
     },
     "metadata": {},
     "output_type": "display_data"
    }
   ],
   "source": [
    "function example(x,y)\n",
    "    a = x+y\n",
    "    b = x-y\n",
    "    c = x*y\n",
    "    return (s = a, dif = b, prod = c)\n",
    "end\n",
    "\n",
    "output = example(2,5)"
   ]
  },
  {
   "cell_type": "code",
   "execution_count": 35,
   "metadata": {},
   "outputs": [
    {
     "name": "stdout",
     "output_type": "stream",
     "text": [
      "The sum is :7. The dif is: -3.\n"
     ]
    }
   ],
   "source": [
    "println(\"The sum is :\",output.s,\". The dif is: \",output.dif,\".\")"
   ]
  },
  {
   "cell_type": "markdown",
   "metadata": {},
   "source": [
    "You can also use the Parameters package to unpack named tuples from a function. It creates objects with the same names as the named elements in the output."
   ]
  },
  {
   "cell_type": "code",
   "execution_count": 7,
   "metadata": {},
   "outputs": [
    {
     "data": {
      "text/plain": [
       "(s = 7, dif = -3, prod = 10)"
      ]
     },
     "metadata": {},
     "output_type": "display_data"
    }
   ],
   "source": [
    "using Parameters\n",
    "\n",
    "@unpack s, dif, prod = example(2,5)"
   ]
  },
  {
   "cell_type": "code",
   "execution_count": 8,
   "metadata": {},
   "outputs": [
    {
     "data": {
      "text/plain": [
       "7"
      ]
     },
     "metadata": {},
     "output_type": "display_data"
    }
   ],
   "source": [
    "s "
   ]
  },
  {
   "cell_type": "code",
   "execution_count": 37,
   "metadata": {},
   "outputs": [
    {
     "data": {
      "text/plain": [
       "7"
      ]
     },
     "metadata": {},
     "output_type": "display_data"
    }
   ],
   "source": [
    "s "
   ]
  },
  {
   "cell_type": "code",
   "execution_count": 38,
   "metadata": {},
   "outputs": [
    {
     "name": "stdout",
     "output_type": "stream",
     "text": [
      "The sum is :7. The dif is: -3.\n"
     ]
    }
   ],
   "source": [
    "#It is equivalent to indexing, but if we index we need to know the position of the things we want!\n",
    "println(\"The sum is :\",output[1],\". The dif is: \",output[2],\".\")"
   ]
  },
  {
   "cell_type": "markdown",
   "metadata": {},
   "source": [
    "#### Optional Arguments\n",
    "\n",
    "We include optional arguments in a function with the semi-colon (;). We must also set a default value for those arguments."
   ]
  },
  {
   "cell_type": "code",
   "execution_count": 39,
   "metadata": {},
   "outputs": [
    {
     "data": {
      "text/plain": [
       "example2 (generic function with 1 method)"
      ]
     },
     "metadata": {},
     "output_type": "display_data"
    }
   ],
   "source": [
    "function example2(x ; y = 2)\n",
    "    a = x+y\n",
    "    b = x-y\n",
    "    c = x*y\n",
    "    return (s = a, dif = b, prod = c)\n",
    "end"
   ]
  },
  {
   "cell_type": "code",
   "execution_count": 40,
   "metadata": {},
   "outputs": [
    {
     "data": {
      "text/plain": [
       "(s = 3, dif = -1, prod = 2)"
      ]
     },
     "metadata": {},
     "output_type": "display_data"
    }
   ],
   "source": [
    "example2(1)"
   ]
  },
  {
   "cell_type": "code",
   "execution_count": 41,
   "metadata": {},
   "outputs": [
    {
     "data": {
      "text/plain": [
       "(s = 6, dif = -4, prod = 5)"
      ]
     },
     "metadata": {},
     "output_type": "display_data"
    }
   ],
   "source": [
    "example2(1, y = 5)"
   ]
  },
  {
   "cell_type": "markdown",
   "metadata": {},
   "source": [
    "#### Multiple Dispatch\n",
    "\n",
    "One of the benefits of Julia is what is called multiple dispatch. Julia allows us to create different **methods** of the same function that work differently depending on the type of the arguments. For instance, if we are running OLS and we know that the design matrix (X) is very sparse we can leverage on this to construct a more efficient way to compute the vector of coefficients."
   ]
  },
  {
   "cell_type": "code",
   "execution_count": 42,
   "metadata": {},
   "outputs": [
    {
     "data": {
      "text/html": [
       "# 2 methods for generic function <b>somefunc</b>:<ul><li> somefunc(x::<b>AbstractArray</b>) in Main at <a href=\"https://github.com/paulcorcuera/ECON627_UBC.jl/tree/722b5e9efbff5c7e8f5d26e6cdb92e11d0c8881b//jupyter_notebooks/1_Intro_Markdown_Julia.ipynb#L1\" target=\"_blank\">c:\\Users\\steve\\Documents\\GitHub\\ECON627_UBC.jl\\jupyter_notebooks\\1_Intro_Markdown_Julia.ipynb:1</a></li> <li> somefunc(x::<b>Real</b>) in Main at <a href=\"https://github.com/paulcorcuera/ECON627_UBC.jl/tree/722b5e9efbff5c7e8f5d26e6cdb92e11d0c8881b//jupyter_notebooks/1_Intro_Markdown_Julia.ipynb#L6\" target=\"_blank\">c:\\Users\\steve\\Documents\\GitHub\\ECON627_UBC.jl\\jupyter_notebooks\\1_Intro_Markdown_Julia.ipynb:6</a></li> </ul>"
      ],
      "text/plain": [
       "# 2 methods for generic function \"somefunc\":\n",
       "[1] somefunc(x::AbstractArray) in Main at c:\\Users\\steve\\Documents\\GitHub\\ECON627_UBC.jl\\jupyter_notebooks\\1_Intro_Markdown_Julia.ipynb:1\n",
       "[2] somefunc(x::Real) in Main at c:\\Users\\steve\\Documents\\GitHub\\ECON627_UBC.jl\\jupyter_notebooks\\1_Intro_Markdown_Julia.ipynb:6"
      ]
     },
     "metadata": {},
     "output_type": "display_data"
    }
   ],
   "source": [
    "function somefunc(x::AbstractArray)\n",
    "    return sum(x)\n",
    "end\n",
    "\n",
    "\n",
    "function somefunc(x::Real)\n",
    "    return x \n",
    "end\n",
    "\n",
    "methods(somefunc)"
   ]
  },
  {
   "cell_type": "code",
   "execution_count": 43,
   "metadata": {},
   "outputs": [
    {
     "name": "stdout",
     "output_type": "stream",
     "text": [
      "6.0\n"
     ]
    }
   ],
   "source": [
    "#This calls the method that works on Range types\n",
    "sum(1:3)\n",
    "#This calls the method that works for Array types\n",
    "println(sum([1.0;2.0;3.0]))"
   ]
  },
  {
   "cell_type": "markdown",
   "metadata": {},
   "source": [
    "#### Installing Packages\n",
    "\n",
    "You can install packages from the terminal that is being run in the Jupyter Notebook by calling the Pkg package.  Alternatively, you can open the Julia application, change to your workspace directory, and type `]` to enter in the Pkg mode, then just type `add PackageName` ."
   ]
  },
  {
   "cell_type": "code",
   "execution_count": 44,
   "metadata": {},
   "outputs": [],
   "source": [
    "#using Pkg\n",
    "#Pkg.add(\"Statistics\") \n",
    "#Pkg.add(\"Distributions\")\n",
    "#Pkg.add(\"LinearAlgebra\")"
   ]
  },
  {
   "cell_type": "markdown",
   "metadata": {},
   "source": [
    "## 3. Putting Everything Together\n",
    "\n",
    "****"
   ]
  },
  {
   "cell_type": "code",
   "execution_count": 45,
   "metadata": {},
   "outputs": [],
   "source": [
    "using LinearAlgebra, Random, Distributions, Plots "
   ]
  },
  {
   "cell_type": "code",
   "execution_count": 46,
   "metadata": {},
   "outputs": [],
   "source": [
    "#Set the seed (Important for replicating your code!)\n",
    "Random.seed!(1234) ;"
   ]
  },
  {
   "cell_type": "markdown",
   "metadata": {},
   "source": [
    "Suppose we want to simulate data that follows this GDP \n",
    "\n",
    "$$ y_i = \\beta X_i  + \\varepsilon_i $$\n",
    "\n",
    "where \n",
    "\n",
    "$\\beta \\equiv  \\left[ \\begin{array}{c}  \\beta_1 \\\\ \\beta_2 \\end{array} \\right] = \\left[ \\begin{array}{c}  1.0 \\\\ -1.0 \\end{array} \\right]$ , $\\quad X_i \\sim N\\big( \\left[ \\begin{array}{c}  1.0 \\\\ 2.0 \\end{array} \\right], \\left[ \\begin{array}{c}  1.0 & \\rho\\\\ \\rho & 1.0 \\end{array} \\right] \\big) $, and  $\\varepsilon_i \\sim N(0,1)$.\n",
    "\n",
    "\n",
    "We want to compute average coverage of the confidence intervals of $\\beta_1$. The parameters should be set to $n = 1000$ observations, $R=500$ repetitions, and $\\rho = 0.9$. "
   ]
  },
  {
   "cell_type": "code",
   "execution_count": 47,
   "metadata": {},
   "outputs": [],
   "source": [
    "#Set constant number of repetition (I recommend using this when you need to set a global that won't be modified later on)\n",
    "const Reps = 500\n",
    "const β1 = 1.0 ;"
   ]
  },
  {
   "cell_type": "code",
   "execution_count": 48,
   "metadata": {},
   "outputs": [
    {
     "data": {
      "text/plain": [
       "gen_data (generic function with 4 methods)"
      ]
     },
     "metadata": {},
     "output_type": "display_data"
    }
   ],
   "source": [
    "function gen_data(n= 1000, β = [1.0; -1.0] , ρ = 0.9)\n",
    "    \"\"\"\n",
    "    n:= sample size\n",
    "    β:= true beta\n",
    "    ρ:= correlation coefficient\n",
    "    \"\"\"\n",
    "\n",
    "    #Define the Multivariate Normal Distribution instance\n",
    "    mvnormal = MvNormal([1.0; 2.0], [1 ρ; ρ 1]);\n",
    "    \n",
    "    #Matrix X (n x 2 ) and ε (n x 1)\n",
    "    X = rand(mvnormal,n)'\n",
    "    ε = randn(n, 1)\n",
    "    \n",
    "    #Vector y\n",
    "    y = X*β + ε\n",
    "        \n",
    "    #Return the data\n",
    "    return (X = X , y = y)\n",
    "end   "
   ]
  },
  {
   "cell_type": "code",
   "execution_count": 49,
   "metadata": {},
   "outputs": [
    {
     "data": {
      "text/plain": [
       "LMSettings"
      ]
     },
     "metadata": {},
     "output_type": "display_data"
    }
   ],
   "source": [
    "#The @with_kw allows to set default values inside a struct\n",
    "@with_kw struct LMSettings\n",
    "    variance_type::String = \"White\"\n",
    "    compute_ci::Bool = true\n",
    "    α::Real = 0.05\n",
    "end"
   ]
  },
  {
   "cell_type": "code",
   "execution_count": 50,
   "metadata": {},
   "outputs": [
    {
     "data": {
      "text/plain": [
       "LMSettings\n",
       "  variance_type: String \"White\"\n",
       "  compute_ci: Bool true\n",
       "  α: Float64 0.05\n"
      ]
     },
     "metadata": {},
     "output_type": "display_data"
    }
   ],
   "source": [
    "LMSettings()"
   ]
  },
  {
   "cell_type": "code",
   "execution_count": 51,
   "metadata": {},
   "outputs": [
    {
     "data": {
      "text/plain": [
       "LMSettings\n",
       "  variance_type: String \"Default\"\n",
       "  compute_ci: Bool false\n",
       "  α: Float64 0.05\n"
      ]
     },
     "metadata": {},
     "output_type": "display_data"
    }
   ],
   "source": [
    "LMSettings(variance_type = \"Default\", compute_ci =false)"
   ]
  },
  {
   "cell_type": "code",
   "execution_count": 52,
   "metadata": {},
   "outputs": [
    {
     "data": {
      "text/plain": [
       "ols (generic function with 1 method)"
      ]
     },
     "metadata": {},
     "output_type": "display_data"
    }
   ],
   "source": [
    "function ols(x,y; settings = LMSettings() )\n",
    "    #Extract sample size\n",
    "    n = size(x, 1)\n",
    "\n",
    "    #Estimate the model\n",
    "    xx = x'*x\n",
    "    xy = x'*y\n",
    "    βhat = xx\\xy\n",
    "    \n",
    "    res = y - x * βhat\n",
    "    \n",
    "    #Step 2: Compute Avar\n",
    "    if settings.variance_type == \"Default\"\n",
    "        avar = (res' * res) ./ xx \n",
    "        se = sqrt.(diag(avar))\n",
    "        \n",
    "    elseif settings.variance_type == \"White\"\n",
    "        xr = x .* res \n",
    "        avar = n*(xx \\ (xr' * xr) / xx)\n",
    "        se = sqrt.(diag(avar))\n",
    "        \n",
    "    else\n",
    "        error(\"Incorrect variance type in the settings.\")\n",
    "    end\n",
    "    \n",
    "    #Step 3: Compute Confidence Intervals\n",
    "    if settings.compute_ci == true         \n",
    "        ci_lower = quantile(Normal(), settings.α / 2) .* se .+ βhat;\n",
    "        ci_upper = quantile(Normal(), 1 - settings.α / 2) .* se  .+ βhat\n",
    "        \n",
    "    else \n",
    "        ci_lower = nothing\n",
    "        ci_upper = nothing \n",
    "        \n",
    "    end\n",
    "    \n",
    "    return (coef = βhat, se = se, ci_upper = ci_upper , ci_lower = ci_lower )\n",
    "end"
   ]
  },
  {
   "cell_type": "code",
   "execution_count": 53,
   "metadata": {},
   "outputs": [
    {
     "name": "stdout",
     "output_type": "stream",
     "text": [
      "Average Coverage = 1.0\n"
     ]
    }
   ],
   "source": [
    "#Create Matrix to store results\n",
    "InsideCI = zeros(Reps,1)\n",
    "Coeficients = zeros(Reps,2)\n",
    "\n",
    "for i=1:Reps\n",
    "\n",
    "    #Simulating Data\n",
    "    X,y = gen_data()\n",
    "\n",
    "    #Computing coefficients\n",
    "    @unpack coef , se , ci_upper  , ci_lower  = ols(X,y);\n",
    "\n",
    "    #Coverage Results\n",
    "    InsideCI[i] = ci_upper[1] > β1 && ci_lower[1] < β1 ? 1.0 : 0.0\n",
    "    Coeficients[i,:] = coef\n",
    "   \n",
    "end\n",
    "\n",
    "Coverage = mean(InsideCI, dims=1);\n",
    "println(\"Average Coverage = \", Coverage[1])\n",
    "\n"
   ]
  },
  {
   "cell_type": "markdown",
   "metadata": {},
   "source": [
    "We can also plot the distribution of $\\beta_1$ and $\\beta_2$ across simulations."
   ]
  },
  {
   "cell_type": "code",
   "execution_count": 54,
   "metadata": {},
   "outputs": [
    {
     "data": {
      "image/png": "[encoded data removed]",
      "image/svg+xml": [
       "<?xml version=\"1.0\" encoding=\"utf-8\"?>\n",
       "<svg xmlns=\"http://www.w3.org/2000/svg\" xmlns:xlink=\"http://www.w3.org/1999/xlink\" width=\"500\" height=\"300\" viewBox=\"0 0 2000 1200\">\n",
       "<defs>\n",
       "  <clipPath id=\"clip290\">\n",
       "    <rect x=\"0\" y=\"0\" width=\"2000\" height=\"1200\"/>\n",
       "  </clipPath>\n",
       "</defs>\n",
       "<path clip-path=\"url(#clip290)\" d=\"M0 1200 L2000 1200 L2000 0 L0 0  Z\" fill=\"#ffffff\" fill-rule=\"evenodd\" fill-opacity=\"1\"/>\n",
       "<defs>\n",
       "  <clipPath id=\"clip291\">\n",
       "    <rect x=\"400\" y=\"0\" width=\"1401\" height=\"1200\"/>\n",
       "  </clipPath>\n",
       "</defs>\n",
       "<path clip-path=\"url(#clip290)\" d=\"M165.121 1093.9 L1952.76 1093.9 L1952.76 47.2441 L165.121 47.2441  Z\" fill=\"#ffffff\" fill-rule=\"evenodd\" fill-opacity=\"1\"/>\n",
       "<defs>\n",
       "  <clipPath id=\"clip292\">\n",
       "    <rect x=\"165\" y=\"47\" width=\"1789\" height=\"1048\"/>\n",
       "  </clipPath>\n",
       "</defs>\n",
       "<polyline clip-path=\"url(#clip292)\" style=\"stroke:#000000; stroke-linecap:round; stroke-linejoin:round; stroke-width:2; stroke-opacity:0.1; fill:none\" points=\"294.292,1093.9 294.292,47.2441 \"/>\n",
       "<polyline clip-path=\"url(#clip292)\" style=\"stroke:#000000; stroke-linecap:round; stroke-linejoin:round; stroke-width:2; stroke-opacity:0.1; fill:none\" points=\"664.94,1093.9 664.94,47.2441 \"/>\n",
       "<polyline clip-path=\"url(#clip292)\" style=\"stroke:#000000; stroke-linecap:round; stroke-linejoin:round; stroke-width:2; stroke-opacity:0.1; fill:none\" points=\"1035.59,1093.9 1035.59,47.2441 \"/>\n",
       "<polyline clip-path=\"url(#clip292)\" style=\"stroke:#000000; stroke-linecap:round; stroke-linejoin:round; stroke-width:2; stroke-opacity:0.1; fill:none\" points=\"1406.24,1093.9 1406.24,47.2441 \"/>\n",
       "<polyline clip-path=\"url(#clip292)\" style=\"stroke:#000000; stroke-linecap:round; stroke-linejoin:round; stroke-width:2; stroke-opacity:0.1; fill:none\" points=\"1776.88,1093.9 1776.88,47.2441 \"/>\n",
       "<polyline clip-path=\"url(#clip290)\" style=\"stroke:#000000; stroke-linecap:round; stroke-linejoin:round; stroke-width:4; stroke-opacity:1; fill:none\" points=\"165.121,1093.9 1952.76,1093.9 \"/>\n",
       "<polyline clip-path=\"url(#clip290)\" style=\"stroke:#000000; stroke-linecap:round; stroke-linejoin:round; stroke-width:4; stroke-opacity:1; fill:none\" points=\"294.292,1093.9 294.292,1075.01 \"/>\n",
       "<polyline clip-path=\"url(#clip290)\" style=\"stroke:#000000; stroke-linecap:round; stroke-linejoin:round; stroke-width:4; stroke-opacity:1; fill:none\" points=\"664.94,1093.9 664.94,1075.01 \"/>\n",
       "<polyline clip-path=\"url(#clip290)\" style=\"stroke:#000000; stroke-linecap:round; stroke-linejoin:round; stroke-width:4; stroke-opacity:1; fill:none\" points=\"1035.59,1093.9 1035.59,1075.01 \"/>\n",
       "<polyline clip-path=\"url(#clip290)\" style=\"stroke:#000000; stroke-linecap:round; stroke-linejoin:round; stroke-width:4; stroke-opacity:1; fill:none\" points=\"1406.24,1093.9 1406.24,1075.01 \"/>\n",
       "<polyline clip-path=\"url(#clip290)\" style=\"stroke:#000000; stroke-linecap:round; stroke-linejoin:round; stroke-width:4; stroke-opacity:1; fill:none\" points=\"1776.88,1093.9 1776.88,1075.01 \"/>\n",
       "<path clip-path=\"url(#clip290)\" d=\"M240.82 1136.28 L270.496 1136.28 L270.496 1140.21 L240.82 1140.21 L240.82 1136.28 Z\" fill=\"#000000\" fill-rule=\"nonzero\" fill-opacity=\"1\" /><path clip-path=\"url(#clip290)\" d=\"M281.399 1149.17 L289.037 1149.17 L289.037 1122.8 L280.727 1124.47 L280.727 1120.21 L288.991 1118.54 L293.667 1118.54 L293.667 1149.17 L301.306 1149.17 L301.306 1153.1 L281.399 1153.1 L281.399 1149.17 Z\" fill=\"#000000\" fill-rule=\"nonzero\" fill-opacity=\"1\" /><path clip-path=\"url(#clip290)\" d=\"M310.75 1147.22 L315.635 1147.22 L315.635 1153.1 L310.75 1153.1 L310.75 1147.22 Z\" fill=\"#000000\" fill-rule=\"nonzero\" fill-opacity=\"1\" /><path clip-path=\"url(#clip290)\" d=\"M335.82 1121.62 Q332.209 1121.62 330.38 1125.19 Q328.574 1128.73 328.574 1135.86 Q328.574 1142.97 330.38 1146.53 Q332.209 1150.07 335.82 1150.07 Q339.454 1150.07 341.259 1146.53 Q343.088 1142.97 343.088 1135.86 Q343.088 1128.73 341.259 1125.19 Q339.454 1121.62 335.82 1121.62 M335.82 1117.92 Q341.63 1117.92 344.685 1122.53 Q347.764 1127.11 347.764 1135.86 Q347.764 1144.59 344.685 1149.19 Q341.63 1153.78 335.82 1153.78 Q330.009 1153.78 326.931 1149.19 Q323.875 1144.59 323.875 1135.86 Q323.875 1127.11 326.931 1122.53 Q330.009 1117.92 335.82 1117.92 Z\" fill=\"#000000\" fill-rule=\"nonzero\" fill-opacity=\"1\" /><path clip-path=\"url(#clip290)\" d=\"M611.966 1136.28 L641.641 1136.28 L641.641 1140.21 L611.966 1140.21 L611.966 1136.28 Z\" fill=\"#000000\" fill-rule=\"nonzero\" fill-opacity=\"1\" /><path clip-path=\"url(#clip290)\" d=\"M661.734 1121.62 Q658.123 1121.62 656.294 1125.19 Q654.489 1128.73 654.489 1135.86 Q654.489 1142.97 656.294 1146.53 Q658.123 1150.07 661.734 1150.07 Q665.368 1150.07 667.174 1146.53 Q669.002 1142.97 669.002 1135.86 Q669.002 1128.73 667.174 1125.19 Q665.368 1121.62 661.734 1121.62 M661.734 1117.92 Q667.544 1117.92 670.6 1122.53 Q673.678 1127.11 673.678 1135.86 Q673.678 1144.59 670.6 1149.19 Q667.544 1153.78 661.734 1153.78 Q655.924 1153.78 652.845 1149.19 Q649.79 1144.59 649.79 1135.86 Q649.79 1127.11 652.845 1122.53 Q655.924 1117.92 661.734 1117.92 Z\" fill=\"#000000\" fill-rule=\"nonzero\" fill-opacity=\"1\" /><path clip-path=\"url(#clip290)\" d=\"M681.896 1147.22 L686.78 1147.22 L686.78 1153.1 L681.896 1153.1 L681.896 1147.22 Z\" fill=\"#000000\" fill-rule=\"nonzero\" fill-opacity=\"1\" /><path clip-path=\"url(#clip290)\" d=\"M697.012 1118.54 L715.368 1118.54 L715.368 1122.48 L701.294 1122.48 L701.294 1130.95 Q702.312 1130.6 703.331 1130.44 Q704.349 1130.26 705.368 1130.26 Q711.155 1130.26 714.535 1133.43 Q717.914 1136.6 717.914 1142.02 Q717.914 1147.59 714.442 1150.7 Q710.97 1153.78 704.65 1153.78 Q702.474 1153.78 700.206 1153.4 Q697.961 1153.03 695.553 1152.29 L695.553 1147.59 Q697.637 1148.73 699.859 1149.28 Q702.081 1149.84 704.558 1149.84 Q708.562 1149.84 710.9 1147.73 Q713.238 1145.63 713.238 1142.02 Q713.238 1138.4 710.9 1136.3 Q708.562 1134.19 704.558 1134.19 Q702.683 1134.19 700.808 1134.61 Q698.956 1135.03 697.012 1135.9 L697.012 1118.54 Z\" fill=\"#000000\" fill-rule=\"nonzero\" fill-opacity=\"1\" /><path clip-path=\"url(#clip290)\" d=\"M1012.97 1121.62 Q1009.36 1121.62 1007.53 1125.19 Q1005.73 1128.73 1005.73 1135.86 Q1005.73 1142.97 1007.53 1146.53 Q1009.36 1150.07 1012.97 1150.07 Q1016.61 1150.07 1018.41 1146.53 Q1020.24 1142.97 1020.24 1135.86 Q1020.24 1128.73 1018.41 1125.19 Q1016.61 1121.62 1012.97 1121.62 M1012.97 1117.92 Q1018.78 1117.92 1021.84 1122.53 Q1024.92 1127.11 1024.92 1135.86 Q1024.92 1144.59 1021.84 1149.19 Q1018.78 1153.78 1012.97 1153.78 Q1007.16 1153.78 1004.08 1149.19 Q1001.03 1144.59 1001.03 1135.86 Q1001.03 1127.11 1004.08 1122.53 Q1007.16 1117.92 1012.97 1117.92 Z\" fill=\"#000000\" fill-rule=\"nonzero\" fill-opacity=\"1\" /><path clip-path=\"url(#clip290)\" d=\"M1033.13 1147.22 L1038.02 1147.22 L1038.02 1153.1 L1033.13 1153.1 L1033.13 1147.22 Z\" fill=\"#000000\" fill-rule=\"nonzero\" fill-opacity=\"1\" /><path clip-path=\"url(#clip290)\" d=\"M1058.2 1121.62 Q1054.59 1121.62 1052.76 1125.19 Q1050.96 1128.73 1050.96 1135.86 Q1050.96 1142.97 1052.76 1146.53 Q1054.59 1150.07 1058.2 1150.07 Q1061.84 1150.07 1063.64 1146.53 Q1065.47 1142.97 1065.47 1135.86 Q1065.47 1128.73 1063.64 1125.19 Q1061.84 1121.62 1058.2 1121.62 M1058.2 1117.92 Q1064.01 1117.92 1067.07 1122.53 Q1070.15 1127.11 1070.15 1135.86 Q1070.15 1144.59 1067.07 1149.19 Q1064.01 1153.78 1058.2 1153.78 Q1052.39 1153.78 1049.31 1149.19 Q1046.26 1144.59 1046.26 1135.86 Q1046.26 1127.11 1049.31 1122.53 Q1052.39 1117.92 1058.2 1117.92 Z\" fill=\"#000000\" fill-rule=\"nonzero\" fill-opacity=\"1\" /><path clip-path=\"url(#clip290)\" d=\"M1384.12 1121.62 Q1380.51 1121.62 1378.68 1125.19 Q1376.87 1128.73 1376.87 1135.86 Q1376.87 1142.97 1378.68 1146.53 Q1380.51 1150.07 1384.12 1150.07 Q1387.75 1150.07 1389.56 1146.53 Q1391.39 1142.97 1391.39 1135.86 Q1391.39 1128.73 1389.56 1125.19 Q1387.75 1121.62 1384.12 1121.62 M1384.12 1117.92 Q1389.93 1117.92 1392.98 1122.53 Q1396.06 1127.11 1396.06 1135.86 Q1396.06 1144.59 1392.98 1149.19 Q1389.93 1153.78 1384.12 1153.78 Q1378.31 1153.78 1375.23 1149.19 Q1372.17 1144.59 1372.17 1135.86 Q1372.17 1127.11 1375.23 1122.53 Q1378.31 1117.92 1384.12 1117.92 Z\" fill=\"#000000\" fill-rule=\"nonzero\" fill-opacity=\"1\" /><path clip-path=\"url(#clip290)\" d=\"M1404.28 1147.22 L1409.16 1147.22 L1409.16 1153.1 L1404.28 1153.1 L1404.28 1147.22 Z\" fill=\"#000000\" fill-rule=\"nonzero\" fill-opacity=\"1\" /><path clip-path=\"url(#clip290)\" d=\"M1419.4 1118.54 L1437.75 1118.54 L1437.75 1122.48 L1423.68 1122.48 L1423.68 1130.95 Q1424.7 1130.6 1425.71 1130.44 Q1426.73 1130.26 1427.75 1130.26 Q1433.54 1130.26 1436.92 1133.43 Q1440.3 1136.6 1440.3 1142.02 Q1440.3 1147.59 1436.83 1150.7 Q1433.35 1153.78 1427.03 1153.78 Q1424.86 1153.78 1422.59 1153.4 Q1420.34 1153.03 1417.94 1152.29 L1417.94 1147.59 Q1420.02 1148.73 1422.24 1149.28 Q1424.46 1149.84 1426.94 1149.84 Q1430.95 1149.84 1433.28 1147.73 Q1435.62 1145.63 1435.62 1142.02 Q1435.62 1138.4 1433.28 1136.3 Q1430.95 1134.19 1426.94 1134.19 Q1425.07 1134.19 1423.19 1134.61 Q1421.34 1135.03 1419.4 1135.9 L1419.4 1118.54 Z\" fill=\"#000000\" fill-rule=\"nonzero\" fill-opacity=\"1\" /><path clip-path=\"url(#clip290)\" d=\"M1744.04 1149.17 L1751.68 1149.17 L1751.68 1122.8 L1743.37 1124.47 L1743.37 1120.21 L1751.63 1118.54 L1756.3 1118.54 L1756.3 1149.17 L1763.94 1149.17 L1763.94 1153.1 L1744.04 1153.1 L1744.04 1149.17 Z\" fill=\"#000000\" fill-rule=\"nonzero\" fill-opacity=\"1\" /><path clip-path=\"url(#clip290)\" d=\"M1773.39 1147.22 L1778.27 1147.22 L1778.27 1153.1 L1773.39 1153.1 L1773.39 1147.22 Z\" fill=\"#000000\" fill-rule=\"nonzero\" fill-opacity=\"1\" /><path clip-path=\"url(#clip290)\" d=\"M1798.46 1121.62 Q1794.85 1121.62 1793.02 1125.19 Q1791.21 1128.73 1791.21 1135.86 Q1791.21 1142.97 1793.02 1146.53 Q1794.85 1150.07 1798.46 1150.07 Q1802.09 1150.07 1803.9 1146.53 Q1805.73 1142.97 1805.73 1135.86 Q1805.73 1128.73 1803.9 1125.19 Q1802.09 1121.62 1798.46 1121.62 M1798.46 1117.92 Q1804.27 1117.92 1807.32 1122.53 Q1810.4 1127.11 1810.4 1135.86 Q1810.4 1144.59 1807.32 1149.19 Q1804.27 1153.78 1798.46 1153.78 Q1792.65 1153.78 1789.57 1149.19 Q1786.51 1144.59 1786.51 1135.86 Q1786.51 1127.11 1789.57 1122.53 Q1792.65 1117.92 1798.46 1117.92 Z\" fill=\"#000000\" fill-rule=\"nonzero\" fill-opacity=\"1\" /><polyline clip-path=\"url(#clip292)\" style=\"stroke:#000000; stroke-linecap:round; stroke-linejoin:round; stroke-width:2; stroke-opacity:0.1; fill:none\" points=\"165.121,1093.9 1952.76,1093.9 \"/>\n",
       "<polyline clip-path=\"url(#clip292)\" style=\"stroke:#000000; stroke-linecap:round; stroke-linejoin:round; stroke-width:2; stroke-opacity:0.1; fill:none\" points=\"165.121,862.342 1952.76,862.342 \"/>\n",
       "<polyline clip-path=\"url(#clip292)\" style=\"stroke:#000000; stroke-linecap:round; stroke-linejoin:round; stroke-width:2; stroke-opacity:0.1; fill:none\" points=\"165.121,630.78 1952.76,630.78 \"/>\n",
       "<polyline clip-path=\"url(#clip292)\" style=\"stroke:#000000; stroke-linecap:round; stroke-linejoin:round; stroke-width:2; stroke-opacity:0.1; fill:none\" points=\"165.121,399.218 1952.76,399.218 \"/>\n",
       "<polyline clip-path=\"url(#clip292)\" style=\"stroke:#000000; stroke-linecap:round; stroke-linejoin:round; stroke-width:2; stroke-opacity:0.1; fill:none\" points=\"165.121,167.656 1952.76,167.656 \"/>\n",
       "<polyline clip-path=\"url(#clip290)\" style=\"stroke:#000000; stroke-linecap:round; stroke-linejoin:round; stroke-width:4; stroke-opacity:1; fill:none\" points=\"165.121,1093.9 165.121,47.2441 \"/>\n",
       "<polyline clip-path=\"url(#clip290)\" style=\"stroke:#000000; stroke-linecap:round; stroke-linejoin:round; stroke-width:4; stroke-opacity:1; fill:none\" points=\"165.121,1093.9 184.019,1093.9 \"/>\n",
       "<polyline clip-path=\"url(#clip290)\" style=\"stroke:#000000; stroke-linecap:round; stroke-linejoin:round; stroke-width:4; stroke-opacity:1; fill:none\" points=\"165.121,862.342 184.019,862.342 \"/>\n",
       "<polyline clip-path=\"url(#clip290)\" style=\"stroke:#000000; stroke-linecap:round; stroke-linejoin:round; stroke-width:4; stroke-opacity:1; fill:none\" points=\"165.121,630.78 184.019,630.78 \"/>\n",
       "<polyline clip-path=\"url(#clip290)\" style=\"stroke:#000000; stroke-linecap:round; stroke-linejoin:round; stroke-width:4; stroke-opacity:1; fill:none\" points=\"165.121,399.218 184.019,399.218 \"/>\n",
       "<polyline clip-path=\"url(#clip290)\" style=\"stroke:#000000; stroke-linecap:round; stroke-linejoin:round; stroke-width:4; stroke-opacity:1; fill:none\" points=\"165.121,167.656 184.019,167.656 \"/>\n",
       "<path clip-path=\"url(#clip290)\" d=\"M123.177 1079.7 Q119.566 1079.7 117.737 1083.27 Q115.932 1086.81 115.932 1093.94 Q115.932 1101.05 117.737 1104.61 Q119.566 1108.15 123.177 1108.15 Q126.811 1108.15 128.617 1104.61 Q130.445 1101.05 130.445 1093.94 Q130.445 1086.81 128.617 1083.27 Q126.811 1079.7 123.177 1079.7 M123.177 1076 Q128.987 1076 132.043 1080.61 Q135.121 1085.19 135.121 1093.94 Q135.121 1102.67 132.043 1107.27 Q128.987 1111.86 123.177 1111.86 Q117.367 1111.86 114.288 1107.27 Q111.233 1102.67 111.233 1093.94 Q111.233 1085.19 114.288 1080.61 Q117.367 1076 123.177 1076 Z\" fill=\"#000000\" fill-rule=\"nonzero\" fill-opacity=\"1\" /><path clip-path=\"url(#clip290)\" d=\"M88.0382 875.687 L104.358 875.687 L104.358 879.622 L82.4133 879.622 L82.4133 875.687 Q85.0753 872.932 89.6586 868.303 Q94.2651 863.65 95.4456 862.307 Q97.691 859.784 98.5706 858.048 Q99.4734 856.289 99.4734 854.599 Q99.4734 851.844 97.5289 850.108 Q95.6076 848.372 92.5058 848.372 Q90.3067 848.372 87.8531 849.136 Q85.4225 849.9 82.6447 851.451 L82.6447 846.729 Q85.4688 845.594 87.9225 845.016 Q90.3762 844.437 92.4132 844.437 Q97.7836 844.437 100.978 847.122 Q104.172 849.807 104.172 854.298 Q104.172 856.428 103.362 858.349 Q102.575 860.247 100.469 862.84 Q99.89 863.511 96.7882 866.729 Q93.6864 869.923 88.0382 875.687 Z\" fill=\"#000000\" fill-rule=\"nonzero\" fill-opacity=\"1\" /><path clip-path=\"url(#clip290)\" d=\"M114.219 845.062 L132.575 845.062 L132.575 848.997 L118.501 848.997 L118.501 857.469 Q119.52 857.122 120.538 856.96 Q121.557 856.775 122.575 856.775 Q128.362 856.775 131.742 859.946 Q135.121 863.117 135.121 868.534 Q135.121 874.113 131.649 877.215 Q128.177 880.293 121.857 880.293 Q119.682 880.293 117.413 879.923 Q115.168 879.553 112.76 878.812 L112.76 874.113 Q114.844 875.247 117.066 875.803 Q119.288 876.358 121.765 876.358 Q125.77 876.358 128.107 874.252 Q130.445 872.145 130.445 868.534 Q130.445 864.923 128.107 862.817 Q125.77 860.71 121.765 860.71 Q119.89 860.71 118.015 861.127 Q116.163 861.543 114.219 862.423 L114.219 845.062 Z\" fill=\"#000000\" fill-rule=\"nonzero\" fill-opacity=\"1\" /><path clip-path=\"url(#clip290)\" d=\"M83.0614 613.5 L101.418 613.5 L101.418 617.435 L87.3438 617.435 L87.3438 625.907 Q88.3623 625.56 89.3808 625.398 Q90.3993 625.213 91.4178 625.213 Q97.2049 625.213 100.584 628.384 Q103.964 631.556 103.964 636.972 Q103.964 642.551 100.492 645.653 Q97.0197 648.731 90.7003 648.731 Q88.5243 648.731 86.2558 648.361 Q84.0105 647.991 81.6031 647.25 L81.6031 642.551 Q83.6864 643.685 85.9086 644.241 Q88.1308 644.796 90.6077 644.796 Q94.6123 644.796 96.9502 642.69 Q99.2882 640.583 99.2882 636.972 Q99.2882 633.361 96.9502 631.255 Q94.6123 629.148 90.6077 629.148 Q88.7327 629.148 86.8577 629.565 Q85.0058 629.981 83.0614 630.861 L83.0614 613.5 Z\" fill=\"#000000\" fill-rule=\"nonzero\" fill-opacity=\"1\" /><path clip-path=\"url(#clip290)\" d=\"M123.177 616.579 Q119.566 616.579 117.737 620.144 Q115.932 623.685 115.932 630.815 Q115.932 637.921 117.737 641.486 Q119.566 645.028 123.177 645.028 Q126.811 645.028 128.617 641.486 Q130.445 637.921 130.445 630.815 Q130.445 623.685 128.617 620.144 Q126.811 616.579 123.177 616.579 M123.177 612.875 Q128.987 612.875 132.043 617.482 Q135.121 622.065 135.121 630.815 Q135.121 639.542 132.043 644.148 Q128.987 648.731 123.177 648.731 Q117.367 648.731 114.288 644.148 Q111.233 639.542 111.233 630.815 Q111.233 622.065 114.288 617.482 Q117.367 612.875 123.177 612.875 Z\" fill=\"#000000\" fill-rule=\"nonzero\" fill-opacity=\"1\" /><path clip-path=\"url(#clip290)\" d=\"M82.8299 381.938 L105.052 381.938 L105.052 383.929 L92.5058 416.498 L87.6216 416.498 L99.4271 385.873 L82.8299 385.873 L82.8299 381.938 Z\" fill=\"#000000\" fill-rule=\"nonzero\" fill-opacity=\"1\" /><path clip-path=\"url(#clip290)\" d=\"M114.219 381.938 L132.575 381.938 L132.575 385.873 L118.501 385.873 L118.501 394.346 Q119.52 393.998 120.538 393.836 Q121.557 393.651 122.575 393.651 Q128.362 393.651 131.742 396.822 Q135.121 399.994 135.121 405.41 Q135.121 410.989 131.649 414.091 Q128.177 417.169 121.857 417.169 Q119.682 417.169 117.413 416.799 Q115.168 416.429 112.76 415.688 L112.76 410.989 Q114.844 412.123 117.066 412.679 Q119.288 413.234 121.765 413.234 Q125.77 413.234 128.107 411.128 Q130.445 409.021 130.445 405.41 Q130.445 401.799 128.107 399.693 Q125.77 397.586 121.765 397.586 Q119.89 397.586 118.015 398.003 Q116.163 398.42 114.219 399.299 L114.219 381.938 Z\" fill=\"#000000\" fill-rule=\"nonzero\" fill-opacity=\"1\" /><path clip-path=\"url(#clip290)\" d=\"M53.6634 181.001 L61.3023 181.001 L61.3023 154.636 L52.9921 156.302 L52.9921 152.043 L61.256 150.376 L65.9319 150.376 L65.9319 181.001 L73.5707 181.001 L73.5707 184.936 L53.6634 184.936 L53.6634 181.001 Z\" fill=\"#000000\" fill-rule=\"nonzero\" fill-opacity=\"1\" /><path clip-path=\"url(#clip290)\" d=\"M93.0151 153.455 Q89.404 153.455 87.5753 157.02 Q85.7697 160.561 85.7697 167.691 Q85.7697 174.797 87.5753 178.362 Q89.404 181.904 93.0151 181.904 Q96.6493 181.904 98.4548 178.362 Q100.284 174.797 100.284 167.691 Q100.284 160.561 98.4548 157.02 Q96.6493 153.455 93.0151 153.455 M93.0151 149.751 Q98.8252 149.751 101.881 154.358 Q104.959 158.941 104.959 167.691 Q104.959 176.418 101.881 181.024 Q98.8252 185.608 93.0151 185.608 Q87.2049 185.608 84.1262 181.024 Q81.0707 176.418 81.0707 167.691 Q81.0707 158.941 84.1262 154.358 Q87.2049 149.751 93.0151 149.751 Z\" fill=\"#000000\" fill-rule=\"nonzero\" fill-opacity=\"1\" /><path clip-path=\"url(#clip290)\" d=\"M123.177 153.455 Q119.566 153.455 117.737 157.02 Q115.932 160.561 115.932 167.691 Q115.932 174.797 117.737 178.362 Q119.566 181.904 123.177 181.904 Q126.811 181.904 128.617 178.362 Q130.445 174.797 130.445 167.691 Q130.445 160.561 128.617 157.02 Q126.811 153.455 123.177 153.455 M123.177 149.751 Q128.987 149.751 132.043 154.358 Q135.121 158.941 135.121 167.691 Q135.121 176.418 132.043 181.024 Q128.987 185.608 123.177 185.608 Q117.367 185.608 114.288 181.024 Q111.233 176.418 111.233 167.691 Q111.233 158.941 114.288 154.358 Q117.367 149.751 123.177 149.751 Z\" fill=\"#000000\" fill-rule=\"nonzero\" fill-opacity=\"1\" /><path clip-path=\"url(#clip292)\" d=\"M1673.1 1038.33 L1673.1 1093.9 L1687.93 1093.9 L1687.93 1038.33 L1673.1 1038.33 L1673.1 1038.33  Z\" fill=\"#009af9\" fill-rule=\"evenodd\" fill-opacity=\"0.3\"/>\n",
       "<polyline clip-path=\"url(#clip292)\" style=\"stroke:#000000; stroke-linecap:round; stroke-linejoin:round; stroke-width:4; stroke-opacity:1; fill:none\" points=\"1673.1,1038.33 1673.1,1093.9 1687.93,1093.9 1687.93,1038.33 1673.1,1038.33 \"/>\n",
       "<path clip-path=\"url(#clip292)\" d=\"M1687.93 982.754 L1687.93 1093.9 L1702.75 1093.9 L1702.75 982.754 L1687.93 982.754 L1687.93 982.754  Z\" fill=\"#009af9\" fill-rule=\"evenodd\" fill-opacity=\"0.3\"/>\n",
       "<polyline clip-path=\"url(#clip292)\" style=\"stroke:#000000; stroke-linecap:round; stroke-linejoin:round; stroke-width:4; stroke-opacity:1; fill:none\" points=\"1687.93,982.754 1687.93,1093.9 1702.75,1093.9 1702.75,982.754 1687.93,982.754 \"/>\n",
       "<path clip-path=\"url(#clip292)\" d=\"M1702.75 927.179 L1702.75 1093.9 L1717.58 1093.9 L1717.58 927.179 L1702.75 927.179 L1702.75 927.179  Z\" fill=\"#009af9\" fill-rule=\"evenodd\" fill-opacity=\"0.3\"/>\n",
       "<polyline clip-path=\"url(#clip292)\" style=\"stroke:#000000; stroke-linecap:round; stroke-linejoin:round; stroke-width:4; stroke-opacity:1; fill:none\" points=\"1702.75,927.179 1702.75,1093.9 1717.58,1093.9 1717.58,927.179 1702.75,927.179 \"/>\n",
       "<path clip-path=\"url(#clip292)\" d=\"M1717.58 778.98 L1717.58 1093.9 L1732.41 1093.9 L1732.41 778.98 L1717.58 778.98 L1717.58 778.98  Z\" fill=\"#009af9\" fill-rule=\"evenodd\" fill-opacity=\"0.3\"/>\n",
       "<polyline clip-path=\"url(#clip292)\" style=\"stroke:#000000; stroke-linecap:round; stroke-linejoin:round; stroke-width:4; stroke-opacity:1; fill:none\" points=\"1717.58,778.98 1717.58,1093.9 1732.41,1093.9 1732.41,778.98 1717.58,778.98 \"/>\n",
       "<path clip-path=\"url(#clip292)\" d=\"M1732.41 686.355 L1732.41 1093.9 L1747.23 1093.9 L1747.23 686.355 L1732.41 686.355 L1732.41 686.355  Z\" fill=\"#009af9\" fill-rule=\"evenodd\" fill-opacity=\"0.3\"/>\n",
       "<polyline clip-path=\"url(#clip292)\" style=\"stroke:#000000; stroke-linecap:round; stroke-linejoin:round; stroke-width:4; stroke-opacity:1; fill:none\" points=\"1732.41,686.355 1732.41,1093.9 1747.23,1093.9 1747.23,686.355 1732.41,686.355 \"/>\n",
       "<path clip-path=\"url(#clip292)\" d=\"M1747.23 436.268 L1747.23 1093.9 L1762.06 1093.9 L1762.06 436.268 L1747.23 436.268 L1747.23 436.268  Z\" fill=\"#009af9\" fill-rule=\"evenodd\" fill-opacity=\"0.3\"/>\n",
       "<polyline clip-path=\"url(#clip292)\" style=\"stroke:#000000; stroke-linecap:round; stroke-linejoin:round; stroke-width:4; stroke-opacity:1; fill:none\" points=\"1747.23,436.268 1747.23,1093.9 1762.06,1093.9 1762.06,436.268 1747.23,436.268 \"/>\n",
       "<path clip-path=\"url(#clip292)\" d=\"M1762.06 399.218 L1762.06 1093.9 L1776.88 1093.9 L1776.88 399.218 L1762.06 399.218 L1762.06 399.218  Z\" fill=\"#009af9\" fill-rule=\"evenodd\" fill-opacity=\"0.3\"/>\n",
       "<polyline clip-path=\"url(#clip292)\" style=\"stroke:#000000; stroke-linecap:round; stroke-linejoin:round; stroke-width:4; stroke-opacity:1; fill:none\" points=\"1762.06,399.218 1762.06,1093.9 1776.88,1093.9 1776.88,399.218 1762.06,399.218 \"/>\n",
       "<path clip-path=\"url(#clip292)\" d=\"M1776.88 427.006 L1776.88 1093.9 L1791.71 1093.9 L1791.71 427.006 L1776.88 427.006 L1776.88 427.006  Z\" fill=\"#009af9\" fill-rule=\"evenodd\" fill-opacity=\"0.3\"/>\n",
       "<polyline clip-path=\"url(#clip292)\" style=\"stroke:#000000; stroke-linecap:round; stroke-linejoin:round; stroke-width:4; stroke-opacity:1; fill:none\" points=\"1776.88,427.006 1776.88,1093.9 1791.71,1093.9 1791.71,427.006 1776.88,427.006 \"/>\n",
       "<path clip-path=\"url(#clip292)\" d=\"M1791.71 556.68 L1791.71 1093.9 L1806.54 1093.9 L1806.54 556.68 L1791.71 556.68 L1791.71 556.68  Z\" fill=\"#009af9\" fill-rule=\"evenodd\" fill-opacity=\"0.3\"/>\n",
       "<polyline clip-path=\"url(#clip292)\" style=\"stroke:#000000; stroke-linecap:round; stroke-linejoin:round; stroke-width:4; stroke-opacity:1; fill:none\" points=\"1791.71,556.68 1791.71,1093.9 1806.54,1093.9 1806.54,556.68 1791.71,556.68 \"/>\n",
       "<path clip-path=\"url(#clip292)\" d=\"M1806.54 575.205 L1806.54 1093.9 L1821.36 1093.9 L1821.36 575.205 L1806.54 575.205 L1806.54 575.205  Z\" fill=\"#009af9\" fill-rule=\"evenodd\" fill-opacity=\"0.3\"/>\n",
       "<polyline clip-path=\"url(#clip292)\" style=\"stroke:#000000; stroke-linecap:round; stroke-linejoin:round; stroke-width:4; stroke-opacity:1; fill:none\" points=\"1806.54,575.205 1806.54,1093.9 1821.36,1093.9 1821.36,575.205 1806.54,575.205 \"/>\n",
       "<path clip-path=\"url(#clip292)\" d=\"M1821.36 871.604 L1821.36 1093.9 L1836.19 1093.9 L1836.19 871.604 L1821.36 871.604 L1821.36 871.604  Z\" fill=\"#009af9\" fill-rule=\"evenodd\" fill-opacity=\"0.3\"/>\n",
       "<polyline clip-path=\"url(#clip292)\" style=\"stroke:#000000; stroke-linecap:round; stroke-linejoin:round; stroke-width:4; stroke-opacity:1; fill:none\" points=\"1821.36,871.604 1821.36,1093.9 1836.19,1093.9 1836.19,871.604 1821.36,871.604 \"/>\n",
       "<path clip-path=\"url(#clip292)\" d=\"M1836.19 973.492 L1836.19 1093.9 L1851.01 1093.9 L1851.01 973.492 L1836.19 973.492 L1836.19 973.492  Z\" fill=\"#009af9\" fill-rule=\"evenodd\" fill-opacity=\"0.3\"/>\n",
       "<polyline clip-path=\"url(#clip292)\" style=\"stroke:#000000; stroke-linecap:round; stroke-linejoin:round; stroke-width:4; stroke-opacity:1; fill:none\" points=\"1836.19,973.492 1836.19,1093.9 1851.01,1093.9 1851.01,973.492 1836.19,973.492 \"/>\n",
       "<path clip-path=\"url(#clip292)\" d=\"M1851.01 992.017 L1851.01 1093.9 L1865.84 1093.9 L1865.84 992.017 L1851.01 992.017 L1851.01 992.017  Z\" fill=\"#009af9\" fill-rule=\"evenodd\" fill-opacity=\"0.3\"/>\n",
       "<polyline clip-path=\"url(#clip292)\" style=\"stroke:#000000; stroke-linecap:round; stroke-linejoin:round; stroke-width:4; stroke-opacity:1; fill:none\" points=\"1851.01,992.017 1851.01,1093.9 1865.84,1093.9 1865.84,992.017 1851.01,992.017 \"/>\n",
       "<path clip-path=\"url(#clip292)\" d=\"M1865.84 1047.59 L1865.84 1093.9 L1880.66 1093.9 L1880.66 1047.59 L1865.84 1047.59 L1865.84 1047.59  Z\" fill=\"#009af9\" fill-rule=\"evenodd\" fill-opacity=\"0.3\"/>\n",
       "<polyline clip-path=\"url(#clip292)\" style=\"stroke:#000000; stroke-linecap:round; stroke-linejoin:round; stroke-width:4; stroke-opacity:1; fill:none\" points=\"1865.84,1047.59 1865.84,1093.9 1880.66,1093.9 1880.66,1047.59 1865.84,1047.59 \"/>\n",
       "<path clip-path=\"url(#clip292)\" d=\"M1880.66 1084.64 L1880.66 1093.9 L1895.49 1093.9 L1895.49 1084.64 L1880.66 1084.64 L1880.66 1084.64  Z\" fill=\"#009af9\" fill-rule=\"evenodd\" fill-opacity=\"0.3\"/>\n",
       "<polyline clip-path=\"url(#clip292)\" style=\"stroke:#000000; stroke-linecap:round; stroke-linejoin:round; stroke-width:4; stroke-opacity:1; fill:none\" points=\"1880.66,1084.64 1880.66,1093.9 1895.49,1093.9 1895.49,1084.64 1880.66,1084.64 \"/>\n",
       "<circle clip-path=\"url(#clip292)\" style=\"fill:#009af9; stroke:none; fill-opacity:0\" cx=\"1680.52\" cy=\"1038.33\" r=\"2\"/>\n",
       "<circle clip-path=\"url(#clip292)\" style=\"fill:#009af9; stroke:none; fill-opacity:0\" cx=\"1695.34\" cy=\"982.754\" r=\"2\"/>\n",
       "<circle clip-path=\"url(#clip292)\" style=\"fill:#009af9; stroke:none; fill-opacity:0\" cx=\"1710.17\" cy=\"927.179\" r=\"2\"/>\n",
       "<circle clip-path=\"url(#clip292)\" style=\"fill:#009af9; stroke:none; fill-opacity:0\" cx=\"1724.99\" cy=\"778.98\" r=\"2\"/>\n",
       "<circle clip-path=\"url(#clip292)\" style=\"fill:#009af9; stroke:none; fill-opacity:0\" cx=\"1739.82\" cy=\"686.355\" r=\"2\"/>\n",
       "<circle clip-path=\"url(#clip292)\" style=\"fill:#009af9; stroke:none; fill-opacity:0\" cx=\"1754.64\" cy=\"436.268\" r=\"2\"/>\n",
       "<circle clip-path=\"url(#clip292)\" style=\"fill:#009af9; stroke:none; fill-opacity:0\" cx=\"1769.47\" cy=\"399.218\" r=\"2\"/>\n",
       "<circle clip-path=\"url(#clip292)\" style=\"fill:#009af9; stroke:none; fill-opacity:0\" cx=\"1784.3\" cy=\"427.006\" r=\"2\"/>\n",
       "<circle clip-path=\"url(#clip292)\" style=\"fill:#009af9; stroke:none; fill-opacity:0\" cx=\"1799.12\" cy=\"556.68\" r=\"2\"/>\n",
       "<circle clip-path=\"url(#clip292)\" style=\"fill:#009af9; stroke:none; fill-opacity:0\" cx=\"1813.95\" cy=\"575.205\" r=\"2\"/>\n",
       "<circle clip-path=\"url(#clip292)\" style=\"fill:#009af9; stroke:none; fill-opacity:0\" cx=\"1828.77\" cy=\"871.604\" r=\"2\"/>\n",
       "<circle clip-path=\"url(#clip292)\" style=\"fill:#009af9; stroke:none; fill-opacity:0\" cx=\"1843.6\" cy=\"973.492\" r=\"2\"/>\n",
       "<circle clip-path=\"url(#clip292)\" style=\"fill:#009af9; stroke:none; fill-opacity:0\" cx=\"1858.43\" cy=\"992.017\" r=\"2\"/>\n",
       "<circle clip-path=\"url(#clip292)\" style=\"fill:#009af9; stroke:none; fill-opacity:0\" cx=\"1873.25\" cy=\"1047.59\" r=\"2\"/>\n",
       "<circle clip-path=\"url(#clip292)\" style=\"fill:#009af9; stroke:none; fill-opacity:0\" cx=\"1888.08\" cy=\"1084.64\" r=\"2\"/>\n",
       "<path clip-path=\"url(#clip292)\" d=\"M220.163 1056.85 L220.163 1093.9 L234.988 1093.9 L234.988 1056.85 L220.163 1056.85 L220.163 1056.85  Z\" fill=\"#e26f46\" fill-rule=\"evenodd\" fill-opacity=\"0.3\"/>\n",
       "<polyline clip-path=\"url(#clip292)\" style=\"stroke:#000000; stroke-linecap:round; stroke-linejoin:round; stroke-width:4; stroke-opacity:1; fill:none\" points=\"220.163,1056.85 220.163,1093.9 234.988,1093.9 234.988,1056.85 220.163,1056.85 \"/>\n",
       "<path clip-path=\"url(#clip292)\" d=\"M234.988 1001.28 L234.988 1093.9 L249.814 1093.9 L249.814 1001.28 L234.988 1001.28 L234.988 1001.28  Z\" fill=\"#e26f46\" fill-rule=\"evenodd\" fill-opacity=\"0.3\"/>\n",
       "<polyline clip-path=\"url(#clip292)\" style=\"stroke:#000000; stroke-linecap:round; stroke-linejoin:round; stroke-width:4; stroke-opacity:1; fill:none\" points=\"234.988,1001.28 234.988,1093.9 249.814,1093.9 249.814,1001.28 234.988,1001.28 \"/>\n",
       "<path clip-path=\"url(#clip292)\" d=\"M249.814 769.717 L249.814 1093.9 L264.64 1093.9 L264.64 769.717 L249.814 769.717 L249.814 769.717  Z\" fill=\"#e26f46\" fill-rule=\"evenodd\" fill-opacity=\"0.3\"/>\n",
       "<polyline clip-path=\"url(#clip292)\" style=\"stroke:#000000; stroke-linecap:round; stroke-linejoin:round; stroke-width:4; stroke-opacity:1; fill:none\" points=\"249.814,769.717 249.814,1093.9 264.64,1093.9 264.64,769.717 249.814,769.717 \"/>\n",
       "<path clip-path=\"url(#clip292)\" d=\"M264.64 325.118 L264.64 1093.9 L279.466 1093.9 L279.466 325.118 L264.64 325.118 L264.64 325.118  Z\" fill=\"#e26f46\" fill-rule=\"evenodd\" fill-opacity=\"0.3\"/>\n",
       "<polyline clip-path=\"url(#clip292)\" style=\"stroke:#000000; stroke-linecap:round; stroke-linejoin:round; stroke-width:4; stroke-opacity:1; fill:none\" points=\"264.64,325.118 264.64,1093.9 279.466,1093.9 279.466,325.118 264.64,325.118 \"/>\n",
       "<path clip-path=\"url(#clip292)\" d=\"M279.466 112.081 L279.466 1093.9 L294.292 1093.9 L294.292 112.081 L279.466 112.081 L279.466 112.081  Z\" fill=\"#e26f46\" fill-rule=\"evenodd\" fill-opacity=\"0.3\"/>\n",
       "<polyline clip-path=\"url(#clip292)\" style=\"stroke:#000000; stroke-linecap:round; stroke-linejoin:round; stroke-width:4; stroke-opacity:1; fill:none\" points=\"279.466,112.081 279.466,1093.9 294.292,1093.9 294.292,112.081 279.466,112.081 \"/>\n",
       "<path clip-path=\"url(#clip292)\" d=\"M294.292 47.2441 L294.292 1093.9 L309.118 1093.9 L309.118 47.2441 L294.292 47.2441 L294.292 47.2441  Z\" fill=\"#e26f46\" fill-rule=\"evenodd\" fill-opacity=\"0.3\"/>\n",
       "<polyline clip-path=\"url(#clip292)\" style=\"stroke:#000000; stroke-linecap:round; stroke-linejoin:round; stroke-width:4; stroke-opacity:1; fill:none\" points=\"294.292,47.2441 294.292,1093.9 309.118,1093.9 309.118,47.2441 294.292,47.2441 \"/>\n",
       "<path clip-path=\"url(#clip292)\" d=\"M309.118 380.693 L309.118 1093.9 L323.944 1093.9 L323.944 380.693 L309.118 380.693 L309.118 380.693  Z\" fill=\"#e26f46\" fill-rule=\"evenodd\" fill-opacity=\"0.3\"/>\n",
       "<polyline clip-path=\"url(#clip292)\" style=\"stroke:#000000; stroke-linecap:round; stroke-linejoin:round; stroke-width:4; stroke-opacity:1; fill:none\" points=\"309.118,380.693 309.118,1093.9 323.944,1093.9 323.944,380.693 309.118,380.693 \"/>\n",
       "<path clip-path=\"url(#clip292)\" d=\"M323.944 565.943 L323.944 1093.9 L338.77 1093.9 L338.77 565.943 L323.944 565.943 L323.944 565.943  Z\" fill=\"#e26f46\" fill-rule=\"evenodd\" fill-opacity=\"0.3\"/>\n",
       "<polyline clip-path=\"url(#clip292)\" style=\"stroke:#000000; stroke-linecap:round; stroke-linejoin:round; stroke-width:4; stroke-opacity:1; fill:none\" points=\"323.944,565.943 323.944,1093.9 338.77,1093.9 338.77,565.943 323.944,565.943 \"/>\n",
       "<path clip-path=\"url(#clip292)\" d=\"M338.77 992.017 L338.77 1093.9 L353.596 1093.9 L353.596 992.017 L338.77 992.017 L338.77 992.017  Z\" fill=\"#e26f46\" fill-rule=\"evenodd\" fill-opacity=\"0.3\"/>\n",
       "<polyline clip-path=\"url(#clip292)\" style=\"stroke:#000000; stroke-linecap:round; stroke-linejoin:round; stroke-width:4; stroke-opacity:1; fill:none\" points=\"338.77,992.017 338.77,1093.9 353.596,1093.9 353.596,992.017 338.77,992.017 \"/>\n",
       "<path clip-path=\"url(#clip292)\" d=\"M353.596 1056.85 L353.596 1093.9 L368.422 1093.9 L368.422 1056.85 L353.596 1056.85 L353.596 1056.85  Z\" fill=\"#e26f46\" fill-rule=\"evenodd\" fill-opacity=\"0.3\"/>\n",
       "<polyline clip-path=\"url(#clip292)\" style=\"stroke:#000000; stroke-linecap:round; stroke-linejoin:round; stroke-width:4; stroke-opacity:1; fill:none\" points=\"353.596,1056.85 353.596,1093.9 368.422,1093.9 368.422,1056.85 353.596,1056.85 \"/>\n",
       "<circle clip-path=\"url(#clip292)\" style=\"fill:#e26f46; stroke:none; fill-opacity:0\" cx=\"227.575\" cy=\"1056.85\" r=\"2\"/>\n",
       "<circle clip-path=\"url(#clip292)\" style=\"fill:#e26f46; stroke:none; fill-opacity:0\" cx=\"242.401\" cy=\"1001.28\" r=\"2\"/>\n",
       "<circle clip-path=\"url(#clip292)\" style=\"fill:#e26f46; stroke:none; fill-opacity:0\" cx=\"257.227\" cy=\"769.717\" r=\"2\"/>\n",
       "<circle clip-path=\"url(#clip292)\" style=\"fill:#e26f46; stroke:none; fill-opacity:0\" cx=\"272.053\" cy=\"325.118\" r=\"2\"/>\n",
       "<circle clip-path=\"url(#clip292)\" style=\"fill:#e26f46; stroke:none; fill-opacity:0\" cx=\"286.879\" cy=\"112.081\" r=\"2\"/>\n",
       "<circle clip-path=\"url(#clip292)\" style=\"fill:#e26f46; stroke:none; fill-opacity:0\" cx=\"301.705\" cy=\"47.2441\" r=\"2\"/>\n",
       "<circle clip-path=\"url(#clip292)\" style=\"fill:#e26f46; stroke:none; fill-opacity:0\" cx=\"316.531\" cy=\"380.693\" r=\"2\"/>\n",
       "<circle clip-path=\"url(#clip292)\" style=\"fill:#e26f46; stroke:none; fill-opacity:0\" cx=\"331.357\" cy=\"565.943\" r=\"2\"/>\n",
       "<circle clip-path=\"url(#clip292)\" style=\"fill:#e26f46; stroke:none; fill-opacity:0\" cx=\"346.183\" cy=\"992.017\" r=\"2\"/>\n",
       "<circle clip-path=\"url(#clip292)\" style=\"fill:#e26f46; stroke:none; fill-opacity:0\" cx=\"361.009\" cy=\"1056.85\" r=\"2\"/>\n",
       "<path clip-path=\"url(#clip290)\" d=\"M905.367 237.653 L1212.51 237.653 L1212.51 82.1328 L905.367 82.1328  Z\" fill=\"#ffffff\" fill-rule=\"evenodd\" fill-opacity=\"1\"/>\n",
       "<polyline clip-path=\"url(#clip290)\" style=\"stroke:#000000; stroke-linecap:round; stroke-linejoin:round; stroke-width:4; stroke-opacity:1; fill:none\" points=\"905.367,237.653 1212.51,237.653 1212.51,82.1328 905.367,82.1328 905.367,237.653 \"/>\n",
       "<path clip-path=\"url(#clip290)\" d=\"M925.23 154.709 L1044.41 154.709 L1044.41 113.237 L925.23 113.237 L925.23 154.709  Z\" fill=\"#009af9\" fill-rule=\"evenodd\" fill-opacity=\"0.3\"/>\n",
       "<polyline clip-path=\"url(#clip290)\" style=\"stroke:#000000; stroke-linecap:round; stroke-linejoin:round; stroke-width:4; stroke-opacity:1; fill:none\" points=\"925.23,154.709 1044.41,154.709 1044.41,113.237 925.23,113.237 925.23,154.709 \"/>\n",
       "<path clip-path=\"url(#clip290)\" d=\"M1083.04 138.313 Q1083.04 133.614 1081.1 130.952 Q1079.18 128.267 1075.8 128.267 Q1072.42 128.267 1070.47 130.952 Q1068.55 133.614 1068.55 138.313 Q1068.55 143.012 1070.47 145.697 Q1072.42 148.359 1075.8 148.359 Q1079.18 148.359 1081.1 145.697 Q1083.04 143.012 1083.04 138.313 M1068.55 129.262 Q1069.89 126.947 1071.93 125.836 Q1073.99 124.702 1076.84 124.702 Q1081.56 124.702 1084.5 128.452 Q1087.46 132.202 1087.46 138.313 Q1087.46 144.424 1084.5 148.174 Q1081.56 151.924 1076.84 151.924 Q1073.99 151.924 1071.93 150.813 Q1069.89 149.679 1068.55 147.364 L1068.55 151.253 L1064.27 151.253 L1064.27 115.234 L1068.55 115.234 L1068.55 129.262 Z\" fill=\"#000000\" fill-rule=\"nonzero\" fill-opacity=\"1\" /><path clip-path=\"url(#clip290)\" d=\"M1116.7 137.225 L1116.7 139.308 L1097.12 139.308 Q1097.39 143.706 1099.75 146.021 Q1102.14 148.313 1106.37 148.313 Q1108.83 148.313 1111.12 147.711 Q1113.43 147.109 1115.7 145.906 L1115.7 149.933 Q1113.41 150.906 1111 151.415 Q1108.6 151.924 1106.12 151.924 Q1099.92 151.924 1096.28 148.313 Q1092.67 144.702 1092.67 138.544 Q1092.67 132.179 1096.1 128.452 Q1099.55 124.702 1105.38 124.702 Q1110.61 124.702 1113.64 128.082 Q1116.7 131.438 1116.7 137.225 M1112.44 135.975 Q1112.39 132.48 1110.47 130.396 Q1108.57 128.313 1105.43 128.313 Q1101.86 128.313 1099.71 130.327 Q1097.58 132.341 1097.25 135.998 L1112.44 135.975 Z\" fill=\"#000000\" fill-rule=\"nonzero\" fill-opacity=\"1\" /><path clip-path=\"url(#clip290)\" d=\"M1127.9 117.966 L1127.9 125.327 L1136.68 125.327 L1136.68 128.637 L1127.9 128.637 L1127.9 142.711 Q1127.9 145.882 1128.76 146.785 Q1129.64 147.688 1132.3 147.688 L1136.68 147.688 L1136.68 151.253 L1132.3 151.253 Q1127.37 151.253 1125.49 149.424 Q1123.62 147.572 1123.62 142.711 L1123.62 128.637 L1120.49 128.637 L1120.49 125.327 L1123.62 125.327 L1123.62 117.966 L1127.9 117.966 Z\" fill=\"#000000\" fill-rule=\"nonzero\" fill-opacity=\"1\" /><path clip-path=\"url(#clip290)\" d=\"M1154.06 138.22 Q1148.9 138.22 1146.91 139.401 Q1144.92 140.582 1144.92 143.429 Q1144.92 145.697 1146.4 147.04 Q1147.9 148.359 1150.47 148.359 Q1154.01 148.359 1156.14 145.859 Q1158.3 143.336 1158.3 139.169 L1158.3 138.22 L1154.06 138.22 M1162.55 136.461 L1162.55 151.253 L1158.3 151.253 L1158.3 147.318 Q1156.84 149.679 1154.66 150.813 Q1152.49 151.924 1149.34 151.924 Q1145.36 151.924 1142.99 149.702 Q1140.66 147.456 1140.66 143.706 Q1140.66 139.332 1143.57 137.109 Q1146.51 134.887 1152.32 134.887 L1158.3 134.887 L1158.3 134.47 Q1158.3 131.531 1156.35 129.933 Q1154.43 128.313 1150.93 128.313 Q1148.71 128.313 1146.61 128.845 Q1144.5 129.378 1142.55 130.443 L1142.55 126.508 Q1144.89 125.605 1147.09 125.165 Q1149.29 124.702 1151.37 124.702 Q1157 124.702 1159.78 127.619 Q1162.55 130.535 1162.55 136.461 Z\" fill=\"#000000\" fill-rule=\"nonzero\" fill-opacity=\"1\" /><path clip-path=\"url(#clip290)\" d=\"M1172.74 147.318 L1180.38 147.318 L1180.38 120.952 L1172.07 122.619 L1172.07 118.359 L1180.33 116.693 L1185.01 116.693 L1185.01 147.318 L1192.65 147.318 L1192.65 151.253 L1172.74 151.253 L1172.74 147.318 Z\" fill=\"#000000\" fill-rule=\"nonzero\" fill-opacity=\"1\" /><path clip-path=\"url(#clip290)\" d=\"M925.23 206.549 L1044.41 206.549 L1044.41 165.077 L925.23 165.077 L925.23 206.549  Z\" fill=\"#e26f46\" fill-rule=\"evenodd\" fill-opacity=\"0.3\"/>\n",
       "<polyline clip-path=\"url(#clip290)\" style=\"stroke:#000000; stroke-linecap:round; stroke-linejoin:round; stroke-width:4; stroke-opacity:1; fill:none\" points=\"925.23,206.549 1044.41,206.549 1044.41,165.077 925.23,165.077 925.23,206.549 \"/>\n",
       "<path clip-path=\"url(#clip290)\" d=\"M1083.04 190.153 Q1083.04 185.454 1081.1 182.792 Q1079.18 180.107 1075.8 180.107 Q1072.42 180.107 1070.47 182.792 Q1068.55 185.454 1068.55 190.153 Q1068.55 194.852 1070.47 197.537 Q1072.42 200.199 1075.8 200.199 Q1079.18 200.199 1081.1 197.537 Q1083.04 194.852 1083.04 190.153 M1068.55 181.102 Q1069.89 178.787 1071.93 177.676 Q1073.99 176.542 1076.84 176.542 Q1081.56 176.542 1084.5 180.292 Q1087.46 184.042 1087.46 190.153 Q1087.46 196.264 1084.5 200.014 Q1081.56 203.764 1076.84 203.764 Q1073.99 203.764 1071.93 202.653 Q1069.89 201.519 1068.55 199.204 L1068.55 203.093 L1064.27 203.093 L1064.27 167.074 L1068.55 167.074 L1068.55 181.102 Z\" fill=\"#000000\" fill-rule=\"nonzero\" fill-opacity=\"1\" /><path clip-path=\"url(#clip290)\" d=\"M1116.7 189.065 L1116.7 191.148 L1097.12 191.148 Q1097.39 195.546 1099.75 197.861 Q1102.14 200.153 1106.37 200.153 Q1108.83 200.153 1111.12 199.551 Q1113.43 198.949 1115.7 197.746 L1115.7 201.773 Q1113.41 202.746 1111 203.255 Q1108.6 203.764 1106.12 203.764 Q1099.92 203.764 1096.28 200.153 Q1092.67 196.542 1092.67 190.384 Q1092.67 184.019 1096.1 180.292 Q1099.55 176.542 1105.38 176.542 Q1110.61 176.542 1113.64 179.922 Q1116.7 183.278 1116.7 189.065 M1112.44 187.815 Q1112.39 184.32 1110.47 182.236 Q1108.57 180.153 1105.43 180.153 Q1101.86 180.153 1099.71 182.167 Q1097.58 184.181 1097.25 187.838 L1112.44 187.815 Z\" fill=\"#000000\" fill-rule=\"nonzero\" fill-opacity=\"1\" /><path clip-path=\"url(#clip290)\" d=\"M1127.9 169.806 L1127.9 177.167 L1136.68 177.167 L1136.68 180.477 L1127.9 180.477 L1127.9 194.551 Q1127.9 197.722 1128.76 198.625 Q1129.64 199.528 1132.3 199.528 L1136.68 199.528 L1136.68 203.093 L1132.3 203.093 Q1127.37 203.093 1125.49 201.264 Q1123.62 199.412 1123.62 194.551 L1123.62 180.477 L1120.49 180.477 L1120.49 177.167 L1123.62 177.167 L1123.62 169.806 L1127.9 169.806 Z\" fill=\"#000000\" fill-rule=\"nonzero\" fill-opacity=\"1\" /><path clip-path=\"url(#clip290)\" d=\"M1154.06 190.06 Q1148.9 190.06 1146.91 191.241 Q1144.92 192.422 1144.92 195.269 Q1144.92 197.537 1146.4 198.88 Q1147.9 200.199 1150.47 200.199 Q1154.01 200.199 1156.14 197.699 Q1158.3 195.176 1158.3 191.009 L1158.3 190.06 L1154.06 190.06 M1162.55 188.301 L1162.55 203.093 L1158.3 203.093 L1158.3 199.158 Q1156.84 201.519 1154.66 202.653 Q1152.49 203.764 1149.34 203.764 Q1145.36 203.764 1142.99 201.542 Q1140.66 199.296 1140.66 195.546 Q1140.66 191.172 1143.57 188.949 Q1146.51 186.727 1152.32 186.727 L1158.3 186.727 L1158.3 186.31 Q1158.3 183.371 1156.35 181.773 Q1154.43 180.153 1150.93 180.153 Q1148.71 180.153 1146.61 180.685 Q1144.5 181.218 1142.55 182.283 L1142.55 178.348 Q1144.89 177.445 1147.09 177.005 Q1149.29 176.542 1151.37 176.542 Q1157 176.542 1159.78 179.459 Q1162.55 182.375 1162.55 188.301 Z\" fill=\"#000000\" fill-rule=\"nonzero\" fill-opacity=\"1\" /><path clip-path=\"url(#clip290)\" d=\"M1175.96 199.158 L1192.28 199.158 L1192.28 203.093 L1170.33 203.093 L1170.33 199.158 Q1172.99 196.403 1177.58 191.773 Q1182.18 187.121 1183.36 185.778 Q1185.61 183.255 1186.49 181.519 Q1187.39 179.76 1187.39 178.07 Q1187.39 175.315 1185.45 173.579 Q1183.53 171.843 1180.43 171.843 Q1178.23 171.843 1175.77 172.607 Q1173.34 173.371 1170.56 174.922 L1170.56 170.199 Q1173.39 169.065 1175.84 168.486 Q1178.3 167.908 1180.33 167.908 Q1185.7 167.908 1188.9 170.593 Q1192.09 173.278 1192.09 177.769 Q1192.09 179.898 1191.28 181.82 Q1190.49 183.718 1188.39 186.31 Q1187.81 186.982 1184.71 190.199 Q1181.61 193.394 1175.96 199.158 Z\" fill=\"#000000\" fill-rule=\"nonzero\" fill-opacity=\"1\" /></svg>\n"
      ],
      "text/html": [
       "<img src=\"data:image/png;base64,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\" />"
      ]
     },
     "metadata": {},
     "output_type": "display_data"
    }
   ],
   "source": [
    "histogram( [Coeficients[:,1] Coeficients[:,2]], label=[\"beta1\" \"beta2\"],\n",
    "    size = (500, 300), fmt = :png, legend=:top, fillalpha=0.3)"
   ]
  },
  {
   "cell_type": "markdown",
   "metadata": {},
   "source": [
    "## 4. (Optional) More Advanced Stuff\n",
    "\n",
    "****\n",
    "Usually our moment conditions leave us with something that looks like a linear system of equations.  For instance, in the case of OLS we have the following system: \n",
    "\n",
    "$$ X'X * \\beta  = X'Y $$\n",
    "\n",
    "which can be rewritten as \n",
    "\n",
    "$$ A x  = b $$ \n",
    "\n",
    "\n",
    "We say a matrix is **ill-conditioned** if the basis of eigenvectors are close to, but not exactly, collinear. This can create numerical errors roughly in proportion to the base-10 log of the condition number. I don't think this is gonna be an issue in any of the computations you will perform in the course, but these type of issues can arise when we are, for instance, running models with many fixed effects (high dimensional FE). \n",
    "\n",
    "\n",
    "The condition number (using the 2-norm) can be computed as \n",
    "\n",
    "$$ k(A) = || A || * || A^{-1} || $$\n"
   ]
  },
  {
   "cell_type": "code",
   "execution_count": 55,
   "metadata": {},
   "outputs": [
    {
     "data": {
      "text/plain": [
       "2.0000000000005004e6"
      ]
     },
     "metadata": {},
     "output_type": "display_data"
    }
   ],
   "source": [
    "#Create ill-conditioned matrix\n",
    "ϵ = 1E-6\n",
    "A = [1.0 0.0\n",
    "     1.0 ϵ]\n",
    "cond(A)"
   ]
  },
  {
   "cell_type": "code",
   "execution_count": 56,
   "metadata": {},
   "outputs": [
    {
     "data": {
      "text/plain": [
       "2×2 Matrix{Float64}:\n",
       "  1.0    0.0\n",
       " -1.0e6  1.0e6"
      ]
     },
     "metadata": {},
     "output_type": "display_data"
    }
   ],
   "source": [
    "#Notice that it has both huge and tiny values!\n",
    "inv(A)"
   ]
  },
  {
   "cell_type": "markdown",
   "metadata": {},
   "source": [
    "This is actually one of the reasons to avoid using `inv()` in practice, and instead use the backslash notation, which will perform better. Another reason is that if the A matrix is sparse, we make it dense when we invert it. The backslash notation will exploit the fact that A was sparse in the first place!"
   ]
  },
  {
   "cell_type": "markdown",
   "metadata": {},
   "source": [
    "### Factorization\n",
    "\n",
    "One way to fix this is to do a factorization, which will allow us to compute a more stable inverse (like a triangular matrix). For instance, a QR decomposition splits A into an orthogonal matrix (inverse = transpose) and an upper triangular matrix. The solution is then simplified as\n",
    "\n",
    "$$ Q R x  = b $$ \n",
    "$$ R x  = Q^{T} * b $$\n",
    "$$ x = R^{-1}  Q^{T} * b $$"
   ]
  },
  {
   "cell_type": "code",
   "execution_count": 57,
   "metadata": {},
   "outputs": [
    {
     "data": {
      "text/plain": [
       "1001×1 Matrix{Float64}:\n",
       "       0.3111429060711514\n",
       "  672739.8759239188\n",
       " -144547.07600981806\n",
       "  497982.4921668754\n",
       " -202144.88035396815\n",
       "  -49188.59664793747\n",
       "  521445.2673999056\n",
       "  252513.33336339687\n",
       "  277567.18799834454\n",
       "  129197.64620765267\n",
       "       ⋮\n",
       "  441544.4429308489\n",
       "  638941.906444578\n",
       "  -11960.980033220007\n",
       "  153767.09826063568\n",
       "  470100.9451467872\n",
       " -260519.7518002292\n",
       "   56666.381539865375\n",
       "  239702.69198348752\n",
       "  -14429.944954128441"
      ]
     },
     "metadata": {},
     "output_type": "display_data"
    }
   ],
   "source": [
    "illX = [ones(1000)'; ϵ * I]'\n",
    "illXX = illX'illX;\n",
    "illXY = illX' * rand(1000,1);\n",
    "\n",
    "Q, R = qr(illXX);\n",
    "βsol_qr = R \\ (Q'* illXY)\n"
   ]
  },
  {
   "cell_type": "code",
   "execution_count": 58,
   "metadata": {},
   "outputs": [
    {
     "data": {
      "text/plain": [
       "5.368128227224916e29"
      ]
     },
     "metadata": {},
     "output_type": "display_data"
    }
   ],
   "source": [
    "cond(illXX)"
   ]
  },
  {
   "cell_type": "code",
   "execution_count": 59,
   "metadata": {},
   "outputs": [
    {
     "data": {
      "text/plain": [
       "2.873181747420277e30"
      ]
     },
     "metadata": {},
     "output_type": "display_data"
    }
   ],
   "source": [
    "cond(R)"
   ]
  },
  {
   "cell_type": "code",
   "execution_count": 60,
   "metadata": {},
   "outputs": [
    {
     "data": {
      "text/plain": [
       "true"
      ]
     },
     "metadata": {},
     "output_type": "display_data"
    }
   ],
   "source": [
    "cond(R) > cond(illXX)"
   ]
  },
  {
   "cell_type": "markdown",
   "metadata": {},
   "source": [
    "Depending on the particular application and the factorization chosen we can improve a lot the conditioning number."
   ]
  },
  {
   "cell_type": "markdown",
   "metadata": {},
   "source": [
    "### Iterative Solution (Krylov Methods)\n",
    "\n",
    "This is will iterate the system on $x^k$ until it reaches a solution. It is an alternative to factorization. However, it has slow convergence rates when the matrix in the linear system is ill-conditioned. \n",
    "\n",
    "A solution to this is to set a matrix $ P $ which has numerically stable inverse. Consider the following case of a right preconditioner P:\n",
    "\n",
    "$$ A x = b $$\n",
    "$$ A P^{-1} P  x = b $$\n",
    "$$ (AP^{-1}) y = b $$ \n",
    "\n",
    "so we can use the last equation to solve for $y$ , and then recover $x$ from $P x = y $. "
   ]
  },
  {
   "cell_type": "code",
   "execution_count": 61,
   "metadata": {},
   "outputs": [
    {
     "data": {
      "text/plain": [
       "759730.7545304955"
      ]
     },
     "metadata": {},
     "output_type": "display_data"
    }
   ],
   "source": [
    "#This creates a sparse matrix with 10% of zeros\n",
    "using SparseArrays\n",
    "A = sprand(100, 100, 0.1)   \n",
    "A = A * A'  \n",
    "cond(Matrix(A)) #Can be ill conditioned!"
   ]
  },
  {
   "cell_type": "markdown",
   "metadata": {},
   "source": [
    "One of the standard Krylov methods is Conjugate Gradient, which works for symmetric and positive definite matrices. This is exactly the case of our least squares problem!\n",
    "\n",
    "We can choose among many preconditioners, and there's no really a way to know which is gonna work the best. In this case I'll show the solution using an Algebraic Multigrid (AMG) preconditioner."
   ]
  },
  {
   "cell_type": "code",
   "execution_count": 62,
   "metadata": {},
   "outputs": [],
   "source": [
    "#Pkg.add(\"IterativeSolvers\")\n",
    "#Pkg.add(\"AlgebraicMultigrid\")\n",
    "using IterativeSolvers"
   ]
  },
  {
   "cell_type": "code",
   "execution_count": 63,
   "metadata": {},
   "outputs": [
    {
     "data": {
      "text/plain": [
       "Converged after 185 iterations."
      ]
     },
     "metadata": {},
     "output_type": "display_data"
    }
   ],
   "source": [
    "#Initial value\n",
    "β_init = zeros(100)\n",
    "b = A * rand(100,1)\n",
    "sol = cg!(β_init, A, b, Pl = Identity() , log=true, maxiter = 1000)\n",
    "sol[end]"
   ]
  },
  {
   "cell_type": "code",
   "execution_count": 64,
   "metadata": {},
   "outputs": [
    {
     "data": {
      "text/plain": [
       "100-element Vector{Float64}:\n",
       " 0.8176249364206252\n",
       " 0.2151439658212608\n",
       " 0.3993079419241072\n",
       " 0.990501250310926\n",
       " 0.8284852195207081\n",
       " 0.7712780811104777\n",
       " 0.12545261825514573\n",
       " 0.6603891034589764\n",
       " 0.7501797076404537\n",
       " 0.9105581641909031\n",
       " ⋮\n",
       " 0.20452118556644724\n",
       " 0.9520835249377779\n",
       " 0.9507031467985647\n",
       " 0.032415814901585405\n",
       " 0.4544618349576638\n",
       " 0.7150772629399803\n",
       " 0.7636379763467882\n",
       " 0.9226361220660754\n",
       " 0.9173792141943161"
      ]
     },
     "metadata": {},
     "output_type": "display_data"
    }
   ],
   "source": [
    "#Show the vector of coefficients\n",
    "sol[1]"
   ]
  },
  {
   "cell_type": "markdown",
   "metadata": {},
   "source": [
    "Something I would like to point out is that using a preconditioner does not ensure that the number of iterations will reduce."
   ]
  }
 ],
 "metadata": {
  "kernelspec": {
   "display_name": "Julia 1.8.5",
   "language": "julia",
   "name": "julia-1.8"
  },
  "language_info": {
   "file_extension": ".jl",
   "mimetype": "application/julia",
   "name": "julia",
   "version": "1.8.5"
  }
 },
 "nbformat": 4,
 "nbformat_minor": 4
}
