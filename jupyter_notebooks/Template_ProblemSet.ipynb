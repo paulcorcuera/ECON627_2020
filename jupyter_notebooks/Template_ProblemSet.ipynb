{
 "cells": [
  {
   "cell_type": "markdown",
   "metadata": {},
   "source": [
    "# Template Problem Set Solution"
   ]
  },
  {
   "cell_type": "markdown",
   "metadata": {},
   "source": [
    "You can optionally activate any environment. In this particular case, I will go to such location and activate it. If you don't use any particular environment in your computer, you can ignore the cell below."
   ]
  },
  {
   "cell_type": "code",
   "execution_count": 2,
   "metadata": {},
   "outputs": [
    {
     "name": "stderr",
     "output_type": "stream",
     "text": [
      "\u001b[32m\u001b[1m  Activating\u001b[22m\u001b[39m project at `c:\\Users\\steve\\Documents\\GitHub\\ECON627_UBC.jl`"
     ]
    },
    {
     "name": "stderr",
     "output_type": "stream",
     "text": [
      "\n"
     ]
    }
   ],
   "source": [
    "using Pkg\n",
    "Pkg.activate(joinpath(pwd(),\"..\")) ;"
   ]
  },
  {
   "cell_type": "markdown",
   "metadata": {},
   "source": [
    "## State the Data Generating Process "
   ]
  },
  {
   "cell_type": "markdown",
   "metadata": {},
   "source": [
    "Suppose we want to simulate data that follows this GDP \n",
    "\n",
    "$$ y_i = \\beta X_i  + U_i $$ \n",
    "\n",
    "$$ X_i = \\pi' Z_i + V_i $$ \n",
    "\n",
    "$$ U_i = \\exp(\\gamma'Z_i \\times \\epsilon_i) $$\n",
    "\n",
    "where \n",
    "\n",
    "$Z_i \\sim N(0,I_2)$ independent of $\\epsilon_i$ and $V_i$, and \n",
    "\n",
    "$\\left( \\begin{array}{c}  \\epsilon_i \\\\ V_i \\end{array} \\right)  \\sim N\\left( \\left( \\begin{array}{c}  0 \\\\ 0 \\end{array} \\right), \\left( \\begin{array}{c}  1.0 & \\rho\\\\ \\rho & 1.0 \\end{array} \\right) \\right)$\n",
    "\n",
    "Furthermore, let  $\\beta = 1$, $\\pi = \\gamma =  \\left[ \\begin{array}{c}  1 \\\\ 1 \\end{array} \\right]$ , and  $\\rho =0.95$.\n",
    "\n",
    "\n",
    "The goal is to compute the coverage of the confidence intervals of $\\beta_1$. For this example I'll set $n = 1000$ observations and $R=1000$ repetitions.\n"
   ]
  },
  {
   "cell_type": "markdown",
   "metadata": {},
   "source": [
    "## Load Main Packages"
   ]
  },
  {
   "cell_type": "code",
   "execution_count": 3,
   "metadata": {},
   "outputs": [],
   "source": [
    "using Distributions, PrettyTables, Random, LinearAlgebra, Parameters"
   ]
  },
  {
   "cell_type": "markdown",
   "metadata": {},
   "source": [
    "## Define parameters to be used "
   ]
  },
  {
   "cell_type": "code",
   "execution_count": 7,
   "metadata": {
    "scrolled": true
   },
   "outputs": [
    {
     "data": {
      "text/plain": [
       "2×2 Matrix{Float64}:\n",
       " 1.0   0.95\n",
       " 0.95  1.0"
      ]
     },
     "metadata": {},
     "output_type": "display_data"
    }
   ],
   "source": [
    "n=1000\n",
    "β=1.0\n",
    "π=[1.0;1.0]\n",
    "γ=[1.0;1.0]\n",
    "ρ=0.95\n",
    "Σ=[1.0 ρ; ρ 1;];\n",
    "\n"
   ]
  },
  {
   "cell_type": "markdown",
   "metadata": {},
   "source": [
    "## Set Random Seed (make your code reproducible!)"
   ]
  },
  {
   "cell_type": "code",
   "execution_count": 4,
   "metadata": {},
   "outputs": [],
   "source": [
    "Random.seed!(1234);"
   ]
  },
  {
   "cell_type": "markdown",
   "metadata": {},
   "source": [
    "#### Define function that generates data"
   ]
  },
  {
   "cell_type": "code",
   "execution_count": 5,
   "metadata": {},
   "outputs": [
    {
     "data": {
      "text/plain": [
       "generate_data (generic function with 1 method)"
      ]
     },
     "metadata": {},
     "output_type": "display_data"
    }
   ],
   "source": [
    "function generate_data(n)\n",
    "    #Define the Multivariate Normal Distribution instance\n",
    "    mvnormal = MvNormal([0.0; 0.0], Σ)\n",
    "    \n",
    "    #DGP\n",
    "    Errors=rand(mvnormal,n)'\n",
    "    ϵ=Errors[:,1]\n",
    "    V=Errors[:,2]\n",
    "    Z=randn(n,2)\n",
    "    \n",
    "    X=Z*π+V\n",
    "    U=exp.(Z*π) .* ϵ\n",
    "    Y=β*X+U\n",
    "    return (Y = Y , X = X , Z = Z)\n",
    "end"
   ]
  },
  {
   "cell_type": "code",
   "execution_count": 8,
   "metadata": {},
   "outputs": [],
   "source": [
    "@unpack X, Y , Z = generate_data(n);"
   ]
  },
  {
   "cell_type": "markdown",
   "metadata": {},
   "source": [
    "#### Function for estimation of $\\Omega$"
   ]
  },
  {
   "cell_type": "code",
   "execution_count": null,
   "metadata": {},
   "outputs": [
    {
     "data": {
      "text/plain": [
       "Ω (generic function with 1 method)"
      ]
     },
     "metadata": {},
     "output_type": "display_data"
    }
   ],
   "source": [
    "# E(Z_iZ_i' u_i^2)\n",
    "function Ω(U,Z)\n",
    "    n=length(U)\n",
    "    zr = Z.*U\n",
    "    omega = (zr' * zr)/n\n",
    "    \n",
    "    return omega\n",
    "end"
   ]
  },
  {
   "cell_type": "markdown",
   "metadata": {},
   "source": [
    "#### Function that computes 2SLS and the two-step efficient GMM and their standard errors"
   ]
  },
  {
   "cell_type": "markdown",
   "metadata": {},
   "source": [
    "Recall that we can write the estimator (for any choice of weighting matrix) as \n",
    "$$ \\hat{\\beta}_n(W_n) = (X'Z W_n Z'X)^{-1} X'Z W_n Z'Y $$\n",
    "\n",
    "and don't forget that 2SLS corresponds to the case where $W_n^{-1} = \\frac{(Z'Z)}{n}$."
   ]
  },
  {
   "cell_type": "code",
   "execution_count": 11,
   "metadata": {},
   "outputs": [
    {
     "data": {
      "text/plain": [
       "ols (generic function with 1 method)"
      ]
     },
     "metadata": {},
     "output_type": "display_data"
    }
   ],
   "source": [
    "function ols(X,Y)\n",
    "    n = length(Y)\n",
    "    bhat = (X'*X)\\(X'*Y)\n",
    "\n",
    "    rhat = Y-X*bhat\n",
    "    rX = X.*rhat\n",
    "    #E X_iX_i' u_i^2\n",
    "    avar = n*(X'*X)\\(rX'*rX)/(X'*X)\n",
    "    \n",
    "    #It's a scalar, otherwise we would need to take the diagonal of the matrix\n",
    "    se = sqrt.(avar)  \n",
    "    return (b=bhat,se=se)\n",
    "end"
   ]
  },
  {
   "cell_type": "code",
   "execution_count": 12,
   "metadata": {},
   "outputs": [
    {
     "data": {
      "text/plain": [
       "GMM (generic function with 1 method)"
      ]
     },
     "metadata": {},
     "output_type": "display_data"
    }
   ],
   "source": [
    "function GMM(Y,X,Z,W)\n",
    "    n = length(Y)\n",
    "    bhat = (X'*Z*W*Z'*X)\\(X'*Z*W*Z'*Y)\n",
    "\n",
    "    Q = Z'*X/n\n",
    "    omega = Ω(Y-bhat*X,Z)\n",
    "\n",
    "    avar =  ( (Q'*W*Q)\\(Q'*W*omega*W*Q)/(Q'*W*Q) )/n\n",
    "    \n",
    "    #It's a scalar, otherwise we would need to take the diagonal of the matrix\n",
    "    se = sqrt.(avar)  \n",
    "\n",
    "    return (b=bhat,se=se)\n",
    "end"
   ]
  },
  {
   "cell_type": "code",
   "execution_count": 13,
   "metadata": {},
   "outputs": [
    {
     "data": {
      "text/plain": [
       "GMM_TS (generic function with 1 method)"
      ]
     },
     "metadata": {},
     "output_type": "display_data"
    }
   ],
   "source": [
    "function GMM_TS(Y,X,Z)\n",
    "    n = length(Y)\n",
    "\n",
    "    #Step 1: Do 2SLS \n",
    "    b2sls = GMM(Y,X,Z,inv(Z'*Z)*n).b\n",
    "    Ω1 = Ω(Y-b2sls*X,Z)\n",
    "\n",
    "    #Step 2: Do GMM with W = inv(Ω1)\n",
    "    @unpack b, se = GMM(Y,X,Z,inv(Ω1)) \n",
    "\n",
    "    return (b=b, se=se)\n",
    "end"
   ]
  },
  {
   "cell_type": "markdown",
   "metadata": {},
   "source": [
    "## MonteCarlo "
   ]
  },
  {
   "cell_type": "markdown",
   "metadata": {},
   "source": [
    "## Using 100 observations "
   ]
  },
  {
   "cell_type": "code",
   "execution_count": null,
   "metadata": {},
   "outputs": [
    {
     "data": {
      "text/plain": [
       "1.9599639845400576"
      ]
     },
     "metadata": {},
     "output_type": "display_data"
    }
   ],
   "source": [
    "n=10^2\n",
    "R = 1000\n",
    "\n",
    "bias_OLS = 0.0\n",
    "bias_2SLS = 0.0\n",
    "bias_TSGMM = 0.0\n",
    "inCI_OLS = 0.0\n",
    "inCI_2SLS=0.0\n",
    "inCI_TSGMM=0.0\n",
    "\n",
    "CritVal = quantile(Normal(0,1), .975);"
   ]
  },
  {
   "cell_type": "code",
   "execution_count": null,
   "metadata": {},
   "outputs": [],
   "source": [
    "for r=1:R\n",
    "    Y, X, Z = generate_data(n)\n",
    "\n",
    "    bOLS , sOLS = ols(X,Y)\n",
    "\n",
    "    b2sls , s2SLS = GMM(Y,X,Z,inv(Z'*Z)*n)\n",
    "\n",
    "    bGMM, sGMM = GMM_TS(Y,X,Z)\n",
    "    \n",
    "    # Compute bias in each method \n",
    "    bias_OLS += abs(bOLS - β)\n",
    "    bias_2SLS += abs(b2sls - β) \n",
    "    bias_TSGMM += abs(bGMM - β)\n",
    "    \n",
    "    # Check whether true beta is in the confidence interval for each method\n",
    "    inCI_OLS += (β>bOLS - CritVal*sOLS)*(β<bOLS + CritVal*sOLS)\n",
    "    inCI_2SLS += (β>b2sls - CritVal*s2SLS)*(β<b2sls + CritVal*s2SLS)\n",
    "    inCI_TSGMM += (β>bGMM - CritVal*sGMM)*(β<bGMM + CritVal*sGMM)\n",
    "end\n",
    "    "
   ]
  },
  {
   "cell_type": "code",
   "execution_count": null,
   "metadata": {},
   "outputs": [
    {
     "name": "stdout",
     "output_type": "stream",
     "text": [
      "┌─────────────────────┬──────────┬─────────┬────────────────────────┐\n",
      "│\u001b[1m           Statistic \u001b[0m│\u001b[1m      OLS \u001b[0m│\u001b[1m    2SLS \u001b[0m│\u001b[1m Two-step efficient GMM \u001b[0m│\n",
      "├─────────────────────┼──────────┼─────────┼────────────────────────┤\n",
      "│ Coverage Prob of CI │    0.048 │   0.945 │                   0.92 │\n",
      "│                Bias │ 0.915267 │ 0.80173 │               0.607331 │\n",
      "└─────────────────────┴──────────┴─────────┴────────────────────────┘\n"
     ]
    }
   ],
   "source": [
    "table_data = [\"Coverage Prob of CI\" inCI_OLS/R inCI_2SLS/R inCI_TSGMM/R; \n",
    "\"Bias\" bias_OLS/R bias_2SLS/R bias_TSGMM/R;               \n",
    "]\n",
    "header=[\"Statistic\" ,\"OLS\", \"2SLS\" ,\"Two-step efficient GMM\"]\n",
    "pretty_table(table_data;header)"
   ]
  },
  {
   "cell_type": "markdown",
   "metadata": {},
   "source": [
    "## Using 10000 observations "
   ]
  },
  {
   "cell_type": "code",
   "execution_count": null,
   "metadata": {},
   "outputs": [
    {
     "data": {
      "text/plain": [
       "1.9599639845400576"
      ]
     },
     "metadata": {},
     "output_type": "display_data"
    }
   ],
   "source": [
    "n=10^4\n",
    "R = 1000\n",
    "bias_OLS = 0.0\n",
    "bias_2SLS = 0.0\n",
    "bias_TSGMM = 0.0\n",
    "inCI_OLS = 0.0\n",
    "inCI_2SLS=0.0\n",
    "inCI_TSGMM=0.0\n",
    "CritVal = quantile(Normal(0,1), .975)"
   ]
  },
  {
   "cell_type": "code",
   "execution_count": null,
   "metadata": {},
   "outputs": [],
   "source": [
    "for r=1:R\n",
    "    Y, X, Z = generate_data(n)\n",
    "\n",
    "    bOLS , sOLS = ols(X,Y)\n",
    "\n",
    "    b2sls , s2SLS = GMM(Y,X,Z,inv(Z'*Z)*n)\n",
    "\n",
    "    bGMM, sGMM = GMM_TS(Y,X,Z)\n",
    "    \n",
    "    # Compute bias in each method \n",
    "    bias_OLS += abs(bOLS - β)\n",
    "    bias_2SLS += abs(b2sls - β) \n",
    "    bias_TSGMM += abs(bGMM - β)\n",
    "    \n",
    "    # Check whether true beta is in the confidence interval for each method\n",
    "    inCI_OLS += (β>bOLS - CritVal*sOLS)*(β<bOLS + CritVal*sOLS)\n",
    "    inCI_2SLS += (β>b2sls - CritVal*s2SLS)*(β<b2sls + CritVal*s2SLS)\n",
    "    inCI_TSGMM += (β>bGMM - CritVal*sGMM)*(β<bGMM + CritVal*sGMM)\n",
    "end\n",
    "    "
   ]
  },
  {
   "cell_type": "code",
   "execution_count": null,
   "metadata": {},
   "outputs": [
    {
     "name": "stdout",
     "output_type": "stream",
     "text": [
      "┌─────────────────────┬──────────┬──────────┬────────────────────────┐\n",
      "│\u001b[1m           Statistic \u001b[0m│\u001b[1m      OLS \u001b[0m│\u001b[1m     2SLS \u001b[0m│\u001b[1m Two-step efficient GMM \u001b[0m│\n",
      "├─────────────────────┼──────────┼──────────┼────────────────────────┤\n",
      "│ Coverage Prob of CI │      0.0 │    0.952 │                  0.953 │\n",
      "│                Bias │ 0.854472 │ 0.120181 │                0.11139 │\n",
      "└─────────────────────┴──────────┴──────────┴────────────────────────┘\n"
     ]
    }
   ],
   "source": [
    "table_data = [\"Coverage Prob of CI\" inCI_OLS/R inCI_2SLS/R inCI_TSGMM/R; \n",
    "\"Bias\" bias_OLS/R bias_2SLS/R bias_TSGMM/R;               \n",
    "]\n",
    "header=[\"Statistic\" ,\"OLS\", \"2SLS\" ,\"Two-step efficient GMM\"]\n",
    "pretty_table(table_data;header)"
   ]
  },
  {
   "cell_type": "markdown",
   "metadata": {},
   "source": [
    "## Speeding things up: Use multithreads in Julia!"
   ]
  },
  {
   "cell_type": "code",
   "execution_count": null,
   "metadata": {},
   "outputs": [
    {
     "data": {
      "text/plain": [
       "simulate (generic function with 1 method)"
      ]
     },
     "metadata": {},
     "output_type": "display_data"
    }
   ],
   "source": [
    "function simulate(n,R)\n",
    "\n",
    "    # Initialize the values for all R reps \n",
    "    bias_OLS = zeros(R)\n",
    "    bias_2SLS =  zeros(R)\n",
    "    bias_TSGMM =  zeros(R)\n",
    "    inCI_OLS =  zeros(R)\n",
    "    inCI_2SLS = zeros(R)\n",
    "    inCI_TSGMM = zeros(R)\n",
    "\n",
    "    CritVal = quantile(Normal(0,1), .975)\n",
    "\n",
    "    Threads.@threads for r=1:R\n",
    "        \n",
    "        Y, X, Z = generate_data(n)\n",
    "\n",
    "        bOLS , sOLS = ols(X,Y)\n",
    "\n",
    "        b2sls , s2SLS = GMM(Y,X,Z,inv(Z'*Z)*n)\n",
    "\n",
    "        bGMM, sGMM = GMM_TS(Y,X,Z)\n",
    "        \n",
    "        # Compute bias in each method \n",
    "        bias_OLS[r] = abs(bOLS - β)\n",
    "        bias_2SLS[r] = abs(b2sls - β) \n",
    "        bias_TSGMM[r] = abs(bGMM - β)\n",
    "        \n",
    "        # Check whether true beta is in the confidence interval for each method\n",
    "        inCI_OLS[r] = (β>bOLS - CritVal*sOLS)*(β<bOLS + CritVal*sOLS)\n",
    "        inCI_2SLS[r] = (β>b2sls - CritVal*s2SLS)*(β<b2sls + CritVal*s2SLS)\n",
    "        inCI_TSGMM[r] = (β>bGMM - CritVal*sGMM)*(β<bGMM + CritVal*sGMM)\n",
    "    end\n",
    "    \n",
    "    return  (cov_OLS=mean(inCI_OLS), cov_2SLS=mean(inCI_2SLS), cov_TSGMM=mean(inCI_TSGMM),\n",
    "            bias_OLS=mean(bias_OLS), bias_2SLS=mean(bias_2SLS), bias_TSGMM=mean(bias_TSGMM))\n",
    "end     "
   ]
  },
  {
   "cell_type": "code",
   "execution_count": null,
   "metadata": {},
   "outputs": [
    {
     "name": "stdout",
     "output_type": "stream",
     "text": [
      "┌─────────────────────┬──────────┬──────────┬────────────────────────┐\n",
      "│\u001b[1m           Statistic \u001b[0m│\u001b[1m      OLS \u001b[0m│\u001b[1m     2SLS \u001b[0m│\u001b[1m Two-step efficient GMM \u001b[0m│\n",
      "├─────────────────────┼──────────┼──────────┼────────────────────────┤\n",
      "│ Coverage Prob of CI │      0.0 │    0.962 │                  0.956 │\n",
      "│                Bias │ 0.860489 │ 0.113845 │               0.103939 │\n",
      "└─────────────────────┴──────────┴──────────┴────────────────────────┘\n"
     ]
    }
   ],
   "source": [
    "@unpack cov_OLS, cov_2SLS, cov_TSGMM, bias_OLS, bias_2SLS, bias_TSGMM = simulate(10^4,1000)\n",
    "table_data = [\"Coverage Prob of CI\" cov_OLS cov_2SLS cov_TSGMM; \n",
    "\"Bias\" bias_OLS bias_2SLS bias_TSGMM;               \n",
    "]\n",
    "header=[\"Statistic\" ,\"OLS\", \"2SLS\" ,\"Two-step efficient GMM\"]\n",
    "pretty_table(table_data;header)"
   ]
  }
 ],
 "metadata": {
  "@webio": {
   "lastCommId": null,
   "lastKernelId": null
  },
  "kernelspec": {
   "display_name": "Julia 1.8.5",
   "language": "julia",
   "name": "julia-1.8"
  },
  "language_info": {
   "file_extension": ".jl",
   "mimetype": "application/julia",
   "name": "julia",
   "version": "1.8.5"
  }
 },
 "nbformat": 4,
 "nbformat_minor": 4
}
