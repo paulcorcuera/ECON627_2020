{
 "cells": [
  {
   "cell_type": "markdown",
   "metadata": {},
   "source": [
    "# Suggested Solution to PS2 "
   ]
  },
  {
   "cell_type": "markdown",
   "metadata": {},
   "source": [
    "You can optionally activate any environment. In this particular case, I will go to such location and activate it. If you don't use any particular environment in your computer, you can ignore the cell below."
   ]
  },
  {
   "cell_type": "code",
   "execution_count": 1,
   "metadata": {},
   "outputs": [
    {
     "name": "stderr",
     "output_type": "stream",
     "text": [
      "\u001b[32m\u001b[1m Activating\u001b[22m\u001b[39m environment at `C:\\Users\\paulc\\.julia\\dev\\ECON627_2020\\Project.toml`\n"
     ]
    }
   ],
   "source": [
    "cd(joinpath(pwd(),\"..\"))\n",
    "\n",
    "using Pkg\n",
    "Pkg.activate(\".\") ;"
   ]
  },
  {
   "cell_type": "markdown",
   "metadata": {},
   "source": [
    "## Load Main Packages"
   ]
  },
  {
   "cell_type": "code",
   "execution_count": 2,
   "metadata": {},
   "outputs": [],
   "source": [
    "using Distributions, PrettyTables, Random"
   ]
  },
  {
   "cell_type": "markdown",
   "metadata": {},
   "source": [
    "# Part (a)"
   ]
  },
  {
   "cell_type": "markdown",
   "metadata": {},
   "source": [
    "#### Define parameters and other constants"
   ]
  },
  {
   "cell_type": "code",
   "execution_count": 3,
   "metadata": {
    "scrolled": true
   },
   "outputs": [],
   "source": [
    "n=500\n",
    "const β=1.0\n",
    "const Π=[1.0;1.0;]\n",
    "const ρ=0.95;\n",
    "const Σ=[1.0 ρ; ρ 1;];"
   ]
  },
  {
   "cell_type": "markdown",
   "metadata": {},
   "source": [
    "#### Set Seed"
   ]
  },
  {
   "cell_type": "code",
   "execution_count": 4,
   "metadata": {},
   "outputs": [],
   "source": [
    "Random.seed!(1234);"
   ]
  },
  {
   "cell_type": "markdown",
   "metadata": {},
   "source": [
    "#### Define function that generates data"
   ]
  },
  {
   "cell_type": "code",
   "execution_count": 5,
   "metadata": {},
   "outputs": [
    {
     "data": {
      "text/plain": [
       "generate_data (generic function with 1 method)"
      ]
     },
     "execution_count": 5,
     "metadata": {},
     "output_type": "execute_result"
    }
   ],
   "source": [
    "function generate_data(n)\n",
    "    #Define the Multivariate Normal Distribution instance\n",
    "    mvnormal = MvNormal([0.0; 0.0], Σ)\n",
    "    \n",
    "    #DGP\n",
    "    Errors=rand(mvnormal,n)'\n",
    "    ϵ=Errors[:,1]\n",
    "    V=Errors[:,2]\n",
    "    Z=randn(n,2)\n",
    "    X=Z*Π+V\n",
    "    U=exp.(Z*Π) .* ϵ\n",
    "    Y=β*X+U\n",
    "    return (Y = Y , X = X , Z = Z)\n",
    "end"
   ]
  },
  {
   "cell_type": "markdown",
   "metadata": {},
   "source": [
    "Notice that the function returns a tuple where the first element is $Y$, the second element is $X$, and the third element is $Z$. If we ran this"
   ]
  },
  {
   "cell_type": "code",
   "execution_count": 6,
   "metadata": {},
   "outputs": [],
   "source": [
    "X1 , Y1, Z1 = generate_data(10);"
   ]
  },
  {
   "cell_type": "markdown",
   "metadata": {},
   "source": [
    "Our $X1$ would be in fact $Y$, and $Y1$ would be $X$. You have to be careful! The package `Parameters` allows us to forget about the order of that, and just unpack the named tuples using the output names in the function."
   ]
  },
  {
   "cell_type": "code",
   "execution_count": 7,
   "metadata": {},
   "outputs": [],
   "source": [
    "using Parameters\n",
    "@unpack X, Y , Z = generate_data(10);"
   ]
  },
  {
   "cell_type": "markdown",
   "metadata": {},
   "source": [
    "# Parts (b,c)"
   ]
  },
  {
   "cell_type": "markdown",
   "metadata": {},
   "source": [
    "#### Function for estimation of $\\Omega$"
   ]
  },
  {
   "cell_type": "code",
   "execution_count": 8,
   "metadata": {},
   "outputs": [
    {
     "data": {
      "text/plain": [
       "Ω (generic function with 1 method)"
      ]
     },
     "execution_count": 8,
     "metadata": {},
     "output_type": "execute_result"
    }
   ],
   "source": [
    "function Ω(U,Z)\n",
    "    n=length(U)\n",
    "    zr = Z.*U\n",
    "    omega = (zr' * zr)/n\n",
    "    \n",
    "    return omega\n",
    "end"
   ]
  },
  {
   "cell_type": "markdown",
   "metadata": {},
   "source": [
    "#### Function that computes 2SLS and the two-step efficient GMM and their standard errors"
   ]
  },
  {
   "cell_type": "markdown",
   "metadata": {},
   "source": [
    "Recall that we can write the estimator (for any choice of weighting matrix) as \n",
    "$$ \\hat{\\beta}_n(W_n) = (X'Z W_n Z'X)^{-1} X'Z W_n Z'Y $$\n",
    "\n",
    "and don't forget that 2SLS corresponds to the case where $W_n^{-1} = \\frac{(Z'Z)}{n}$."
   ]
  },
  {
   "cell_type": "code",
   "execution_count": 9,
   "metadata": {},
   "outputs": [
    {
     "data": {
      "text/plain": [
       "estimators (generic function with 1 method)"
      ]
     },
     "execution_count": 9,
     "metadata": {},
     "output_type": "execute_result"
    }
   ],
   "source": [
    "function estimators(Y,X,Z)\n",
    "    \n",
    "    n=length(Y)\n",
    "    \n",
    "    # 2SLS\n",
    "    PZ = Z*( (Z'*Z)\\Z' )\n",
    "    β2SLS = (X'*PZ*X)\\(X'*PZ*Y)\n",
    "    Q = Z'*X/n\n",
    "    W = inv(Z'*Z/n)\n",
    "    Ω1 = Ω(Y-β2SLS*X,Z)\n",
    "    var2sls = ( (Q'*W*Q)\\(Q'*W*Ω1*W*Q)/(Q'*W*Q) )/n\n",
    "    std2SLS = sqrt(var2sls)\n",
    "    \n",
    "    # Two-step efficient GMM\n",
    "    WGMM=inv(Ω1);\n",
    "    βGMM=(X'*Z*WGMM*Z'*X)\\(X'*Z*WGMM*Z'*Y)\n",
    "    Ω2=Ω(Y-βGMM*X,Z)\n",
    "    WGMM=inv(Ω2)\n",
    "    stdGMM=sqrt(inv(Q'*WGMM*Q)/n)\n",
    "    \n",
    "    return β2SLS, std2SLS,  βGMM, stdGMM\n",
    "    \n",
    "end"
   ]
  },
  {
   "cell_type": "markdown",
   "metadata": {},
   "source": [
    "# Part (d)"
   ]
  },
  {
   "cell_type": "code",
   "execution_count": 10,
   "metadata": {},
   "outputs": [],
   "source": [
    "R=10^4\n",
    "Bias2SLS=0.0\n",
    "BiasGMM=0.0\n",
    "std2SLS=0.0\n",
    "stdGMM=0.0\n",
    "In2SLS=0.0\n",
    "InGMM=0.0\n",
    "CritVal = quantile(Normal(0,1), .975);"
   ]
  },
  {
   "cell_type": "code",
   "execution_count": 11,
   "metadata": {},
   "outputs": [],
   "source": [
    "for r=1:R\n",
    "    Y, X, Z = generate_data(n)\n",
    "    b2SLS, s2SLS, bGMM, sGMM = estimators(Y,X,Z)\n",
    "    Bias2SLS += abs(b2SLS-β)\n",
    "    BiasGMM += abs(bGMM-β)\n",
    "    std2SLS += s2SLS\n",
    "    stdGMM += sGMM\n",
    "    In2SLS += (β>b2SLS - CritVal*s2SLS)*(β<b2SLS + CritVal*s2SLS)\n",
    "    InGMM += (β>bGMM - CritVal*sGMM)*(β<bGMM + CritVal*sGMM)\n",
    "end\n",
    "    "
   ]
  },
  {
   "cell_type": "markdown",
   "metadata": {},
   "source": [
    "# Part (e) $n=500$"
   ]
  },
  {
   "cell_type": "code",
   "execution_count": 12,
   "metadata": {},
   "outputs": [
    {
     "name": "stdout",
     "output_type": "stream",
     "text": [
      "┌─────────────────────┬──────────┬────────────────────────┐\n",
      "│\u001b[1m           Statistic \u001b[0m│\u001b[1m     2SLS \u001b[0m│\u001b[1m Two-step efficient GMM \u001b[0m│\n",
      "├─────────────────────┼──────────┼────────────────────────┤\n",
      "│                Bias │ 0.458717 │               0.372466 │\n",
      "│        Ave. std.err │ 0.523736 │               0.437846 │\n",
      "│ Coverage Prob of CI │   0.9581 │                 0.9473 │\n",
      "└─────────────────────┴──────────┴────────────────────────┘\n"
     ]
    }
   ],
   "source": [
    "table_data = [\"Bias\" Bias2SLS/R BiasGMM/R\n",
    "        \"Ave. std.err\" std2SLS/R stdGMM/R;\n",
    "        \"Coverage Prob of CI\" In2SLS/R InGMM/R;        \n",
    "]\n",
    "header=[\"Statistic\" \"2SLS\" \"Two-step efficient GMM\";]\n",
    "pretty_table(table_data,header)"
   ]
  },
  {
   "cell_type": "markdown",
   "metadata": {},
   "source": [
    "# Part (f)\n",
    "\n",
    "* The two-step efficient GMM estimator has a smaller bias and a smaller standard error.\n",
    "* The simulated coverage probabilities for both confidence intervals are close to the nominal 0.95.\n",
    "* The two-step efficient GMM approach is preferred when $n=500$."
   ]
  },
  {
   "cell_type": "markdown",
   "metadata": {},
   "source": [
    "# Part (g) $n=100$"
   ]
  },
  {
   "cell_type": "code",
   "execution_count": 13,
   "metadata": {},
   "outputs": [
    {
     "name": "stdout",
     "output_type": "stream",
     "text": [
      "┌─────────────────────┬──────────┬────────────────────────┐\n",
      "│\u001b[1m           Statistic \u001b[0m│\u001b[1m     2SLS \u001b[0m│\u001b[1m Two-step efficient GMM \u001b[0m│\n",
      "├─────────────────────┼──────────┼────────────────────────┤\n",
      "│                Bias │ 0.843634 │               0.630633 │\n",
      "│        Ave. std.err │ 0.902724 │               0.686344 │\n",
      "│ Coverage Prob of CI │    0.952 │                 0.9318 │\n",
      "└─────────────────────┴──────────┴────────────────────────┘\n"
     ]
    }
   ],
   "source": [
    "n=100\n",
    "Bias2SLS=0.0;\n",
    "BiasGMM=0.0;\n",
    "std2SLS=0.0;\n",
    "stdGMM=0.0;\n",
    "In2SLS=0.0;\n",
    "InGMM=0.0;\n",
    "\n",
    "for r=1:R\n",
    "    Y, X, Z = generate_data(n)\n",
    "    b2SLS, s2SLS, bGMM, sGMM = estimators(Y,X,Z)\n",
    "    Bias2SLS +=abs(b2SLS-β)\n",
    "    BiasGMM +=abs(bGMM-β)\n",
    "    std2SLS +=s2SLS\n",
    "    stdGMM +=sGMM\n",
    "    In2SLS += (β>b2SLS - CritVal*s2SLS)*(β<b2SLS + CritVal*s2SLS)\n",
    "    InGMM += (β>bGMM - CritVal*sGMM)*(β<bGMM + CritVal*sGMM)\n",
    "end\n",
    "\n",
    "table_data = [\"Bias\" Bias2SLS/R BiasGMM/R\n",
    "        \"Ave. std.err\" std2SLS/R stdGMM/R;\n",
    "        \"Coverage Prob of CI\" In2SLS/R InGMM/R;     \n",
    "]\n",
    "header=[\"Statistic\" \"2SLS\" \"Two-step efficient GMM\";]\n",
    "pretty_table(table_data,header)"
   ]
  },
  {
   "cell_type": "markdown",
   "metadata": {},
   "source": [
    "* The two-step efficient GMM estimator is less biased and has a smaller standard error.\n",
    "* The confidence interval based on the two-step efficient GMM estimator has a coverage pobability below the nominal 0.95.\n",
    "* The 2SLS approach is more reliable in smaller samples: the efficient two-step GMM approach may result in invalid inference in smaller samples."
   ]
  }
 ],
 "metadata": {
  "@webio": {
   "lastCommId": null,
   "lastKernelId": null
  },
  "kernelspec": {
   "display_name": "Julia 1.5.3",
   "language": "julia",
   "name": "julia-1.5"
  },
  "language_info": {
   "file_extension": ".jl",
   "mimetype": "application/julia",
   "name": "julia",
   "version": "1.5.3"
  }
 },
 "nbformat": 4,
 "nbformat_minor": 4
}
