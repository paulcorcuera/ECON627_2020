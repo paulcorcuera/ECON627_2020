{
 "cells": [
  {
   "cell_type": "markdown",
   "metadata": {},
   "source": [
    "# Tutorial Feb 1st"
   ]
  },
  {
   "cell_type": "code",
   "execution_count": 2,
   "metadata": {},
   "outputs": [
    {
     "name": "stderr",
     "output_type": "stream",
     "text": [
      "\u001b[32m\u001b[1m  Activating\u001b[22m\u001b[39m new project at `c:\\Users\\steve\\Documents\\GitHub`\n"
     ]
    }
   ],
   "source": [
    "\n",
    "using Pkg\n",
    "Pkg.activate(joinpath(pwd(),\"..\"))"
   ]
  },
  {
   "cell_type": "code",
   "execution_count": 3,
   "metadata": {},
   "outputs": [],
   "source": [
    "using LinearAlgebra"
   ]
  },
  {
   "cell_type": "markdown",
   "metadata": {},
   "source": [
    "Consider the system of equations given by \n",
    "$$ A x = b $$ \n",
    "\n",
    "For example, we let $A = \\Pi'$, $x = \\gamma_1$, and $b = \\pi'$. \n",
    "\n",
    "\n",
    "Denote $A^{\\dagger}$ as the pseudo-inverse of $A$. The properties of the pseudo-inverse are\n",
    "\n",
    "1. $A A^{\\dagger} A = A$. \n",
    "2. $A^{\\dagger} A A^{\\dagger} = A^{\\dagger}$.\n",
    "3. $A^{\\dagger} A$ is symmetric.\n",
    "4. $A A^{\\dagger}$ is symmetric.\n",
    "\n",
    "We say $A^{\\dagger}$ is a Generalized Inverse when 1 holds. When 1 and 2 hold, we say it's a Reflexive Generalized Inverse. Moreover, $A^{\\dagger}$ always exists for any matrix $A$.In the case where $A$ has full column rank, then \n",
    "\n",
    "$$ A^{\\dagger} = (A'A)^{-1} A'$$"
   ]
  },
  {
   "cell_type": "code",
   "execution_count": 4,
   "metadata": {},
   "outputs": [],
   "source": [
    "using Random\n",
    "Random.seed!(1234);"
   ]
  },
  {
   "cell_type": "markdown",
   "metadata": {},
   "source": [
    "## Example of MP Inverse"
   ]
  },
  {
   "cell_type": "code",
   "execution_count": 5,
   "metadata": {},
   "outputs": [
    {
     "data": {
      "text/plain": [
       "2-element Vector{Float64}:\n",
       " 0.5999999999999999\n",
       " 1.1999999999999997"
      ]
     },
     "metadata": {},
     "output_type": "display_data"
    }
   ],
   "source": [
    "y = [3.0;6.0]\n",
    "X = [1 2; 2 4]\n",
    "\n",
    "b = pinv(X)*y"
   ]
  },
  {
   "cell_type": "code",
   "execution_count": 6,
   "metadata": {},
   "outputs": [
    {
     "ename": "ArgumentError",
     "evalue": "ArgumentError: Package Plots not found in current path.\n- Run `import Pkg; Pkg.add(\"Plots\")` to install the Plots package.",
     "output_type": "error",
     "traceback": [
      "ArgumentError: Package Plots not found in current path.\n",
      "- Run `import Pkg; Pkg.add(\"Plots\")` to install the Plots package.\n",
      "\n",
      "Stacktrace:\n",
      "  [1] macro expansion\n",
      "    @ .\\loading.jl:1163 [inlined]\n",
      "  [2] macro expansion\n",
      "    @ .\\lock.jl:223 [inlined]\n",
      "  [3] require(into::Module, mod::Symbol)\n",
      "    @ Base .\\loading.jl:1144\n",
      "  [4] eval\n",
      "    @ .\\boot.jl:368 [inlined]\n",
      "  [5] include_string(mapexpr::typeof(REPL.softscope), mod::Module, code::String, filename::String)\n",
      "    @ Base .\\loading.jl:1428\n",
      "  [6] #invokelatest#2\n",
      "    @ .\\essentials.jl:729 [inlined]\n",
      "  [7] invokelatest\n",
      "    @ .\\essentials.jl:726 [inlined]\n",
      "  [8] (::VSCodeServer.var\"#208#209\"{VSCodeServer.NotebookRunCellArguments, String})()\n",
      "    @ VSCodeServer c:\\Users\\steve\\.vscode\\extensions\\julialang.language-julia-1.66.2\\scripts\\packages\\VSCodeServer\\src\\serve_notebook.jl:19\n",
      "  [9] withpath(f::VSCodeServer.var\"#208#209\"{VSCodeServer.NotebookRunCellArguments, String}, path::String)\n",
      "    @ VSCodeServer c:\\Users\\steve\\.vscode\\extensions\\julialang.language-julia-1.66.2\\scripts\\packages\\VSCodeServer\\src\\repl.jl:274\n",
      " [10] notebook_runcell_request(conn::VSCodeServer.JSONRPC.JSONRPCEndpoint{Base.PipeEndpoint, Base.PipeEndpoint}, params::VSCodeServer.NotebookRunCellArguments)\n",
      "    @ VSCodeServer c:\\Users\\steve\\.vscode\\extensions\\julialang.language-julia-1.66.2\\scripts\\packages\\VSCodeServer\\src\\serve_notebook.jl:13\n",
      " [11] dispatch_msg(x::VSCodeServer.JSONRPC.JSONRPCEndpoint{Base.PipeEndpoint, Base.PipeEndpoint}, dispatcher::VSCodeServer.JSONRPC.MsgDispatcher, msg::Dict{String, Any})\n",
      "    @ VSCodeServer.JSONRPC c:\\Users\\steve\\.vscode\\extensions\\julialang.language-julia-1.66.2\\scripts\\packages\\JSONRPC\\src\\typed.jl:67\n",
      " [12] serve_notebook(pipename::String, outputchannel_logger::Base.CoreLogging.SimpleLogger; crashreporting_pipename::String)\n",
      "    @ VSCodeServer c:\\Users\\steve\\.vscode\\extensions\\julialang.language-julia-1.66.2\\scripts\\packages\\VSCodeServer\\src\\serve_notebook.jl:139\n",
      " [13] top-level scope\n",
      "    @ c:\\Users\\steve\\.vscode\\extensions\\julialang.language-julia-1.66.2\\scripts\\notebook\\notebook.jl:32"
     ]
    }
   ],
   "source": [
    "using Plots\n",
    "gr(fmt=:png);"
   ]
  },
  {
   "cell_type": "code",
   "execution_count": 7,
   "metadata": {},
   "outputs": [
    {
     "ename": "UndefVarError",
     "evalue": "UndefVarError: plot not defined",
     "output_type": "error",
     "traceback": [
      "UndefVarError: plot not defined\n",
      "\n",
      "Stacktrace:\n",
      " [1] top-level scope\n",
      "   @ c:\\Users\\steve\\Documents\\GitHub\\ECON627_UBC.jl\\jupyter_notebooks\\2_TutorialFeb1st.ipynb:7"
     ]
    }
   ],
   "source": [
    "r1 = range(-7,7, length=10)\n",
    "r2 = -r1/2\n",
    "r3 = -r1/2 .+ 1.5\n",
    "#x_vals = [0 0 ; b[1] y[1]]\n",
    "#y_vals = [0 0 ; b[2] y[2]]\n",
    "\n",
    "plot([0, y[1]], [0, y[2]], arrow = true, color = :blue,\n",
    "     legend = :none, xlims = (-7, 7), ylims = (-7, 7),\n",
    "     xticks = -7:1:7, yticks = -7:1:7,\n",
    "     framestyle = :origin)\n",
    "plot!([0 , 1], [0 , -0.5], arrow = true, color = :red)\n",
    "plot!(r1, r2, color = :red, lw = 0.4, alpha = 0.6)"
   ]
  },
  {
   "cell_type": "markdown",
   "metadata": {},
   "source": [
    "Notice that the solution to the homogeneous system of linear equations \n",
    "$$A x = 0$$\n",
    "\n",
    "is $$x = (I - A^{\\dagger} A) q$$ \n",
    "\n",
    "where $q$ is an arbitrary vector. This subspace is shown as the red line above.\n",
    "\n",
    "\n",
    "The general solution to $Ax = b$ takes the following form\n",
    "\n",
    "$ x = A^{\\dagger}b + (I - A^{\\dagger} A) q$."
   ]
  },
  {
   "cell_type": "code",
   "execution_count": 8,
   "metadata": {},
   "outputs": [
    {
     "ename": "UndefVarError",
     "evalue": "UndefVarError: plot! not defined",
     "output_type": "error",
     "traceback": [
      "UndefVarError: plot! not defined\n",
      "\n",
      "Stacktrace:\n",
      " [1] top-level scope\n",
      "   @ c:\\Users\\steve\\Documents\\GitHub\\ECON627_UBC.jl\\jupyter_notebooks\\2_TutorialFeb1st.ipynb:1"
     ]
    }
   ],
   "source": [
    "plot!(r1, r3, color = :green, lw = 0.4, alpha = 0.6) "
   ]
  },
  {
   "cell_type": "markdown",
   "metadata": {},
   "source": [
    "The MP inverse is unique, i.e., it returns a unique vector living in the subspace given by the green line."
   ]
  },
  {
   "cell_type": "code",
   "execution_count": 9,
   "metadata": {
    "scrolled": true
   },
   "outputs": [
    {
     "ename": "UndefVarError",
     "evalue": "UndefVarError: plot! not defined",
     "output_type": "error",
     "traceback": [
      "UndefVarError: plot! not defined\n",
      "\n",
      "Stacktrace:\n",
      " [1] top-level scope\n",
      "   @ c:\\Users\\steve\\Documents\\GitHub\\ECON627_UBC.jl\\jupyter_notebooks\\2_TutorialFeb1st.ipynb:1"
     ]
    }
   ],
   "source": [
    "plot!([0 , b[1]], [0 , b[2]], arrow = true, color = :green)"
   ]
  },
  {
   "cell_type": "markdown",
   "metadata": {},
   "source": [
    "## Exact Identification \n",
    "\n",
    "Consider the case where $A$ is an $l\\times k$ matrix with full column rank, and $l=k$.\n",
    "\n",
    "$$ A x = b $$\n",
    "\n",
    "For example, $A:=Z'X$ and $b:=Z'y$. The solution is given by $x = A^{-1} b$."
   ]
  },
  {
   "cell_type": "markdown",
   "metadata": {},
   "source": [
    "## Overidentification\n",
    "\n",
    "Now consider the case where $l>k$. Let $W$ be a positive definite and symmetric matrix.  Then we can write\n",
    "\n",
    "$$ W^{1/2} A x = W^{1/2} b$$ \n",
    "$$ A' W^{1/2} W^{1/2} A x = A' W^{1/2}  W^{1/2} b$$ \n",
    "$$ A' W A x = A' W b$$ \n",
    "\n",
    "Now $A' W A $ is a square matrix with full rank $k$, so we can invert it. Then\n",
    "\n",
    "$$x = (A' W A)^{-1} A' W b$$\n",
    "\n",
    "where $A^{g} = (A' W A)^{-1} A'W$.\n"
   ]
  },
  {
   "cell_type": "markdown",
   "metadata": {},
   "source": [
    "We'll see the conditions we need so that the generalized inverse $A^g$ is a MP inverse of $A$.  Let's check the four rules that any generalized inverse must satisfy.\n",
    "\n",
    "1. $A A^g A = A (A'WA)^{-1} A'W A = A$\n",
    "2. $A^g A A^g = (A'WA)^{-1} A'WA (A'WA)^{-1} A'W = A^g$\n",
    "3. $A^g A$ must be symmetric, which is the case since it equals the identity matrix.\n",
    "4. $AA^g$ must be symmetric. Notice that the following equation only holds if $W=I$.\n",
    "\n",
    "$$ A(A'WA)^{-1}A'W= W'A (A'WA)^{-1} A'$$\n",
    "\n",
    "\n",
    "Hence, the MP inverse of $A$ iss given by\n",
    "\n",
    "$A^{\\dagger} = (A'A)^{-1} A'$."
   ]
  },
  {
   "cell_type": "markdown",
   "metadata": {},
   "source": [
    "Another useful thing to keep in mind is that if $X$ has full column rank, then so does $X'X$. To see this, consider some $z \\in N(X)$, i.e., $X z = 0$.  Then, notice that $X'X z = 0$ as well. This implies that $N(X) \\subseteq N(X'X)$. \n",
    "\n",
    "Similarly, take some $w \\in N(X'X)$, i.e., $X'X w=0$. Then we can see that $w' X'X w = 0$, so it follows that $Xw =0$. This implies that $N(X'X) \\subseteq N(X)$.  \n",
    "\n",
    "Finally, $N(X) = N(X'X)$ so the result follows by the rank nullity theorem."
   ]
  },
  {
   "cell_type": "markdown",
   "metadata": {},
   "source": [
    "# More Julia Stuff"
   ]
  },
  {
   "cell_type": "markdown",
   "metadata": {},
   "source": [
    "## Going from summation to matrices\n",
    "\n",
    "Let $Z_i$ be a vector of size $l$, and $u_i$ be a scalar. Let  $$\\hat{\\Omega} = \\frac{1}{n} \\sum_{i=1}^n u_i^2 Z_i Z_i'$$\n",
    "\n",
    "\n",
    "We can rewrite\n",
    "\n",
    "$$\n",
    "\\begin{align}\n",
    "\\hat{\\Omega} &= \\frac{1}{n} \\sum_{i=1}^n (u_i Z_i) (u_i Z_i)' \\\\\n",
    "&= \\frac{1}{n} \\sum_{i=1}^n \\tilde{Z}_i \\tilde{Z}_i' \\\\\n",
    "&= \\frac{1}{n}\\tilde{Z}' \\tilde{Z}\n",
    "\\end{align}\n",
    "$$\n",
    "\n",
    "so in Julia we can use the original matrix $Z$ and redefine\n",
    "\n",
    "$$\n",
    "\\begin{align}\n",
    "\\tilde{Z} &= \\left( \\begin{array}{c}  Z_1' \\times u_1 \\\\ \\vdots \\\\ Z_n' \\times u_n  \\end{array} \\right) \\\\\n",
    "&= \\left( \\begin{array}{c}  Z_1' \\\\ \\vdots \\\\ Z_n'  \\end{array} \\right) .^* u \\\\\n",
    "&= Z .^* u\n",
    "\\end{align}\n",
    "$$\n",
    "\n",
    "In other words, we can just broadcast this operation instead of doing a loop!"
   ]
  },
  {
   "cell_type": "markdown",
   "metadata": {},
   "source": [
    "## Generate some DGPs\n",
    "\n",
    "This is just to show that you should be careful about the object types when you simulate your data generating process. To work with linear algebra stuff in Julia we need the elements of our Arrays to be numbers (Int, Float, etc.). "
   ]
  },
  {
   "cell_type": "code",
   "execution_count": 10,
   "metadata": {},
   "outputs": [
    {
     "ename": "ArgumentError",
     "evalue": "ArgumentError: Package Distributions not found in current path.\n- Run `import Pkg; Pkg.add(\"Distributions\")` to install the Distributions package.",
     "output_type": "error",
     "traceback": [
      "ArgumentError: Package Distributions not found in current path.\n",
      "- Run `import Pkg; Pkg.add(\"Distributions\")` to install the Distributions package.\n",
      "\n",
      "Stacktrace:\n",
      "  [1] macro expansion\n",
      "    @ .\\loading.jl:1163 [inlined]\n",
      "  [2] macro expansion\n",
      "    @ .\\lock.jl:223 [inlined]\n",
      "  [3] require(into::Module, mod::Symbol)\n",
      "    @ Base .\\loading.jl:1144\n",
      "  [4] eval\n",
      "    @ .\\boot.jl:368 [inlined]\n",
      "  [5] include_string(mapexpr::typeof(REPL.softscope), mod::Module, code::String, filename::String)\n",
      "    @ Base .\\loading.jl:1428\n",
      "  [6] #invokelatest#2\n",
      "    @ .\\essentials.jl:729 [inlined]\n",
      "  [7] invokelatest\n",
      "    @ .\\essentials.jl:726 [inlined]\n",
      "  [8] (::VSCodeServer.var\"#208#209\"{VSCodeServer.NotebookRunCellArguments, String})()\n",
      "    @ VSCodeServer c:\\Users\\steve\\.vscode\\extensions\\julialang.language-julia-1.66.2\\scripts\\packages\\VSCodeServer\\src\\serve_notebook.jl:19\n",
      "  [9] withpath(f::VSCodeServer.var\"#208#209\"{VSCodeServer.NotebookRunCellArguments, String}, path::String)\n",
      "    @ VSCodeServer c:\\Users\\steve\\.vscode\\extensions\\julialang.language-julia-1.66.2\\scripts\\packages\\VSCodeServer\\src\\repl.jl:274\n",
      " [10] notebook_runcell_request(conn::VSCodeServer.JSONRPC.JSONRPCEndpoint{Base.PipeEndpoint, Base.PipeEndpoint}, params::VSCodeServer.NotebookRunCellArguments)\n",
      "    @ VSCodeServer c:\\Users\\steve\\.vscode\\extensions\\julialang.language-julia-1.66.2\\scripts\\packages\\VSCodeServer\\src\\serve_notebook.jl:13\n",
      " [11] dispatch_msg(x::VSCodeServer.JSONRPC.JSONRPCEndpoint{Base.PipeEndpoint, Base.PipeEndpoint}, dispatcher::VSCodeServer.JSONRPC.MsgDispatcher, msg::Dict{String, Any})\n",
      "    @ VSCodeServer.JSONRPC c:\\Users\\steve\\.vscode\\extensions\\julialang.language-julia-1.66.2\\scripts\\packages\\JSONRPC\\src\\typed.jl:67\n",
      " [12] serve_notebook(pipename::String, outputchannel_logger::Base.CoreLogging.SimpleLogger; crashreporting_pipename::String)\n",
      "    @ VSCodeServer c:\\Users\\steve\\.vscode\\extensions\\julialang.language-julia-1.66.2\\scripts\\packages\\VSCodeServer\\src\\serve_notebook.jl:139\n",
      " [13] top-level scope\n",
      "    @ c:\\Users\\steve\\.vscode\\extensions\\julialang.language-julia-1.66.2\\scripts\\notebook\\notebook.jl:32"
     ]
    }
   ],
   "source": [
    "using Distributions\n",
    "W = rand(Uniform(0,1),10);"
   ]
  },
  {
   "cell_type": "code",
   "execution_count": 11,
   "metadata": {},
   "outputs": [
    {
     "ename": "UndefVarError",
     "evalue": "UndefVarError: W not defined",
     "output_type": "error",
     "traceback": [
      "UndefVarError: W not defined\n",
      "\n",
      "Stacktrace:\n",
      " [1] top-level scope\n",
      "   @ c:\\Users\\steve\\Documents\\GitHub\\ECON627_UBC.jl\\jupyter_notebooks\\2_TutorialFeb1st.ipynb:1"
     ]
    }
   ],
   "source": [
    "W.<0.2"
   ]
  },
  {
   "cell_type": "code",
   "execution_count": 12,
   "metadata": {},
   "outputs": [
    {
     "ename": "UndefVarError",
     "evalue": "UndefVarError: W not defined",
     "output_type": "error",
     "traceback": [
      "UndefVarError: W not defined\n",
      "\n",
      "Stacktrace:\n",
      " [1] top-level scope\n",
      "   @ c:\\Users\\steve\\Documents\\GitHub\\ECON627_UBC.jl\\jupyter_notebooks\\2_TutorialFeb1st.ipynb:1"
     ]
    }
   ],
   "source": [
    "1*(W.<0.2)"
   ]
  },
  {
   "cell_type": "code",
   "execution_count": 13,
   "metadata": {},
   "outputs": [
    {
     "ename": "UndefVarError",
     "evalue": "UndefVarError: W not defined",
     "output_type": "error",
     "traceback": [
      "UndefVarError: W not defined\n",
      "\n",
      "Stacktrace:\n",
      " [1] top-level scope\n",
      "   @ c:\\Users\\steve\\Documents\\GitHub\\ECON627_UBC.jl\\jupyter_notebooks\\2_TutorialFeb1st.ipynb:1"
     ]
    }
   ],
   "source": [
    "W.==0.1"
   ]
  },
  {
   "cell_type": "code",
   "execution_count": 14,
   "metadata": {},
   "outputs": [
    {
     "ename": "UndefVarError",
     "evalue": "UndefVarError: W not defined",
     "output_type": "error",
     "traceback": [
      "UndefVarError: W not defined\n",
      "\n",
      "Stacktrace:\n",
      " [1] top-level scope\n",
      "   @ c:\\Users\\steve\\Documents\\GitHub\\ECON627_UBC.jl\\jupyter_notebooks\\2_TutorialFeb1st.ipynb:1"
     ]
    }
   ],
   "source": [
    "1*(W.==0.1)"
   ]
  },
  {
   "cell_type": "markdown",
   "metadata": {},
   "source": [
    "## About Functions"
   ]
  },
  {
   "cell_type": "code",
   "execution_count": 15,
   "metadata": {},
   "outputs": [
    {
     "data": {
      "text/plain": [
       "f1 (generic function with 1 method)"
      ]
     },
     "metadata": {},
     "output_type": "display_data"
    }
   ],
   "source": [
    "function f1()\n",
    "    w =5 \n",
    "    z= 6\n",
    "    return  w,  z\n",
    "end"
   ]
  },
  {
   "cell_type": "code",
   "execution_count": 16,
   "metadata": {},
   "outputs": [
    {
     "data": {
      "text/plain": [
       "(5, 6)"
      ]
     },
     "metadata": {},
     "output_type": "display_data"
    }
   ],
   "source": [
    "z , W = f1()"
   ]
  },
  {
   "cell_type": "code",
   "execution_count": 17,
   "metadata": {},
   "outputs": [
    {
     "data": {
      "text/plain": [
       "f2 (generic function with 1 method)"
      ]
     },
     "metadata": {},
     "output_type": "display_data"
    }
   ],
   "source": [
    "function f2()\n",
    "    w =5 \n",
    "    z= 6\n",
    "    return (w = w ,z = z)\n",
    "end"
   ]
  },
  {
   "cell_type": "code",
   "execution_count": 18,
   "metadata": {},
   "outputs": [
    {
     "ename": "ArgumentError",
     "evalue": "ArgumentError: Package Parameters not found in current path.\n- Run `import Pkg; Pkg.add(\"Parameters\")` to install the Parameters package.",
     "output_type": "error",
     "traceback": [
      "ArgumentError: Package Parameters not found in current path.\n",
      "- Run `import Pkg; Pkg.add(\"Parameters\")` to install the Parameters package.\n",
      "\n",
      "Stacktrace:\n",
      "  [1] macro expansion\n",
      "    @ .\\loading.jl:1163 [inlined]\n",
      "  [2] macro expansion\n",
      "    @ .\\lock.jl:223 [inlined]\n",
      "  [3] require(into::Module, mod::Symbol)\n",
      "    @ Base .\\loading.jl:1144\n",
      "  [4] eval\n",
      "    @ .\\boot.jl:368 [inlined]\n",
      "  [5] include_string(mapexpr::typeof(REPL.softscope), mod::Module, code::String, filename::String)\n",
      "    @ Base .\\loading.jl:1428\n",
      "  [6] #invokelatest#2\n",
      "    @ .\\essentials.jl:729 [inlined]\n",
      "  [7] invokelatest\n",
      "    @ .\\essentials.jl:726 [inlined]\n",
      "  [8] (::VSCodeServer.var\"#208#209\"{VSCodeServer.NotebookRunCellArguments, String})()\n",
      "    @ VSCodeServer c:\\Users\\steve\\.vscode\\extensions\\julialang.language-julia-1.66.2\\scripts\\packages\\VSCodeServer\\src\\serve_notebook.jl:19\n",
      "  [9] withpath(f::VSCodeServer.var\"#208#209\"{VSCodeServer.NotebookRunCellArguments, String}, path::String)\n",
      "    @ VSCodeServer c:\\Users\\steve\\.vscode\\extensions\\julialang.language-julia-1.66.2\\scripts\\packages\\VSCodeServer\\src\\repl.jl:274\n",
      " [10] notebook_runcell_request(conn::VSCodeServer.JSONRPC.JSONRPCEndpoint{Base.PipeEndpoint, Base.PipeEndpoint}, params::VSCodeServer.NotebookRunCellArguments)\n",
      "    @ VSCodeServer c:\\Users\\steve\\.vscode\\extensions\\julialang.language-julia-1.66.2\\scripts\\packages\\VSCodeServer\\src\\serve_notebook.jl:13\n",
      " [11] dispatch_msg(x::VSCodeServer.JSONRPC.JSONRPCEndpoint{Base.PipeEndpoint, Base.PipeEndpoint}, dispatcher::VSCodeServer.JSONRPC.MsgDispatcher, msg::Dict{String, Any})\n",
      "    @ VSCodeServer.JSONRPC c:\\Users\\steve\\.vscode\\extensions\\julialang.language-julia-1.66.2\\scripts\\packages\\JSONRPC\\src\\typed.jl:67\n",
      " [12] serve_notebook(pipename::String, outputchannel_logger::Base.CoreLogging.SimpleLogger; crashreporting_pipename::String)\n",
      "    @ VSCodeServer c:\\Users\\steve\\.vscode\\extensions\\julialang.language-julia-1.66.2\\scripts\\packages\\VSCodeServer\\src\\serve_notebook.jl:139\n",
      " [13] top-level scope\n",
      "    @ c:\\Users\\steve\\.vscode\\extensions\\julialang.language-julia-1.66.2\\scripts\\notebook\\notebook.jl:32"
     ]
    }
   ],
   "source": [
    "using Parameters\n",
    "@unpack z , w = f2()\n"
   ]
  },
  {
   "cell_type": "code",
   "execution_count": 19,
   "metadata": {},
   "outputs": [
    {
     "ename": "UndefVarError",
     "evalue": "UndefVarError: w not defined",
     "output_type": "error",
     "traceback": [
      "UndefVarError: w not defined\n"
     ]
    }
   ],
   "source": [
    "w"
   ]
  },
  {
   "cell_type": "markdown",
   "metadata": {},
   "source": [
    "# Solving Linear Systems of Equations"
   ]
  },
  {
   "cell_type": "markdown",
   "metadata": {},
   "source": [
    "Usually our moment conditions leave us with something that looks like a linear system of equations.  For instance, in the case of OLS we have the following system: \n",
    "\n",
    "$$ X'X * \\beta  = X'Y $$\n",
    "\n",
    "which can be rewritten as \n",
    "\n",
    "$$ A x  = b $$ \n",
    "\n",
    "\n",
    "We say a matrix is **ill-conditioned** if the basis of eigenvectors are close to, but not exactly, collinear. This can create numerical errors roughly in proportion to the base-10 log of the condition number. I don't think this is gonna be an issue in any of the computations you will perform in the course, but these type of issues can arise when we are, for instance, running models with many fixed effects (high dimensional FE). \n",
    "\n",
    "\n",
    "The condition number (using the 2-norm) can be computed as \n",
    "\n",
    "$$ k(A) = || A || * || A^{-1} || $$"
   ]
  },
  {
   "cell_type": "code",
   "execution_count": 20,
   "metadata": {},
   "outputs": [
    {
     "data": {
      "text/plain": [
       "2.0000000000005004e6"
      ]
     },
     "metadata": {},
     "output_type": "display_data"
    }
   ],
   "source": [
    "#Create ill-conditioned matrix\n",
    "ϵ = 1E-6\n",
    "A = [1.0 0.0\n",
    "     1.0 ϵ]\n",
    "cond(A)"
   ]
  },
  {
   "cell_type": "code",
   "execution_count": 21,
   "metadata": {},
   "outputs": [
    {
     "data": {
      "text/plain": [
       "2×2 Matrix{Float64}:\n",
       "  1.0    0.0\n",
       " -1.0e6  1.0e6"
      ]
     },
     "metadata": {},
     "output_type": "display_data"
    }
   ],
   "source": [
    "#Notice that it has both huge and tiny values!\n",
    "inv(A)"
   ]
  },
  {
   "cell_type": "markdown",
   "metadata": {},
   "source": [
    "This is actually one of the reasons to avoid using `inv()` in practice, and instead use the backslash notation, which will perform better. Another reason is that if the A matrix is sparse, we make it dense when we invert it. The backslash notation will exploit the fact that A was sparse in the first place!"
   ]
  },
  {
   "cell_type": "markdown",
   "metadata": {},
   "source": [
    "### Factorization\n",
    "\n",
    "One way to fix this is to do a factorization, which will allow us to compute a more stable inverse (like a triangular matrix). For instance, a QR decomposition splits A into an orthogonal matrix (inverse = transpose) and an upper triangular matrix. The solution is then simplified as\n",
    "\n",
    "$$ Q R x  = b $$ \n",
    "$$ R x  = Q^{T} * b $$\n",
    "$$ x = R^{-1}  Q^{T} * b $$"
   ]
  },
  {
   "cell_type": "code",
   "execution_count": 22,
   "metadata": {},
   "outputs": [
    {
     "data": {
      "text/plain": [
       "1001×1 Matrix{Float64}:\n",
       "     -0.15569752583462682\n",
       " 735559.6459687607\n",
       " 566991.6437844773\n",
       "      1.1278336082900958e6\n",
       " 170606.37511972696\n",
       " 676052.5195583446\n",
       " 795259.1255148996\n",
       " 995319.4598926973\n",
       "      1.1228402947500078e6\n",
       " 945461.9353697579\n",
       "      ⋮\n",
       " 949497.6175107218\n",
       " 262375.50099354604\n",
       " 678986.7360714051\n",
       " 366098.6761227402\n",
       " 834155.711561358\n",
       " 579992.1806677297\n",
       " 637251.1170191271\n",
       " 557225.3415332807\n",
       " 745547.1559633027"
      ]
     },
     "metadata": {},
     "output_type": "display_data"
    }
   ],
   "source": [
    "illX = [ones(1000)'; ϵ * I]'\n",
    "illXX = illX'illX;\n",
    "illXY = illX' * rand(1000,1);\n",
    "\n",
    "Q, R = qr(illXX);\n",
    "βsol_qr = R \\ (Q'* illXY)\n"
   ]
  },
  {
   "cell_type": "code",
   "execution_count": 23,
   "metadata": {},
   "outputs": [
    {
     "data": {
      "text/plain": [
       "5.368128227224916e29"
      ]
     },
     "metadata": {},
     "output_type": "display_data"
    }
   ],
   "source": [
    "cond(illXX)"
   ]
  },
  {
   "cell_type": "code",
   "execution_count": 24,
   "metadata": {},
   "outputs": [
    {
     "data": {
      "text/plain": [
       "2.873181747420277e30"
      ]
     },
     "metadata": {},
     "output_type": "display_data"
    }
   ],
   "source": [
    "cond(R)"
   ]
  },
  {
   "cell_type": "code",
   "execution_count": 25,
   "metadata": {},
   "outputs": [
    {
     "data": {
      "text/plain": [
       "true"
      ]
     },
     "metadata": {},
     "output_type": "display_data"
    }
   ],
   "source": [
    "cond(R) > cond(illXX)"
   ]
  },
  {
   "cell_type": "markdown",
   "metadata": {},
   "source": [
    "Depending on the particular application and the factorization chosen we can improve a lot the conditioning number."
   ]
  },
  {
   "cell_type": "markdown",
   "metadata": {},
   "source": [
    "### Iterative Solution (Krylov Methods)\n",
    "\n",
    "This is will iterate the system on $x^k$ until it reaches a solution. It is an alternative to factorization. However, it has slow convergence rates when the matrix in the linear system is ill-conditioned. \n",
    "\n",
    "A solution to this is to set a matrix $ P $ which has numerically stable inverse. Consider the following case of a right preconditioner P:\n",
    "\n",
    "$$ A x = b $$\n",
    "$$ A P^{-1} P  x = b $$\n",
    "$$ (AP^{-1}) y = b $$ \n",
    "\n",
    "so we can use the last equation to solve for $y$ , and then recover $x$ from $P x = y $."
   ]
  },
  {
   "cell_type": "code",
   "execution_count": 26,
   "metadata": {},
   "outputs": [
    {
     "data": {
      "text/plain": [
       "488812.5632013314"
      ]
     },
     "metadata": {},
     "output_type": "display_data"
    }
   ],
   "source": [
    "#This creates a sparse matrix with 10% of zeros\n",
    "using SparseArrays\n",
    "A = sprand(100, 100, 0.1)   \n",
    "A = A * A'  \n",
    "cond(Matrix(A)) #Can be ill conditioned!"
   ]
  },
  {
   "cell_type": "markdown",
   "metadata": {},
   "source": [
    "One of the standard Krylov methods is Conjugate Gradient, which works for symmetric and positive definite matrices. This is exactly the case of our least squares problem!\n",
    "\n",
    "We can choose among many preconditioners, and there's no really a way to know which is gonna work the best. In this case I'll show the solution using an Algebraic Multigrid (AMG) preconditioner."
   ]
  },
  {
   "cell_type": "code",
   "execution_count": 27,
   "metadata": {},
   "outputs": [
    {
     "ename": "ArgumentError",
     "evalue": "ArgumentError: Package IterativeSolvers not found in current path.\n- Run `import Pkg; Pkg.add(\"IterativeSolvers\")` to install the IterativeSolvers package.",
     "output_type": "error",
     "traceback": [
      "ArgumentError: Package IterativeSolvers not found in current path.\n",
      "- Run `import Pkg; Pkg.add(\"IterativeSolvers\")` to install the IterativeSolvers package.\n",
      "\n",
      "Stacktrace:\n",
      "  [1] macro expansion\n",
      "    @ .\\loading.jl:1163 [inlined]\n",
      "  [2] macro expansion\n",
      "    @ .\\lock.jl:223 [inlined]\n",
      "  [3] require(into::Module, mod::Symbol)\n",
      "    @ Base .\\loading.jl:1144\n",
      "  [4] eval\n",
      "    @ .\\boot.jl:368 [inlined]\n",
      "  [5] include_string(mapexpr::typeof(REPL.softscope), mod::Module, code::String, filename::String)\n",
      "    @ Base .\\loading.jl:1428\n",
      "  [6] #invokelatest#2\n",
      "    @ .\\essentials.jl:729 [inlined]\n",
      "  [7] invokelatest\n",
      "    @ .\\essentials.jl:726 [inlined]\n",
      "  [8] (::VSCodeServer.var\"#208#209\"{VSCodeServer.NotebookRunCellArguments, String})()\n",
      "    @ VSCodeServer c:\\Users\\steve\\.vscode\\extensions\\julialang.language-julia-1.66.2\\scripts\\packages\\VSCodeServer\\src\\serve_notebook.jl:19\n",
      "  [9] withpath(f::VSCodeServer.var\"#208#209\"{VSCodeServer.NotebookRunCellArguments, String}, path::String)\n",
      "    @ VSCodeServer c:\\Users\\steve\\.vscode\\extensions\\julialang.language-julia-1.66.2\\scripts\\packages\\VSCodeServer\\src\\repl.jl:274\n",
      " [10] notebook_runcell_request(conn::VSCodeServer.JSONRPC.JSONRPCEndpoint{Base.PipeEndpoint, Base.PipeEndpoint}, params::VSCodeServer.NotebookRunCellArguments)\n",
      "    @ VSCodeServer c:\\Users\\steve\\.vscode\\extensions\\julialang.language-julia-1.66.2\\scripts\\packages\\VSCodeServer\\src\\serve_notebook.jl:13\n",
      " [11] dispatch_msg(x::VSCodeServer.JSONRPC.JSONRPCEndpoint{Base.PipeEndpoint, Base.PipeEndpoint}, dispatcher::VSCodeServer.JSONRPC.MsgDispatcher, msg::Dict{String, Any})\n",
      "    @ VSCodeServer.JSONRPC c:\\Users\\steve\\.vscode\\extensions\\julialang.language-julia-1.66.2\\scripts\\packages\\JSONRPC\\src\\typed.jl:67\n",
      " [12] serve_notebook(pipename::String, outputchannel_logger::Base.CoreLogging.SimpleLogger; crashreporting_pipename::String)\n",
      "    @ VSCodeServer c:\\Users\\steve\\.vscode\\extensions\\julialang.language-julia-1.66.2\\scripts\\packages\\VSCodeServer\\src\\serve_notebook.jl:139\n",
      " [13] top-level scope\n",
      "    @ c:\\Users\\steve\\.vscode\\extensions\\julialang.language-julia-1.66.2\\scripts\\notebook\\notebook.jl:32"
     ]
    }
   ],
   "source": [
    "using IterativeSolvers"
   ]
  },
  {
   "cell_type": "code",
   "execution_count": 28,
   "metadata": {},
   "outputs": [
    {
     "ename": "UndefVarError",
     "evalue": "UndefVarError: Identity not defined",
     "output_type": "error",
     "traceback": [
      "UndefVarError: Identity not defined\n",
      "\n",
      "Stacktrace:\n",
      " [1] top-level scope\n",
      "   @ c:\\Users\\steve\\Documents\\GitHub\\ECON627_UBC.jl\\jupyter_notebooks\\2_TutorialFeb1st.ipynb:4"
     ]
    }
   ],
   "source": [
    "#Initial value\n",
    "β_init = zeros(100)\n",
    "b = A * rand(100,1)\n",
    "sol = cg!(β_init, A, b, Pl = Identity(), log=true, maxiter = 1000)\n",
    "sol[end]"
   ]
  },
  {
   "cell_type": "code",
   "execution_count": 29,
   "metadata": {},
   "outputs": [
    {
     "ename": "UndefVarError",
     "evalue": "UndefVarError: sol not defined",
     "output_type": "error",
     "traceback": [
      "UndefVarError: sol not defined\n",
      "\n",
      "Stacktrace:\n",
      " [1] top-level scope\n",
      "   @ c:\\Users\\steve\\Documents\\GitHub\\ECON627_UBC.jl\\jupyter_notebooks\\2_TutorialFeb1st.ipynb:2"
     ]
    }
   ],
   "source": [
    "#Show the vector of coefficients\n",
    "sol[1]"
   ]
  },
  {
   "cell_type": "code",
   "execution_count": 30,
   "metadata": {},
   "outputs": [
    {
     "ename": "UndefVarError",
     "evalue": "UndefVarError: cg! not defined",
     "output_type": "error",
     "traceback": [
      "UndefVarError: cg! not defined\n",
      "\n",
      "Stacktrace:\n",
      " [1] top-level scope\n",
      "   @ c:\\Users\\steve\\Documents\\GitHub\\ECON627_UBC.jl\\jupyter_notebooks\\2_TutorialFeb1st.ipynb:1"
     ]
    }
   ],
   "source": [
    "sol2 = cg!(β_init, A, b, Pl = I, log=true, maxiter = 1000)\n",
    "sol2[end]"
   ]
  },
  {
   "cell_type": "code",
   "execution_count": 31,
   "metadata": {},
   "outputs": [
    {
     "ename": "UndefVarError",
     "evalue": "UndefVarError: sol2 not defined",
     "output_type": "error",
     "traceback": [
      "UndefVarError: sol2 not defined\n",
      "\n",
      "Stacktrace:\n",
      " [1] top-level scope\n",
      "   @ c:\\Users\\steve\\Documents\\GitHub\\ECON627_UBC.jl\\jupyter_notebooks\\2_TutorialFeb1st.ipynb:1"
     ]
    }
   ],
   "source": [
    "sol2[1]"
   ]
  },
  {
   "cell_type": "markdown",
   "metadata": {},
   "source": [
    "Something I would like to point out is that using a preconditioner does not ensure that the number of iterations will reduce."
   ]
  }
 ],
 "metadata": {
  "kernelspec": {
   "display_name": "Julia 1.8.5",
   "language": "julia",
   "name": "julia-1.8"
  },
  "language_info": {
   "file_extension": ".jl",
   "mimetype": "application/julia",
   "name": "julia",
   "version": "1.8.5"
  }
 },
 "nbformat": 4,
 "nbformat_minor": 4
}
