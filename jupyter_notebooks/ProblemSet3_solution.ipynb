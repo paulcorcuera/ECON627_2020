{
 "cells": [
  {
   "cell_type": "markdown",
   "metadata": {},
   "source": [
    "# Suggested Solution to PS3"
   ]
  },
  {
   "cell_type": "markdown",
   "metadata": {},
   "source": [
    "You can optionally activate any environment. In this particular case, I will go to such location and activate it. If you don't use any particular environment in your computer, you can ignore the cell below."
   ]
  },
  {
   "cell_type": "code",
   "execution_count": 1,
   "metadata": {},
   "outputs": [
    {
     "name": "stderr",
     "output_type": "stream",
     "text": [
      "\u001b[32m\u001b[1m Activating\u001b[22m\u001b[39m environment at `C:\\Users\\paulc\\.julia\\dev\\ECON627_2020\\Project.toml`\n"
     ]
    }
   ],
   "source": [
    "cd(joinpath(pwd(),\"..\"))\n",
    "\n",
    "using Pkg\n",
    "Pkg.activate(\".\") ;"
   ]
  },
  {
   "cell_type": "markdown",
   "metadata": {},
   "source": [
    "## Load Main Packages"
   ]
  },
  {
   "cell_type": "code",
   "execution_count": 2,
   "metadata": {},
   "outputs": [],
   "source": [
    "using Distributions, PrettyTables, Random, Parameters"
   ]
  },
  {
   "cell_type": "markdown",
   "metadata": {},
   "source": [
    "## Define parameters and other constants"
   ]
  },
  {
   "cell_type": "code",
   "execution_count": 3,
   "metadata": {
    "scrolled": true
   },
   "outputs": [],
   "source": [
    "const β=0.15\n",
    "const ρ=0.9;\n",
    "const Σ=[1.0 ρ; ρ 1;];"
   ]
  },
  {
   "cell_type": "markdown",
   "metadata": {},
   "source": [
    "## Set Seed"
   ]
  },
  {
   "cell_type": "code",
   "execution_count": 4,
   "metadata": {},
   "outputs": [],
   "source": [
    "Random.seed!(1234);"
   ]
  },
  {
   "cell_type": "markdown",
   "metadata": {},
   "source": [
    "## Define functions that generate data and do estimation"
   ]
  },
  {
   "cell_type": "code",
   "execution_count": 5,
   "metadata": {},
   "outputs": [
    {
     "data": {
      "text/plain": [
       "generate_data (generic function with 1 method)"
      ]
     },
     "execution_count": 5,
     "metadata": {},
     "output_type": "execute_result"
    }
   ],
   "source": [
    "function generate_data(n)\n",
    "    #Define the Multivariate Normal Distribution instance\n",
    "    mvnormal = MvNormal([0.0; 0.0], Σ)\n",
    "    \n",
    "\n",
    "    #DGP\n",
    "    W = rand(Uniform(0, 1), n)\n",
    "    Z = -0.5*(W.<0.2)-0.1*(W.>=0.2).*(W.<0.4)+0.1*(W.>=0.4).*(W.<0.6)+1*(W.>=0.6) \n",
    "    \n",
    "    Errors=rand(mvnormal,n)'\n",
    "    ϵ=Errors[:,1]\n",
    "    V=Errors[:,2]  \n",
    "    U = (1.0.+Z).*ϵ\n",
    "    \n",
    "    X = 4*Z.^2+V\n",
    "    Y = β*X+U\n",
    "    return (Y = Y , X = X , Z = Z)\n",
    "end"
   ]
  },
  {
   "cell_type": "code",
   "execution_count": 6,
   "metadata": {},
   "outputs": [
    {
     "data": {
      "text/plain": [
       "efficient_instruments (generic function with 1 method)"
      ]
     },
     "execution_count": 6,
     "metadata": {},
     "output_type": "execute_result"
    }
   ],
   "source": [
    "function efficient_instruments(Y,X,Z)\n",
    "    #Infeasible\n",
    "    g_infea = (4*Z.^2)./((1.0.+Z).^2)\n",
    "    \n",
    "    #Feasible\n",
    "    Z_1 = 1*(Z.==-0.5)\n",
    "    Z_2 = 1*(Z.==-0.1)\n",
    "    Z_3 = 1*(Z.==0.1)\n",
    "    Z_4 = 1*(Z.==1)\n",
    "\n",
    "    D = [Z_1 Z_2 Z_3 Z_4]\n",
    "    P_D = D/(D'*D)*D'\n",
    "    \n",
    "    U_hat = Y-(Z'*X)\\(Z'*Y)*X\n",
    "    g_fea = (P_D*X)./(P_D*(U_hat.^2))\n",
    "    \n",
    "    \n",
    "    return (infeasible = g_infea , feasible = g_fea)\n",
    "end"
   ]
  },
  {
   "cell_type": "code",
   "execution_count": 7,
   "metadata": {},
   "outputs": [
    {
     "data": {
      "text/plain": [
       "estimators (generic function with 1 method)"
      ]
     },
     "execution_count": 7,
     "metadata": {},
     "output_type": "execute_result"
    }
   ],
   "source": [
    "function estimators(Y,X,Z)\n",
    "    @unpack feasible , infeasible = efficient_instruments(Y,X,Z)\n",
    "    \n",
    "    n=length(Y)\n",
    "    \n",
    "    # 2SLS\n",
    "    β2sls = (Z'*X)\\(Z'*Y)\n",
    "    U = Y - X*β2sls\n",
    "    zu = Z.*U\n",
    "    zx = Z'*X\n",
    "    \n",
    "    Ω2sls = n*((zx)\\(zu'*zu)/(zx')) \n",
    "    se2sls = sqrt.(Ω2sls)\n",
    "    \n",
    "    # Efficient Infeasible\n",
    "    βfea = (feasible'*X)\\(feasible'*Y)\n",
    "    zx = feasible'*X\n",
    "    \n",
    "    Ωfea = n*inv(zx)\n",
    "    sefea = sqrt.(Ωfea)\n",
    "\n",
    "    \n",
    "    # Efficient Feasible\n",
    "    βinf = (infeasible'*X)\\(infeasible'*Y)\n",
    "    zx = infeasible'*X\n",
    "    \n",
    "    Ωinf = n*inv(zx)\n",
    "    seinf = sqrt.(Ωinf)\n",
    "    \n",
    "    \n",
    "    return (β2sls = β2sls, se2sls = se2sls, βfea = βfea, sefea = sefea, βinf = βinf, seinf = seinf)\n",
    "    \n",
    "end"
   ]
  },
  {
   "cell_type": "markdown",
   "metadata": {},
   "source": [
    "# Results for n=100"
   ]
  },
  {
   "cell_type": "code",
   "execution_count": 8,
   "metadata": {},
   "outputs": [],
   "source": [
    "n = 100\n",
    "R = 10^4\n",
    "\n",
    "sig_2sls = zeros(1,3)\n",
    "length_2sls = zeros(1,3)\n",
    "cov_2sls = zeros(1,3)\n",
    "\n",
    "sig_fea = zeros(1,3)\n",
    "length_fea = zeros(1,3)\n",
    "cov_fea = zeros(1,3)\n",
    "\n",
    "sig_inf = zeros(1,3)\n",
    "length_inf = zeros(1,3)\n",
    "cov_inf = zeros(1,3)\n",
    "\n",
    "α = [0.1 0.05 0.01]\n",
    "\n",
    "\n",
    "for r=1:R\n",
    "    Y, X, Z = generate_data(n)\n",
    "    @unpack β2sls, se2sls, βfea, sefea, βinf, seinf = estimators(Y,X,Z)\n",
    "     \n",
    "    upper_2sls = β2sls .- se2sls*quantile.(Normal(), α./2)/sqrt(n)\n",
    "    lower_2sls = β2sls .+ se2sls*quantile.(Normal(), α./2)/sqrt(n)\n",
    "    \n",
    "    upper_inf = βinf .- seinf*quantile.(Normal(), α./2)/sqrt(n)\n",
    "    lower_inf = βinf .+ seinf*quantile.(Normal(), α./2)/sqrt(n)\n",
    "    \n",
    "    upper_fea = βfea .- sefea*quantile.(Normal(), α./2)/sqrt(n)\n",
    "    lower_fea = βfea .+ sefea*quantile.(Normal(), α./2)/sqrt(n)\n",
    "    \n",
    "    sig_2sls .+=  1*(lower_2sls.>0)\n",
    "    sig_inf .+=  1*(lower_inf.>0)\n",
    "    sig_fea .+=  1*(lower_fea.>0)\n",
    " \n",
    "    cov_2sls .+= 1*(upper_2sls.>β).*(lower_2sls.<β)\n",
    "    cov_inf .+= 1*(upper_inf.>β).*(lower_inf.<β)\n",
    "    cov_fea .+= 1*(upper_fea.>β).*(lower_fea.<β)\n",
    " \n",
    "    length_2sls .+= 1*(upper_2sls .- lower_2sls)\n",
    "    length_inf .+= 1*(upper_inf .- lower_inf)\n",
    "    length_fea .+= 1*(upper_fea .- lower_fea)\n",
    "    \n",
    "end"
   ]
  },
  {
   "cell_type": "code",
   "execution_count": 9,
   "metadata": {},
   "outputs": [],
   "source": [
    "sig_2sls = sig_2sls./R\n",
    "length_2sls = length_2sls./R\n",
    "cov_2sls = cov_2sls./R\n",
    "\n",
    "sig_fea = sig_fea./R\n",
    "length_fea = length_fea./R\n",
    "cov_fea = cov_fea./R\n",
    "\n",
    "sig_inf = sig_inf./R\n",
    "length_inf = length_inf./R\n",
    "cov_inf = cov_inf./R ;"
   ]
  },
  {
   "cell_type": "markdown",
   "metadata": {},
   "source": [
    "### Coverage (n=100)\n"
   ]
  },
  {
   "cell_type": "code",
   "execution_count": 10,
   "metadata": {},
   "outputs": [
    {
     "name": "stdout",
     "output_type": "stream",
     "text": [
      "┌──────┬────────┬──────────────────────┬────────────────────┐\n",
      "│\u001b[1m    α \u001b[0m│\u001b[1m   2SLS \u001b[0m│\u001b[1m Infeasible Efficient \u001b[0m│\u001b[1m Feasible Efficient \u001b[0m│\n",
      "├──────┼────────┼──────────────────────┼────────────────────┤\n",
      "│  0.9 │ 0.8868 │               0.8955 │             0.8734 │\n",
      "│ 0.95 │ 0.9376 │               0.9458 │             0.9749 │\n",
      "│ 0.99 │  0.984 │               0.9458 │             0.9749 │\n",
      "└──────┴────────┴──────────────────────┴────────────────────┘\n"
     ]
    }
   ],
   "source": [
    "header = [\"α\" \"2SLS\"  \"Infeasible Efficient\" \"Feasible Efficient\"]\n",
    "table = [ 0.90  cov_2sls[1] cov_inf[1] cov_fea[1]  ;\n",
    "0.95  cov_2sls[2] cov_inf[2] cov_fea[3] ;\n",
    "0.99  cov_2sls[3] cov_inf[2] cov_fea[3] ]\n",
    "\n",
    "pretty_table(table, header)\n"
   ]
  },
  {
   "cell_type": "markdown",
   "metadata": {},
   "source": [
    "### Prob. of Statistically Significant Results (n=100)"
   ]
  },
  {
   "cell_type": "code",
   "execution_count": 11,
   "metadata": {},
   "outputs": [
    {
     "name": "stdout",
     "output_type": "stream",
     "text": [
      "┌──────┬────────┬──────────────────────┬────────────────────┐\n",
      "│\u001b[1m    α \u001b[0m│\u001b[1m   2SLS \u001b[0m│\u001b[1m Infeasible Efficient \u001b[0m│\u001b[1m Feasible Efficient \u001b[0m│\n",
      "├──────┼────────┼──────────────────────┼────────────────────┤\n",
      "│  0.9 │ 0.5514 │               0.7353 │              0.761 │\n",
      "│ 0.95 │ 0.4477 │               0.6309 │             0.4847 │\n",
      "│ 0.99 │ 0.2718 │               0.6309 │             0.4847 │\n",
      "└──────┴────────┴──────────────────────┴────────────────────┘\n"
     ]
    }
   ],
   "source": [
    "header = [\"α\" \"2SLS\"  \"Infeasible Efficient\" \"Feasible Efficient\"]\n",
    "table = [ 0.90  sig_2sls[1] sig_inf[1] sig_fea[1]  ;\n",
    "0.95  sig_2sls[2] sig_inf[2] sig_fea[3] ;\n",
    "0.99  sig_2sls[3] sig_inf[2] sig_fea[3] ]\n",
    "\n",
    "pretty_table(table, header)"
   ]
  },
  {
   "cell_type": "markdown",
   "metadata": {},
   "source": [
    "### Average Length of CI (n=100)"
   ]
  },
  {
   "cell_type": "code",
   "execution_count": 12,
   "metadata": {},
   "outputs": [
    {
     "name": "stdout",
     "output_type": "stream",
     "text": [
      "┌──────┬──────────┬──────────────────────┬────────────────────┐\n",
      "│\u001b[1m    α \u001b[0m│\u001b[1m     2SLS \u001b[0m│\u001b[1m Infeasible Efficient \u001b[0m│\u001b[1m Feasible Efficient \u001b[0m│\n",
      "├──────┼──────────┼──────────────────────┼────────────────────┤\n",
      "│  0.9 │ 0.277178 │             0.213275 │           0.207638 │\n",
      "│ 0.95 │ 0.330278 │             0.254132 │            0.32516 │\n",
      "│ 0.99 │ 0.434059 │             0.254132 │            0.32516 │\n",
      "└──────┴──────────┴──────────────────────┴────────────────────┘\n"
     ]
    }
   ],
   "source": [
    "header = [\"α\" \"2SLS\"  \"Infeasible Efficient\" \"Feasible Efficient\"]\n",
    "table = [ 0.90  length_2sls[1] length_inf[1] length_fea[1]  ;\n",
    "0.95  length_2sls[2] length_inf[2] length_fea[3] ;\n",
    "0.99  length_2sls[3] length_inf[2] length_fea[3] ]\n",
    "\n",
    "pretty_table(table, header)"
   ]
  },
  {
   "cell_type": "markdown",
   "metadata": {},
   "source": [
    "# Results for n=400\n"
   ]
  },
  {
   "cell_type": "code",
   "execution_count": 13,
   "metadata": {},
   "outputs": [],
   "source": [
    "n = 400\n",
    "R = 10^4\n",
    "\n",
    "sig_2sls = zeros(1,3)\n",
    "length_2sls = zeros(1,3)\n",
    "cov_2sls = zeros(1,3)\n",
    "\n",
    "sig_fea = zeros(1,3)\n",
    "length_fea = zeros(1,3)\n",
    "cov_fea = zeros(1,3)\n",
    "\n",
    "sig_inf = zeros(1,3)\n",
    "length_inf = zeros(1,3)\n",
    "cov_inf = zeros(1,3)\n",
    "\n",
    "α = [0.1 0.05 0.01]\n",
    "\n",
    "\n",
    "for r=1:R\n",
    "    Y, X, Z = generate_data(n)\n",
    "    @unpack β2sls, se2sls, βfea, sefea, βinf, seinf = estimators(Y,X,Z)\n",
    "     \n",
    "    upper_2sls = β2sls .- se2sls*quantile.(Normal(), α./2)/sqrt(n)\n",
    "    lower_2sls = β2sls .+ se2sls*quantile.(Normal(), α./2)/sqrt(n)\n",
    "    \n",
    "    upper_inf = βinf .- seinf*quantile.(Normal(), α./2)/sqrt(n)\n",
    "    lower_inf = βinf .+ seinf*quantile.(Normal(), α./2)/sqrt(n)\n",
    "    \n",
    "    upper_fea = βfea .- sefea*quantile.(Normal(), α./2)/sqrt(n)\n",
    "    lower_fea = βfea .+ sefea*quantile.(Normal(), α./2)/sqrt(n)\n",
    "    \n",
    "    sig_2sls .+=  1*(lower_2sls.>0)\n",
    "    sig_inf .+=  1*(lower_inf.>0)\n",
    "    sig_fea .+=  1*(lower_fea.>0)\n",
    " \n",
    "    cov_2sls .+= 1*(upper_2sls.>β).*(lower_2sls.<β)\n",
    "    cov_inf .+= 1*(upper_inf.>β).*(lower_inf.<β)\n",
    "    cov_fea .+= 1*(upper_fea.>β).*(lower_fea.<β)\n",
    " \n",
    "    length_2sls .+= 1*(upper_2sls .- lower_2sls)\n",
    "    length_inf .+= 1*(upper_inf .- lower_inf)\n",
    "    length_fea .+= 1*(upper_fea .- lower_fea)\n",
    "    \n",
    "end"
   ]
  },
  {
   "cell_type": "code",
   "execution_count": 14,
   "metadata": {},
   "outputs": [],
   "source": [
    "sig_2sls = sig_2sls./R\n",
    "length_2sls = length_2sls./R\n",
    "cov_2sls = cov_2sls./R\n",
    "\n",
    "sig_fea = sig_fea./R\n",
    "length_fea = length_fea./R\n",
    "cov_fea = cov_fea./R\n",
    "\n",
    "sig_inf = sig_inf./R\n",
    "length_inf = length_inf./R\n",
    "cov_inf = cov_inf./R ;"
   ]
  },
  {
   "cell_type": "markdown",
   "metadata": {},
   "source": [
    "### Coverage (n=400)"
   ]
  },
  {
   "cell_type": "code",
   "execution_count": 15,
   "metadata": {},
   "outputs": [
    {
     "name": "stdout",
     "output_type": "stream",
     "text": [
      "┌──────┬────────┬──────────────────────┬────────────────────┐\n",
      "│\u001b[1m    α \u001b[0m│\u001b[1m   2SLS \u001b[0m│\u001b[1m Infeasible Efficient \u001b[0m│\u001b[1m Feasible Efficient \u001b[0m│\n",
      "├──────┼────────┼──────────────────────┼────────────────────┤\n",
      "│  0.9 │  0.904 │               0.9008 │             0.8956 │\n",
      "│ 0.95 │ 0.9499 │               0.9517 │             0.9885 │\n",
      "│ 0.99 │ 0.9899 │               0.9517 │             0.9885 │\n",
      "└──────┴────────┴──────────────────────┴────────────────────┘\n"
     ]
    }
   ],
   "source": [
    "header = [\"α\" \"2SLS\"  \"Infeasible Efficient\" \"Feasible Efficient\"]\n",
    "table = [ 0.90  cov_2sls[1] cov_inf[1] cov_fea[1]  ;\n",
    "0.95  cov_2sls[2] cov_inf[2] cov_fea[3] ;\n",
    "0.99  cov_2sls[3] cov_inf[2] cov_fea[3] ]\n",
    "\n",
    "pretty_table(table, header)\n"
   ]
  },
  {
   "cell_type": "markdown",
   "metadata": {},
   "source": [
    "### Prob. of Statistically Significant Results (n=400)"
   ]
  },
  {
   "cell_type": "code",
   "execution_count": 16,
   "metadata": {},
   "outputs": [
    {
     "name": "stdout",
     "output_type": "stream",
     "text": [
      "┌──────┬────────┬──────────────────────┬────────────────────┐\n",
      "│\u001b[1m    α \u001b[0m│\u001b[1m   2SLS \u001b[0m│\u001b[1m Infeasible Efficient \u001b[0m│\u001b[1m Feasible Efficient \u001b[0m│\n",
      "├──────┼────────┼──────────────────────┼────────────────────┤\n",
      "│  0.9 │ 0.9603 │                0.997 │             0.9966 │\n",
      "│ 0.95 │ 0.9228 │               0.9933 │             0.9627 │\n",
      "│ 0.99 │  0.803 │               0.9933 │             0.9627 │\n",
      "└──────┴────────┴──────────────────────┴────────────────────┘\n"
     ]
    }
   ],
   "source": [
    "header = [\"α\" \"2SLS\"  \"Infeasible Efficient\" \"Feasible Efficient\"]\n",
    "table = [ 0.90  sig_2sls[1] sig_inf[1] sig_fea[1]  ;\n",
    "0.95  sig_2sls[2] sig_inf[2] sig_fea[3] ;\n",
    "0.99  sig_2sls[3] sig_inf[2] sig_fea[3] ]\n",
    "\n",
    "pretty_table(table, header)"
   ]
  },
  {
   "cell_type": "markdown",
   "metadata": {},
   "source": [
    "### Average Length of CI (n=400)"
   ]
  },
  {
   "cell_type": "code",
   "execution_count": 17,
   "metadata": {},
   "outputs": [
    {
     "name": "stdout",
     "output_type": "stream",
     "text": [
      "┌──────┬──────────┬──────────────────────┬────────────────────┐\n",
      "│\u001b[1m    α \u001b[0m│\u001b[1m     2SLS \u001b[0m│\u001b[1m Infeasible Efficient \u001b[0m│\u001b[1m Feasible Efficient \u001b[0m│\n",
      "├──────┼──────────┼──────────────────────┼────────────────────┤\n",
      "│  0.9 │ 0.139451 │             0.106327 │           0.105787 │\n",
      "│ 0.95 │ 0.166166 │             0.126696 │           0.165661 │\n",
      "│ 0.99 │ 0.218379 │             0.126696 │           0.165661 │\n",
      "└──────┴──────────┴──────────────────────┴────────────────────┘\n"
     ]
    }
   ],
   "source": [
    "header = [\"α\" \"2SLS\"  \"Infeasible Efficient\" \"Feasible Efficient\"]\n",
    "table = [ 0.90  length_2sls[1] length_inf[1] length_fea[1]  ;\n",
    "0.95  length_2sls[2] length_inf[2] length_fea[3] ;\n",
    "0.99  length_2sls[3] length_inf[2] length_fea[3] ]\n",
    "\n",
    "pretty_table(table, header)"
   ]
  },
  {
   "cell_type": "markdown",
   "metadata": {},
   "source": [
    "While  the  simulated  coverage  probabilities  for  each  of  the  three  methods  are  close  to  the nominal levels of $1−α$,  the two efficient IV methods produce smaller CIs and statistically significant results with higher probability than 2SLS does.The differences between infeasible and feasible efficient IV methods are not substantial.  \n",
    "\n",
    "The CIs constructed with feasible efficient IVs have coverage probabilities very close to nominal,but there is slight under-coverage.  Also,  they are a bit shorter and therefore appear a bit more powerful than the infeasible CIs constructed with the true efficient IVs.  This is because the feasible efficient IVs rely on an asymptotic result (established in Q1) that estimation of efficient IVs does not change the asymptotic distribution.  Asymptotically this is true,  but in  finite  samples  there  will  be  small  discrepancies,  since  we  ignore  the  contribution  of  the estimation of efficient IVs to the variance.\n",
    "\n",
    "Compare the results for $n= 100$ with the ones for $n= 400$:  when $n= 100$, there are some distortions to the coverage probabilities when one uses estimated efficient IVs.  Withn= 400,the distortions are practically gone."
   ]
  }
 ],
 "metadata": {
  "@webio": {
   "lastCommId": null,
   "lastKernelId": null
  },
  "kernelspec": {
   "display_name": "Julia 1.5.3",
   "language": "julia",
   "name": "julia-1.5"
  },
  "language_info": {
   "file_extension": ".jl",
   "mimetype": "application/julia",
   "name": "julia",
   "version": "1.5.3"
  }
 },
 "nbformat": 4,
 "nbformat_minor": 4
}
