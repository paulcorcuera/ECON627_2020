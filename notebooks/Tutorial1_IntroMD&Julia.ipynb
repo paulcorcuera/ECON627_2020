{
 "cells": [
  {
   "cell_type": "markdown",
   "metadata": {},
   "source": [
    "# ECON627: Introduction to Julia & Markdown\n",
    "\n",
    "## Paul Corcuera\n",
    "### Jan 16 , 2020\n",
    "****"
   ]
  },
  {
   "cell_type": "markdown",
   "metadata": {},
   "source": [
    "## 1. Basic Markdown Syntax\n",
    "\n",
    "****"
   ]
  },
  {
   "cell_type": "markdown",
   "metadata": {},
   "source": [
    "- To render a markdown code we need to specify in the following part of the Jupyter notebook \n",
    "\n",
    "![img](https://raw.githubusercontent.com/paulcorcuera/paulcorcuera.github.io/master/md.png) \n",
    "\n",
    "- To write a title we use hastag (#) and a space before writing a title. The number of # you use should correspond to the heading size, which goes from 1 to 6. For instance, we can write Hello with different heading sizes as # Hello; ## Hello; etc. \n",
    "\n",
    "- The corresponding output is"
   ]
  },
  {
   "cell_type": "markdown",
   "metadata": {},
   "source": [
    "# Hello\n",
    "## Hello\n",
    "### Hello\n",
    "etc."
   ]
  },
  {
   "cell_type": "markdown",
   "metadata": {},
   "source": [
    "- To put a line break we only use two or more spaces before hitting the *Enter* button.   \n",
    "\n",
    "- To create a new paragraph we just leave a blank line. \n",
    "\n",
    "- To create a horizontal rule to separate sections you can use three or more asterisks (\\*\\*\\*), dashes (---), or underscores (\\_\\_\\_) on a line by themselves. They all produce the same output.\n",
    "\n",
    "- We can also use HTML syntax to center some text. For instance,"
   ]
  },
  {
   "cell_type": "markdown",
   "metadata": {},
   "source": [
    "    <center>\n",
    "    Hello\n",
    "    </center>"
   ]
  },
  {
   "cell_type": "markdown",
   "metadata": {},
   "source": [
    "    will produce the following output:\n",
    "\n",
    "<center>\n",
    "Hello \n",
    "</center>\n",
    "\n",
    "- To denote a word or phrase as code, enclose it in backticks (\\`). The output looks like this: `GMMreg`.\n",
    "\n",
    "- To write math code we can use the dollar symbol, just as if we were in latex. If we use double dollar symbols we center an equation. The way we write the equations and greek letters works the same way as LaTeX code, i.e., to write $\\beta$ we use backslash and the word beta. \n",
    "\n",
    "$$ y_i =  x_i \\beta + \\epsilon_i $$\n",
    "\n",
    "- To write an indented block of text/code we can use the *TAB* button to indent a part of the text/code. \n"
   ]
  },
  {
   "cell_type": "markdown",
   "metadata": {},
   "source": [
    "    This is like a verbose mode, i.e.\n",
    "    symbols such as < or \\beta will not be \n",
    "    rendered as code."
   ]
  },
  {
   "cell_type": "markdown",
   "metadata": {},
   "source": [
    "- Alternatively, instead of indenting with *TAB* you can use triple backticks (\\`) and write julia, to have an indented block interpreted as julia code. If you write \\`\\`\\`julia and then close with \\`\\`\\` your code shows up like this."
   ]
  },
  {
   "cell_type": "markdown",
   "metadata": {},
   "source": [
    "```julia\n",
    "AKMreg(df::DataFrame, y::String, idvar::String, firmidvar::String)\n",
    "```"
   ]
  },
  {
   "cell_type": "markdown",
   "metadata": {},
   "source": [
    "  this is super useful if you want to explain what your function does!\n",
    "   \n",
    "- To display literal characters, like \\`, you need to add a backslash (\\\\) before the symbol.\n",
    "\n",
    "- This should be more than enough to be able to type the solutions to the problem sets in a Jupyter Notebook. You can explore more stuff by following [this link](https://www.markdownguide.org/basic-syntax/). \n",
    "\n",
    "- To export the notebook you can find the option *Export Notebook As* in the *File tab*, and you choose the option that says HTML. "
   ]
  },
  {
   "cell_type": "markdown",
   "metadata": {},
   "source": [
    "## 2. Julia Essentials\n",
    "\n",
    "****"
   ]
  },
  {
   "cell_type": "markdown",
   "metadata": {},
   "source": [
    "Julia has many of the standard primitive types. "
   ]
  },
  {
   "cell_type": "code",
   "execution_count": 1,
   "metadata": {},
   "outputs": [
    {
     "data": {
      "text/plain": [
       "(\"hello\", 3.5)"
      ]
     },
     "execution_count": 1,
     "metadata": {},
     "output_type": "execute_result"
    }
   ],
   "source": [
    "x = 1 #Int\n",
    "y = 1.0 #Float\n",
    "boolean = true\n",
    "array = [1;2]\n",
    "matrix = [1 2 3 ; 4 5 6]\n",
    "tuple = (\"hello\", 3.5)"
   ]
  },
  {
   "cell_type": "markdown",
   "metadata": {},
   "source": [
    "We can look at the type using the `typeof` function. "
   ]
  },
  {
   "cell_type": "code",
   "execution_count": 2,
   "metadata": {},
   "outputs": [
    {
     "data": {
      "text/plain": [
       "Array{Int64,1}"
      ]
     },
     "execution_count": 2,
     "metadata": {},
     "output_type": "execute_result"
    }
   ],
   "source": [
    "typeof(array)"
   ]
  },
  {
   "cell_type": "markdown",
   "metadata": {},
   "source": [
    "To supress output we can put a `;` after a line of code. "
   ]
  },
  {
   "cell_type": "code",
   "execution_count": 3,
   "metadata": {},
   "outputs": [],
   "source": [
    "x = 3.5; "
   ]
  },
  {
   "cell_type": "markdown",
   "metadata": {},
   "source": [
    "If we want to show different lines of code we can use the macro `@show`."
   ]
  },
  {
   "cell_type": "code",
   "execution_count": 4,
   "metadata": {},
   "outputs": [
    {
     "name": "stdout",
     "output_type": "stream",
     "text": [
      "x + y = 4.5\n",
      "matrix * matrix' = [14 32; 32 77]\n"
     ]
    },
    {
     "data": {
      "text/plain": [
       "2×2 Array{Int64,2}:\n",
       " 14  32\n",
       " 32  77"
      ]
     },
     "execution_count": 4,
     "metadata": {},
     "output_type": "execute_result"
    }
   ],
   "source": [
    "@show x + y \n",
    "@show matrix*matrix'"
   ]
  },
  {
   "cell_type": "markdown",
   "metadata": {},
   "source": [
    "We can also use the `println()` function to print output."
   ]
  },
  {
   "cell_type": "code",
   "execution_count": 5,
   "metadata": {},
   "outputs": [
    {
     "name": "stdout",
     "output_type": "stream",
     "text": [
      "The value of x is 3.5\n",
      "The value of y is 1.0\n"
     ]
    }
   ],
   "source": [
    "println(\"The value of x is \", x)\n",
    "println(\"The value of y is \", y)"
   ]
  },
  {
   "cell_type": "code",
   "execution_count": 6,
   "metadata": {},
   "outputs": [
    {
     "name": "stdout",
     "output_type": "stream",
     "text": [
      "We can also print in multiple\n",
      "lines of code.\n"
     ]
    }
   ],
   "source": [
    "println(\"We can also print in multiple\\nlines of code.\")"
   ]
  },
  {
   "cell_type": "markdown",
   "metadata": {},
   "source": [
    "#### Iterables"
   ]
  },
  {
   "cell_type": "code",
   "execution_count": 7,
   "metadata": {},
   "outputs": [
    {
     "name": "stdout",
     "output_type": "stream",
     "text": [
      "3\n",
      "4\n",
      "5\n"
     ]
    }
   ],
   "source": [
    "β = [3;4;5]\n",
    "for i in β\n",
    "   println(i)     \n",
    "end"
   ]
  },
  {
   "cell_type": "code",
   "execution_count": 8,
   "metadata": {},
   "outputs": [
    {
     "data": {
      "text/plain": [
       "UnitRange{Int64}"
      ]
     },
     "execution_count": 8,
     "metadata": {},
     "output_type": "execute_result"
    }
   ],
   "source": [
    "range_obj = 1:3\n",
    "array_obj = collect(range_obj)\n",
    "typeof(range_obj)"
   ]
  },
  {
   "cell_type": "markdown",
   "metadata": {},
   "source": [
    "We can also loop over Range objects."
   ]
  },
  {
   "cell_type": "code",
   "execution_count": 9,
   "metadata": {},
   "outputs": [
    {
     "name": "stdout",
     "output_type": "stream",
     "text": [
      "1\n",
      "2\n",
      "3\n"
     ]
    }
   ],
   "source": [
    "for i in range_obj\n",
    "    println(i)\n",
    "end"
   ]
  },
  {
   "cell_type": "code",
   "execution_count": 10,
   "metadata": {},
   "outputs": [
    {
     "name": "stdout",
     "output_type": "stream",
     "text": [
      "Element 1 of array is: 1\n",
      "Element 2 of array is: 2\n",
      "Element 3 of array is: 3\n"
     ]
    }
   ],
   "source": [
    "for i in eachindex(array_obj)\n",
    "    println(\"Element \",i,\" of array is: \", array_obj[i])\n",
    "end"
   ]
  },
  {
   "cell_type": "markdown",
   "metadata": {},
   "source": [
    "#### Indexing\n",
    "\n",
    "It works pretty much the same way as Matlab."
   ]
  },
  {
   "cell_type": "code",
   "execution_count": 11,
   "metadata": {},
   "outputs": [
    {
     "name": "stdout",
     "output_type": "stream",
     "text": [
      "The last element is 5\n",
      "The second element is 2\n"
     ]
    }
   ],
   "source": [
    "array = [1; 2; 4 ; 5]\n",
    "println(\"The last element is \", array[end])\n",
    "println(\"The second element is \", array[2])"
   ]
  },
  {
   "cell_type": "code",
   "execution_count": 12,
   "metadata": {},
   "outputs": [
    {
     "name": "stdout",
     "output_type": "stream",
     "text": [
      "Element (1,1) is: 1\n",
      "Element (1,2) is: 2\n",
      "Element (1,3) is: 3\n",
      "Element (2,1) is: 4\n",
      "Element (2,2) is: 5\n",
      "Element (2,3) is: 6\n"
     ]
    }
   ],
   "source": [
    "matrix = [1 2 3 ;4 5 6]\n",
    "\n",
    "for row in 1:size(matrix,1)\n",
    "    for col in 1:size(matrix,2)\n",
    "        println(\"Element ($row,$col) is: \",matrix[row,col])\n",
    "    end\n",
    "end"
   ]
  },
  {
   "cell_type": "markdown",
   "metadata": {},
   "source": [
    "#### Comprehensions\n",
    "\n",
    "These are easy ways to create arrays without writing many lines of code."
   ]
  },
  {
   "cell_type": "code",
   "execution_count": 13,
   "metadata": {},
   "outputs": [
    {
     "data": {
      "text/plain": [
       "3-element Array{Int64,1}:\n",
       " 45\n",
       " 30\n",
       " 92"
      ]
     },
     "execution_count": 13,
     "metadata": {},
     "output_type": "execute_result"
    }
   ],
   "source": [
    "array = [45; 32 ; 30 ; 85 ; 92]\n",
    "\n",
    "#These are the indices that we want to use of the array\n",
    "selection = [1;3;5]\n",
    "\n",
    "array_subset = [ array[i] for i in selection]"
   ]
  },
  {
   "cell_type": "code",
   "execution_count": 14,
   "metadata": {},
   "outputs": [
    {
     "data": {
      "text/plain": [
       "3-element Array{Int64,1}:\n",
       " 45\n",
       " 85\n",
       " 92"
      ]
     },
     "execution_count": 14,
     "metadata": {},
     "output_type": "execute_result"
    }
   ],
   "source": [
    "#Returns the indices that satisfy the condition\n",
    "selection = findall(x-> x>=35, array)\n",
    "\n",
    "array_subset2 = [array[x] for x in selection]"
   ]
  },
  {
   "cell_type": "code",
   "execution_count": 15,
   "metadata": {},
   "outputs": [
    {
     "data": {
      "text/plain": [
       "3-element Array{Int64,1}:\n",
       " 2\n",
       " 4\n",
       " 6"
      ]
     },
     "execution_count": 15,
     "metadata": {},
     "output_type": "execute_result"
    }
   ],
   "source": [
    "doubles = [2*i for i in 1:3]"
   ]
  },
  {
   "cell_type": "code",
   "execution_count": 16,
   "metadata": {},
   "outputs": [
    {
     "data": {
      "text/plain": [
       "3×2 Array{Int64,2}:\n",
       " 2  3\n",
       " 3  4\n",
       " 4  5"
      ]
     },
     "execution_count": 16,
     "metadata": {},
     "output_type": "execute_result"
    }
   ],
   "source": [
    "matrix_comprehension = [ i+j for i in 1:3, j in 1:2 ]"
   ]
  },
  {
   "cell_type": "markdown",
   "metadata": {},
   "source": [
    "Just as in Matlab we also have the functions `zeros()` and `ones()`."
   ]
  },
  {
   "cell_type": "code",
   "execution_count": 17,
   "metadata": {},
   "outputs": [
    {
     "data": {
      "text/plain": [
       "3-element Array{Float64,1}:\n",
       " 0.0\n",
       " 0.0\n",
       " 0.0"
      ]
     },
     "execution_count": 17,
     "metadata": {},
     "output_type": "execute_result"
    }
   ],
   "source": [
    "zeros(3)"
   ]
  },
  {
   "cell_type": "code",
   "execution_count": 18,
   "metadata": {},
   "outputs": [
    {
     "data": {
      "text/plain": [
       "3-element Array{Int64,1}:\n",
       " 0\n",
       " 0\n",
       " 0"
      ]
     },
     "execution_count": 18,
     "metadata": {},
     "output_type": "execute_result"
    }
   ],
   "source": [
    "zeros(Int64,3)"
   ]
  },
  {
   "cell_type": "code",
   "execution_count": 19,
   "metadata": {},
   "outputs": [
    {
     "data": {
      "text/plain": [
       "5-element Array{Float64,1}:\n",
       " 1.0\n",
       " 1.0\n",
       " 1.0\n",
       " 1.0\n",
       " 1.0"
      ]
     },
     "execution_count": 19,
     "metadata": {},
     "output_type": "execute_result"
    }
   ],
   "source": [
    "ones(5)"
   ]
  },
  {
   "cell_type": "markdown",
   "metadata": {},
   "source": [
    "#### Logical Operations"
   ]
  },
  {
   "cell_type": "code",
   "execution_count": 20,
   "metadata": {},
   "outputs": [
    {
     "data": {
      "text/plain": [
       "1"
      ]
     },
     "execution_count": 20,
     "metadata": {},
     "output_type": "execute_result"
    }
   ],
   "source": [
    "#This creates a global variable called x\n",
    "x = 1 "
   ]
  },
  {
   "cell_type": "code",
   "execution_count": 21,
   "metadata": {},
   "outputs": [
    {
     "data": {
      "text/plain": [
       "false"
      ]
     },
     "execution_count": 21,
     "metadata": {},
     "output_type": "execute_result"
    }
   ],
   "source": [
    "#We can test if this is equal to a value\n",
    "x == 2"
   ]
  },
  {
   "cell_type": "code",
   "execution_count": 22,
   "metadata": {},
   "outputs": [
    {
     "data": {
      "text/plain": [
       "true"
      ]
     },
     "execution_count": 22,
     "metadata": {},
     "output_type": "execute_result"
    }
   ],
   "source": [
    "x != 2"
   ]
  },
  {
   "cell_type": "code",
   "execution_count": 23,
   "metadata": {},
   "outputs": [
    {
     "data": {
      "text/plain": [
       "false"
      ]
     },
     "execution_count": 23,
     "metadata": {},
     "output_type": "execute_result"
    }
   ],
   "source": [
    "true && false"
   ]
  },
  {
   "cell_type": "code",
   "execution_count": 24,
   "metadata": {},
   "outputs": [
    {
     "data": {
      "text/plain": [
       "true"
      ]
     },
     "execution_count": 24,
     "metadata": {},
     "output_type": "execute_result"
    }
   ],
   "source": [
    "true || false"
   ]
  },
  {
   "cell_type": "markdown",
   "metadata": {},
   "source": [
    "#### Functions in Julia\n",
    "\n",
    "We can also perform something similar to the lambda functions in Matlab, and it's pretty straightforward."
   ]
  },
  {
   "cell_type": "code",
   "execution_count": 25,
   "metadata": {},
   "outputs": [
    {
     "data": {
      "text/plain": [
       "func (generic function with 1 method)"
      ]
     },
     "execution_count": 25,
     "metadata": {},
     "output_type": "execute_result"
    }
   ],
   "source": [
    "func(x) = x^2"
   ]
  },
  {
   "cell_type": "code",
   "execution_count": 26,
   "metadata": {},
   "outputs": [
    {
     "data": {
      "text/plain": [
       "0.010000000000000002"
      ]
     },
     "execution_count": 26,
     "metadata": {},
     "output_type": "execute_result"
    }
   ],
   "source": [
    "func(0.1)"
   ]
  },
  {
   "cell_type": "markdown",
   "metadata": {},
   "source": [
    "Alternatively, if the function is more complex, we can use the usual (and more verbose) way of defining functions."
   ]
  },
  {
   "cell_type": "code",
   "execution_count": 27,
   "metadata": {},
   "outputs": [
    {
     "data": {
      "text/plain": [
       "function2 (generic function with 1 method)"
      ]
     },
     "execution_count": 27,
     "metadata": {},
     "output_type": "execute_result"
    }
   ],
   "source": [
    "function function2(x,y)\n",
    "    return x+y\n",
    "end"
   ]
  },
  {
   "cell_type": "code",
   "execution_count": 28,
   "metadata": {},
   "outputs": [
    {
     "data": {
      "text/plain": [
       "4"
      ]
     },
     "execution_count": 28,
     "metadata": {},
     "output_type": "execute_result"
    }
   ],
   "source": [
    "function2(1,3)"
   ]
  },
  {
   "cell_type": "markdown",
   "metadata": {},
   "source": [
    "We can also broadcast a function to arrays, just like in Matlab, using a dot (.)."
   ]
  },
  {
   "cell_type": "code",
   "execution_count": 29,
   "metadata": {},
   "outputs": [
    {
     "data": {
      "text/plain": [
       "3-element Array{Int64,1}:\n",
       " 1\n",
       " 4\n",
       " 9"
      ]
     },
     "execution_count": 29,
     "metadata": {},
     "output_type": "execute_result"
    }
   ],
   "source": [
    "array = [1; 2 ; 3]\n",
    "func.(array)"
   ]
  },
  {
   "cell_type": "markdown",
   "metadata": {},
   "source": [
    "#### Scoping & Closures\n",
    "\n",
    "In general, sometimes we want to create an entire .jl file that contains functions to export (modules). In those cases, we have to be careful between the distinction of global vs local variables (scoping), and functions inside a functions become what is called a closure."
   ]
  },
  {
   "cell_type": "code",
   "execution_count": 30,
   "metadata": {},
   "outputs": [
    {
     "data": {
      "text/plain": [
       "0.05"
      ]
     },
     "execution_count": 30,
     "metadata": {},
     "output_type": "execute_result"
    }
   ],
   "source": [
    "x = 0.1 #This is global\n",
    "f(x) = x/2 #This x is local!\n",
    "\n",
    "f(x) #Calls the function with the argument given by the global variable."
   ]
  },
  {
   "cell_type": "code",
   "execution_count": 31,
   "metadata": {},
   "outputs": [
    {
     "data": {
      "text/plain": [
       "2.5"
      ]
     },
     "execution_count": 31,
     "metadata": {},
     "output_type": "execute_result"
    }
   ],
   "source": [
    "function h() # scope within the `h` function\n",
    "\n",
    "    square(x) = x^2 # local `x` in scope\n",
    "\n",
    "    # x is not bound to anything in this outer scope\n",
    "    y = 5\n",
    "    f(y) #By default Julia returns the last line inside the function\n",
    "    #It is equivalent to writing return f(y)\n",
    "end\n",
    "h() "
   ]
  },
  {
   "cell_type": "code",
   "execution_count": 32,
   "metadata": {},
   "outputs": [
    {
     "data": {
      "text/plain": [
       "0.5"
      ]
     },
     "execution_count": 32,
     "metadata": {},
     "output_type": "execute_result"
    }
   ],
   "source": [
    "function scalesquare(a)\n",
    "    f(x) = a * x^2  # refers to the `a` passed in the function (closure!)\n",
    "    return f(1)        \n",
    "end\n",
    "scalesquare(0.5)"
   ]
  },
  {
   "cell_type": "markdown",
   "metadata": {},
   "source": [
    "#### Return Named Tuples in a Function\n",
    "\n",
    "Sometimes we want to return many things from our function, and it is useful to name the different elements of the output so we can call them whenever we want."
   ]
  },
  {
   "cell_type": "code",
   "execution_count": 33,
   "metadata": {},
   "outputs": [
    {
     "data": {
      "text/plain": [
       "(sum = 7, dif = -3, prod = 10)"
      ]
     },
     "execution_count": 33,
     "metadata": {},
     "output_type": "execute_result"
    }
   ],
   "source": [
    "function example(x,y)\n",
    "    a = x+y\n",
    "    b = x-y\n",
    "    c = x*y\n",
    "    return (sum = a, dif = b, prod = c)\n",
    "end\n",
    "\n",
    "output = example(2,5)"
   ]
  },
  {
   "cell_type": "code",
   "execution_count": 34,
   "metadata": {},
   "outputs": [
    {
     "name": "stdout",
     "output_type": "stream",
     "text": [
      "The sum is :7. The dif is: -3.\n"
     ]
    }
   ],
   "source": [
    "println(\"The sum is :\",output.sum,\". The dif is: \",output.dif,\".\")"
   ]
  },
  {
   "cell_type": "code",
   "execution_count": 35,
   "metadata": {},
   "outputs": [
    {
     "name": "stdout",
     "output_type": "stream",
     "text": [
      "The sum is :7. The dif is: -3.\n"
     ]
    }
   ],
   "source": [
    "#It is equivalent to indexing, but if we index we need to know the position of the things we want!\n",
    "println(\"The sum is :\",output[1],\". The dif is: \",output[2],\".\")"
   ]
  },
  {
   "cell_type": "markdown",
   "metadata": {},
   "source": [
    "#### Optional Arguments\n",
    "\n",
    "We include optional arguments in a function with the semi-colon (;). We must also set a default value for those arguments."
   ]
  },
  {
   "cell_type": "code",
   "execution_count": 36,
   "metadata": {},
   "outputs": [
    {
     "data": {
      "text/plain": [
       "example2 (generic function with 1 method)"
      ]
     },
     "execution_count": 36,
     "metadata": {},
     "output_type": "execute_result"
    }
   ],
   "source": [
    "function example2(x ; y = 2)\n",
    "    a = x+y\n",
    "    b = x-y\n",
    "    c = x*y\n",
    "    return (sum = a, dif = b, prod = c)\n",
    "end"
   ]
  },
  {
   "cell_type": "code",
   "execution_count": 37,
   "metadata": {},
   "outputs": [
    {
     "data": {
      "text/plain": [
       "(sum = 3, dif = -1, prod = 2)"
      ]
     },
     "execution_count": 37,
     "metadata": {},
     "output_type": "execute_result"
    }
   ],
   "source": [
    "example2(1)"
   ]
  },
  {
   "cell_type": "code",
   "execution_count": 38,
   "metadata": {},
   "outputs": [
    {
     "data": {
      "text/plain": [
       "(sum = 6, dif = -4, prod = 5)"
      ]
     },
     "execution_count": 38,
     "metadata": {},
     "output_type": "execute_result"
    }
   ],
   "source": [
    "example2(1, y = 5)"
   ]
  },
  {
   "cell_type": "markdown",
   "metadata": {},
   "source": [
    "#### Multiple Dispatch\n",
    "\n",
    "One of the benefits of Julia is what is called multiple dispatch. Julia allows us to create different **methods** of the same function that work differently depending on the type of the arguments. For instance, if we are running OLS and we know that the design matrix (X) is very sparse we can leverage on this to construct a more efficient way to compute the vector of coefficients."
   ]
  },
  {
   "cell_type": "code",
   "execution_count": 39,
   "metadata": {},
   "outputs": [
    {
     "data": {
      "text/html": [
       "2 methods for generic function <b>somefunc</b>:<ul><li> somefunc(x::<b>AbstractArray</b>) in Main at In[39]:2</li> <li> somefunc(x::<b>Real</b>) in Main at In[39]:7</li> </ul>"
      ],
      "text/plain": [
       "# 2 methods for generic function \"somefunc\":\n",
       "[1] somefunc(x::AbstractArray) in Main at In[39]:2\n",
       "[2] somefunc(x::Real) in Main at In[39]:7"
      ]
     },
     "execution_count": 39,
     "metadata": {},
     "output_type": "execute_result"
    }
   ],
   "source": [
    "function somefunc(x::AbstractArray)\n",
    "    return sum(x)\n",
    "end\n",
    "\n",
    "\n",
    "function somefunc(x::Real)\n",
    "    return x \n",
    "end\n",
    "\n",
    "methods(somefunc)"
   ]
  },
  {
   "cell_type": "code",
   "execution_count": 40,
   "metadata": {},
   "outputs": [
    {
     "name": "stdout",
     "output_type": "stream",
     "text": [
      "6\n",
      "6\n"
     ]
    }
   ],
   "source": [
    "#This calls the method that works on Range types\n",
    "println(sum(1:3))\n",
    "#This calls the method that works for Array types\n",
    "println(sum([1;2;3]))"
   ]
  },
  {
   "cell_type": "markdown",
   "metadata": {},
   "source": [
    "#### Installing Packages\n",
    "\n",
    "You can install packages from the terminal that is being run in the Jupyter Notebook by calling the Pkg package.  Alternatively, you can open the Julia REPL (.exe file installed in your computer) and type ] to enter in the Pkg mode, then just type add **PackageName** ."
   ]
  },
  {
   "cell_type": "code",
   "execution_count": 41,
   "metadata": {},
   "outputs": [
    {
     "name": "stdout",
     "output_type": "stream",
     "text": [
      "\u001b[32m\u001b[1m  Updating\u001b[22m\u001b[39m registry at `C:\\Users\\paulc\\.julia\\registries\\General`\n",
      "\u001b[32m\u001b[1m  Updating\u001b[22m\u001b[39m git-repo `https://github.com/JuliaRegistries/General.git`\n",
      "\u001b[2K\u001b[?25h\u001b[32m\u001b[1m Resolving\u001b[22m\u001b[39m package versions...\n",
      "\u001b[32m\u001b[1m  Updating\u001b[22m\u001b[39m `C:\\Users\\paulc\\.julia\\environments\\v1.0\\Project.toml`\n",
      "\u001b[90m [no changes]\u001b[39m\n",
      "\u001b[32m\u001b[1m  Updating\u001b[22m\u001b[39m `C:\\Users\\paulc\\.julia\\environments\\v1.0\\Manifest.toml`\n",
      "\u001b[90m [no changes]\u001b[39m\n"
     ]
    }
   ],
   "source": [
    "using Pkg\n",
    "Pkg.add(\"Statistics\")\n",
    "#Pkg.add(\"Distributions\")\n",
    "#Pkg.add(\"LinearAlgebra\")"
   ]
  },
  {
   "cell_type": "markdown",
   "metadata": {},
   "source": [
    "## 3. Putting Everything Together\n",
    "\n",
    "****"
   ]
  },
  {
   "cell_type": "code",
   "execution_count": 42,
   "metadata": {},
   "outputs": [],
   "source": [
    "using LinearAlgebra, Random, Distributions"
   ]
  },
  {
   "cell_type": "code",
   "execution_count": 43,
   "metadata": {},
   "outputs": [],
   "source": [
    "#Set the seed (Important for replicating your code!)\n",
    "rng = MersenneTwister(1234);"
   ]
  },
  {
   "cell_type": "code",
   "execution_count": 44,
   "metadata": {},
   "outputs": [
    {
     "data": {
      "text/plain": [
       "simulatedata (generic function with 1 method)"
      ]
     },
     "execution_count": 44,
     "metadata": {},
     "output_type": "execute_result"
    }
   ],
   "source": [
    "function simulatedata(n; β = [1.0; 1.0] , ρ = 0.5)\n",
    "    \"\"\"\n",
    "    n:= sample size\n",
    "    β:= true beta\n",
    "    ρ:= correlation coefficient\n",
    "    \"\"\"\n",
    "\n",
    "    #This will capture the correlation between X and the error term (endogeneity)\n",
    "    mnd = MvNormal([0.0; 0.0], [1 ρ; ρ 1]);\n",
    "    \n",
    "    #Vector of IVs\n",
    "    z = rand(n, 1);\n",
    "    \n",
    "    #Matrix of Errors, it's 2xn so we transpose it with '\n",
    "    e = rand(mnd, n)';\n",
    "    \n",
    "    #Creating the X, Y vectors\n",
    "    x = z .+ e[:, 1];\n",
    "    y = β[1] .+ x * β[2...] .+ e[:, 2];   \n",
    "    \n",
    "    #We want to use X including the constant as the design matrix\n",
    "    x = [ones(n) x];\n",
    "    \n",
    "    #We must do the same for Z\n",
    "    z = [ones(n) z]\n",
    "    \n",
    "    #Return the simulated data\n",
    "    return (x = x , z = z, y = y)\n",
    "end   "
   ]
  },
  {
   "cell_type": "code",
   "execution_count": 45,
   "metadata": {},
   "outputs": [
    {
     "data": {
      "text/plain": [
       "ols (generic function with 1 method)"
      ]
     },
     "execution_count": 45,
     "metadata": {},
     "output_type": "execute_result"
    }
   ],
   "source": [
    "function ols(x,y; stderrors = true)\n",
    "   #Extract sample size\n",
    "   n = size(x, 1)\n",
    " \n",
    "    #Check if there's some problem with the data\n",
    "    if n != size(y,1)\n",
    "        error(\"Incompatible data.\") \n",
    "    end\n",
    "\n",
    "    #Recall that the normal eq is xx * bhat = xy\n",
    "    xx = x'*x;\n",
    "    xy = x'*y;\n",
    "    \n",
    "    #Compute the coefficient vector\n",
    "    βhat = xx\\xy\n",
    "    \n",
    "    if stderrors == true\n",
    "        # Get residuals\n",
    "        res = y - x * βhat;\n",
    "        avar = (res' * res) ./ xx ;\n",
    "        se = sqrt.(diag(avar))/sqrt(n);\n",
    "    else\n",
    "        se = nothing\n",
    "    end\n",
    "    \n",
    "    return (coef = βhat, se = se)\n",
    "end"
   ]
  },
  {
   "cell_type": "code",
   "execution_count": 46,
   "metadata": {},
   "outputs": [
    {
     "data": {
      "text/plain": [
       "iv (generic function with 1 method)"
      ]
     },
     "execution_count": 46,
     "metadata": {},
     "output_type": "execute_result"
    }
   ],
   "source": [
    "function iv(x,y,z; stderrors = true)\n",
    "   #Extract sample size\n",
    "   n = size(x, 1)\n",
    " \n",
    "    #Check if there's some problem with the data\n",
    "    if n != size(y,1)\n",
    "        error(\"Incompatible data.\") \n",
    "    end\n",
    "\n",
    "    #Recall that the normal eq is zx * bhat = zy\n",
    "    zx = z'*x;\n",
    "    zy = z'*y;\n",
    "    \n",
    "    #Compute the coefficient vector\n",
    "    βhat = zx\\zy\n",
    "    \n",
    "    if stderrors == true\n",
    "        # Get residuals\n",
    "        res = y .- x * βhat;\n",
    "        avar = (res' * res) .* (zx \\ (z' * z) / zx') ;\n",
    "        se = sqrt.(diag(avar))/sqrt(n);\n",
    "    else\n",
    "        se = nothing\n",
    "    end\n",
    "    \n",
    "    return (coef = βhat, se = se)\n",
    "end"
   ]
  },
  {
   "cell_type": "code",
   "execution_count": 47,
   "metadata": {},
   "outputs": [
    {
     "data": {
      "text/plain": [
       "normal_ci (generic function with 1 method)"
      ]
     },
     "execution_count": 47,
     "metadata": {},
     "output_type": "execute_result"
    }
   ],
   "source": [
    "#Confidence Interval Function\n",
    "function normal_ci(b::AbstractVector, se::AbstractVector; α::Real = 0.05)\n",
    "\n",
    "    if α <= 0 || α >= 0.5\n",
    "        error(\"Invalid α parameter\")\n",
    "    end\n",
    "\n",
    "    lower = quantile(Normal(), α / 2) .* se .+ b;\n",
    "    upper = quantile(Normal(), 1 - α / 2) .* se .+ b\n",
    "    \n",
    "    return (lower = lower , upper = upper)\n",
    "end"
   ]
  },
  {
   "cell_type": "code",
   "execution_count": 48,
   "metadata": {},
   "outputs": [
    {
     "data": {
      "text/plain": [
       "montecarlo (generic function with 1 method)"
      ]
     },
     "execution_count": 48,
     "metadata": {},
     "output_type": "execute_result"
    }
   ],
   "source": [
    "function montecarlo(reps::Real , sample_size ::Real)\n",
    "    \n",
    "    #Create Matrix to store results\n",
    "    coefs = zeros(reps,2)\n",
    "    \n",
    "    #We will store coverage results for OLS and IV in cols 1 and 2\n",
    "    coverage = zeros(reps,2)\n",
    "\n",
    "    for i=1:reps\n",
    "    \n",
    "        #Simulating Data\n",
    "        X,Z,Y = simulatedata(sample_size);\n",
    "        \n",
    "        #Computing coefficients\n",
    "        βols, se_ols = ols(X,Y);\n",
    "        βiv, se_iv = iv(X,Y,Z)\n",
    "        \n",
    "        #Computing Confidence Intervals\n",
    "        lower_ols , upper_ols = normal_ci(βols[:],se_ols)\n",
    "        lower_iv , upper_iv = normal_ci(βiv[:],se_iv)\n",
    "        \n",
    "        #Coverage Results\n",
    "        trueparam = [1.0; 1.0]; \n",
    "        cov_ols = upper_ols[2] > trueparam[2] && lower_ols[2] < trueparam[2] ? 1.0 : 0.0\n",
    "        cov_iv = upper_iv[2] > trueparam[2] && lower_iv[2] < trueparam[2] ? 1.0 : 0.0\n",
    "        \n",
    "        #Put results in Matrices of results\n",
    "        coefs[i,:] = [ βols[2] ; βiv[2] ] ;\n",
    "        coverage[i,:] = [cov_ols ; cov_iv ] ;\n",
    "        \n",
    "    end\n",
    "    return (coefs = coefs, coverage = mean(coverage,dims=1))\n",
    "end"
   ]
  },
  {
   "cell_type": "code",
   "execution_count": 49,
   "metadata": {},
   "outputs": [
    {
     "name": "stdout",
     "output_type": "stream",
     "text": [
      "The asymptotic coverage of the inconsistent estimator (OLS) is :0.0\n",
      "The asymptotic coverage of the consistent estimator (IV) is :0.9484\n"
     ]
    }
   ],
   "source": [
    "coeficients, coverages = montecarlo(10000,1000)\n",
    "\n",
    "println(\"The asymptotic coverage of the inconsistent estimator (OLS) is :\", coverages[1])\n",
    "println(\"The asymptotic coverage of the consistent estimator (IV) is :\", coverages[2])"
   ]
  },
  {
   "cell_type": "markdown",
   "metadata": {},
   "source": [
    "We observe that the inconsistent estimator (OLS) has no coverage, which makes sense since it's not even a consistent estimator. On the other side, the consistent estimator (IV) of $\\beta$ does give an asymptotic coverage close to $1-\\alpha = 0.95$. My advice on this part is to always be careful with the $n$ in the variance computation because it can cause a lot of frustration when our coverage computations look weird."
   ]
  },
  {
   "cell_type": "code",
   "execution_count": 81,
   "metadata": {},
   "outputs": [],
   "source": [
    "using Plots"
   ]
  },
  {
   "cell_type": "code",
   "execution_count": 87,
   "metadata": {},
   "outputs": [
    {
     "data": {
      "image/png": "[encoded data removed]"
     },
     "execution_count": 87,
     "metadata": {},
     "output_type": "execute_result"
    }
   ],
   "source": [
    "histogram( [coeficients[:,1] coeficients[:,2]], label=[\"OLS estimator\" \"IV estimator\"],\n",
    "    size = (500, 300), fmt = :png, legend=:topleft)"
   ]
  },
  {
   "cell_type": "markdown",
   "metadata": {},
   "source": [
    "## 4. Stepping Up Our Game\n",
    "\n",
    "****\n",
    "It is always good to know about creating and using custom Types. This is something that you will usually encounter when cloning repositories from GitHub. For example, you can look at [this code](https://github.com/matthieugomez/FixedEffectModels.jl/blob/master/src/FixedEffectModel.jl) from the `FixedEffectModels.jl` package written by Matthieu Gomez. "
   ]
  },
  {
   "cell_type": "code",
   "execution_count": 53,
   "metadata": {},
   "outputs": [],
   "source": [
    "#Pkg.add(\"Parameters\")\n",
    "using Parameters"
   ]
  },
  {
   "cell_type": "markdown",
   "metadata": {},
   "source": [
    "We can use the `@enum` macro to define a type that takes some values that can be enumerated. These keywords will then be recognized as the type that you defined, with the corresponding enumeration value."
   ]
  },
  {
   "cell_type": "code",
   "execution_count": 54,
   "metadata": {},
   "outputs": [],
   "source": [
    "@enum VarianceType Default=1 White=2"
   ]
  },
  {
   "cell_type": "code",
   "execution_count": 55,
   "metadata": {},
   "outputs": [
    {
     "data": {
      "text/plain": [
       "White::VarianceType = 2"
      ]
     },
     "execution_count": 55,
     "metadata": {},
     "output_type": "execute_result"
    }
   ],
   "source": [
    "White"
   ]
  },
  {
   "cell_type": "code",
   "execution_count": 56,
   "metadata": {},
   "outputs": [
    {
     "data": {
      "text/plain": [
       "false"
      ]
     },
     "execution_count": 56,
     "metadata": {},
     "output_type": "execute_result"
    }
   ],
   "source": [
    "#It doesn't mean that it is interpreted as a number. Be careful with that!\n",
    "White == 2 "
   ]
  },
  {
   "cell_type": "markdown",
   "metadata": {},
   "source": [
    "The `@with_kw` macro allows us to set default values in the attributes of some type structure that we want to create. It is super useful. We can use the command `struct` to construct such types. "
   ]
  },
  {
   "cell_type": "code",
   "execution_count": 57,
   "metadata": {},
   "outputs": [],
   "source": [
    "struct Foo\n",
    "   bar::String\n",
    "   baz::Int\n",
    "   qux::Float64\n",
    "end"
   ]
  },
  {
   "cell_type": "code",
   "execution_count": 58,
   "metadata": {},
   "outputs": [
    {
     "data": {
      "text/plain": [
       "Foo(\"Hello!\", 1, 1.5)"
      ]
     },
     "execution_count": 58,
     "metadata": {},
     "output_type": "execute_result"
    }
   ],
   "source": [
    "#Applying a type as a function is called a constructor, btw!\n",
    "a = Foo(\"Hello!\",1,1.5)"
   ]
  },
  {
   "cell_type": "code",
   "execution_count": 59,
   "metadata": {},
   "outputs": [
    {
     "name": "stdout",
     "output_type": "stream",
     "text": [
      "Foo\n",
      "String\n",
      "Int64\n",
      "Float64\n"
     ]
    }
   ],
   "source": [
    "println(typeof(a))\n",
    "println(typeof(a.bar))\n",
    "println(typeof(a.baz))\n",
    "println(typeof(a.qux))"
   ]
  },
  {
   "cell_type": "markdown",
   "metadata": {},
   "source": [
    "Notice that we can't modify the attributes of this structure we have created. "
   ]
  },
  {
   "cell_type": "code",
   "execution_count": 60,
   "metadata": {},
   "outputs": [
    {
     "ename": "ErrorException",
     "evalue": "type Foo is immutable",
     "output_type": "error",
     "traceback": [
      "type Foo is immutable",
      "",
      "Stacktrace:",
      " [1] setproperty!(::Foo, ::Symbol, ::String) at .\\sysimg.jl:19",
      " [2] top-level scope at In[60]:1"
     ]
    }
   ],
   "source": [
    "a.bar = \"Bla\""
   ]
  },
  {
   "cell_type": "markdown",
   "metadata": {},
   "source": [
    "To overcome this we can use the `mutable struct` command. "
   ]
  },
  {
   "cell_type": "code",
   "execution_count": 61,
   "metadata": {},
   "outputs": [
    {
     "data": {
      "text/plain": [
       "Params"
      ]
     },
     "execution_count": 61,
     "metadata": {},
     "output_type": "execute_result"
    }
   ],
   "source": [
    "@with_kw mutable struct Params\n",
    "    VarType::VarianceType = Default\n",
    "end"
   ]
  },
  {
   "cell_type": "markdown",
   "metadata": {},
   "source": [
    "Now, we will improve our ols function by using these new structures created."
   ]
  },
  {
   "cell_type": "code",
   "execution_count": 62,
   "metadata": {},
   "outputs": [
    {
     "data": {
      "text/plain": [
       "ols (generic function with 2 methods)"
      ]
     },
     "execution_count": 62,
     "metadata": {},
     "output_type": "execute_result"
    }
   ],
   "source": [
    "function ols(x,y, params::Params)\n",
    "   #Extract sample size\n",
    "   n = size(x, 1)\n",
    " \n",
    "    #Check if there's some problem with the data\n",
    "    if n != size(y,1)\n",
    "        error(\"Incompatible data.\") \n",
    "    end\n",
    "\n",
    "    #Recall that the normal eq is xx * bhat = xy\n",
    "    xx = x'*x;\n",
    "    xy = x'*y;\n",
    "    \n",
    "    #Compute the coefficient vector\n",
    "    βhat = xx\\xy\n",
    "    \n",
    "    if params.VarType == Default\n",
    "        # Get residuals\n",
    "        res = y - x * βhat;\n",
    "        avar = (res' * res) ./ xx ;\n",
    "        se = sqrt.(diag(avar))/sqrt(n);\n",
    "    elseif params.VarType == White\n",
    "        # Get residuals\n",
    "        res = y - x * βhat;\n",
    "        avar = xx \\ ((x.*res)' * (x.*res)) / xx;\n",
    "        se = sqrt.(diag(avar))/sqrt(n);    \n",
    "    else\n",
    "        error(\"Not a valid VarType. Please set either Default or White.\")\n",
    "    end\n",
    "    \n",
    "    return (coef = βhat, se = se)\n",
    "end"
   ]
  },
  {
   "cell_type": "markdown",
   "metadata": {},
   "source": [
    "Notice that now our function has two methods! "
   ]
  },
  {
   "cell_type": "code",
   "execution_count": 63,
   "metadata": {},
   "outputs": [],
   "source": [
    "#I will simulate some data to run this\n",
    "Xmat , Zmat, Yvec = simulatedata(1000)\n",
    "p1 = Params();\n",
    "p2 = Params(VarType=White);"
   ]
  },
  {
   "cell_type": "code",
   "execution_count": 64,
   "metadata": {},
   "outputs": [
    {
     "data": {
      "text/plain": [
       "(coef = [0.754811; 1.45633], se = [0.0277132, 0.02384])"
      ]
     },
     "execution_count": 64,
     "metadata": {},
     "output_type": "execute_result"
    }
   ],
   "source": [
    "ols(Xmat,Yvec, p1)"
   ]
  },
  {
   "cell_type": "code",
   "execution_count": 65,
   "metadata": {},
   "outputs": [
    {
     "data": {
      "text/plain": [
       "(coef = [0.754811; 1.45633], se = [0.000966033, 0.000849921])"
      ]
     },
     "execution_count": 65,
     "metadata": {},
     "output_type": "execute_result"
    }
   ],
   "source": [
    "ols(Xmat,Yvec, p2)"
   ]
  },
  {
   "cell_type": "markdown",
   "metadata": {},
   "source": [
    "There are a lot of things that could've also been discussed here, but it would take quite a while. **Given that, I strongly suggest to read on your spare time the content [here](https://julia.quantecon.org/index_toc.html). It is very well written and shows a lot of examples and caveats of things that I have shown here.**"
   ]
  },
  {
   "cell_type": "markdown",
   "metadata": {},
   "source": [
    "## 5. (Optional) More Advanced Stuff\n",
    "\n",
    "****\n",
    "Usually our moment conditions leave us with something that looks like a linear system of equations.  For instance, in the case of OLS we have the following system: \n",
    "\n",
    "$$ X'X * \\beta  = X'Y $$\n",
    "\n",
    "which can be rewritten as \n",
    "\n",
    "$$ A x  = b $$ \n",
    "\n",
    "\n",
    "We say a matrix is **ill-conditioned** if the basis of eigenvectors are close to, but not exactly, collinear. This can create numerical errors roughly in proportion to the base-10 log of the condition number. I don't think this is gonna be an issue in any of the computations you will perform in the course, but these type of issues can arise when we are, for instance, running models with many fixed effects (high dimensional FE). \n",
    "\n",
    "\n",
    "The condition number (using the 2-norm) can be computed as \n",
    "\n",
    "$$ k(A) = || A || * || A^{-1} || $$\n"
   ]
  },
  {
   "cell_type": "code",
   "execution_count": 66,
   "metadata": {},
   "outputs": [
    {
     "data": {
      "text/plain": [
       "2.0000000000005004e6"
      ]
     },
     "execution_count": 66,
     "metadata": {},
     "output_type": "execute_result"
    }
   ],
   "source": [
    "#Create ill-conditioned matrix\n",
    "ϵ = 1E-6\n",
    "A = [1.0 0.0\n",
    "     1.0 ϵ]\n",
    "cond(A)"
   ]
  },
  {
   "cell_type": "code",
   "execution_count": 67,
   "metadata": {},
   "outputs": [
    {
     "data": {
      "text/plain": [
       "2×2 Array{Float64,2}:\n",
       "  1.0    0.0  \n",
       " -1.0e6  1.0e6"
      ]
     },
     "execution_count": 67,
     "metadata": {},
     "output_type": "execute_result"
    }
   ],
   "source": [
    "#Notice that it has both huge and tiny values!\n",
    "inv(A)"
   ]
  },
  {
   "cell_type": "markdown",
   "metadata": {},
   "source": [
    "This is actually one of the reasons to avoid using `inv()` in practice, and instead use the backslash notation, which will perform better. Another reason is that if the A matrix is sparse, we make it dense when we invert it. The backslash notation will exploit the fact that A was sparse in the first place!"
   ]
  },
  {
   "cell_type": "markdown",
   "metadata": {},
   "source": [
    "### Factorization\n",
    "\n",
    "One way to fix this is to do a factorization, which will allow us to compute a more stable inverse (like a triangular matrix). For instance, a QR decomposition splits A into an orthogonal matrix (inverse = transpose) and an upper triangular matrix. The solution is then simplified as\n",
    "\n",
    "$$ Q R x  = b $$ \n",
    "$$ R x  = Q^{T} * b $$\n",
    "$$ x = R^{-1}  Q^{T} * b $$"
   ]
  },
  {
   "cell_type": "code",
   "execution_count": 69,
   "metadata": {},
   "outputs": [
    {
     "name": "stdout",
     "output_type": "stream",
     "text": [
      "βsol_qr[1:5] = [0.21228, 3.58133e5, 668830.0, 3.65371e5, 6.83657e5]\n"
     ]
    },
    {
     "data": {
      "text/plain": [
       "5-element Array{Float64,1}:\n",
       "      0.21227969023809407\n",
       " 358132.770475407        \n",
       " 668829.9824319686       \n",
       " 365371.30579696025      \n",
       " 683656.5419907705       "
      ]
     },
     "execution_count": 69,
     "metadata": {},
     "output_type": "execute_result"
    }
   ],
   "source": [
    "illX = [ones(1000)'; ϵ * I]'\n",
    "illXX = illX'illX;\n",
    "illXY = illX' * rand(1000,1);\n",
    "\n",
    "Q, R = qr(illXX);\n",
    "βsol_qr = R \\ (Q'* illXY);\n",
    "\n",
    "@show βsol_qr[1:5]"
   ]
  },
  {
   "cell_type": "code",
   "execution_count": 70,
   "metadata": {},
   "outputs": [
    {
     "data": {
      "text/plain": [
       "3.229517786600101e29"
      ]
     },
     "execution_count": 70,
     "metadata": {},
     "output_type": "execute_result"
    }
   ],
   "source": [
    "cond(illXX)"
   ]
  },
  {
   "cell_type": "code",
   "execution_count": 71,
   "metadata": {},
   "outputs": [
    {
     "data": {
      "text/plain": [
       "2.8731817474202843e30"
      ]
     },
     "execution_count": 71,
     "metadata": {},
     "output_type": "execute_result"
    }
   ],
   "source": [
    "cond(R)"
   ]
  },
  {
   "cell_type": "code",
   "execution_count": 72,
   "metadata": {},
   "outputs": [
    {
     "data": {
      "text/plain": [
       "true"
      ]
     },
     "execution_count": 72,
     "metadata": {},
     "output_type": "execute_result"
    }
   ],
   "source": [
    "cond(R) > cond(illXX)"
   ]
  },
  {
   "cell_type": "markdown",
   "metadata": {},
   "source": [
    "Depending on the particular application and the factorization chosen we can improve a lot the conditioning number."
   ]
  },
  {
   "cell_type": "markdown",
   "metadata": {},
   "source": [
    "### Iterative Solution (Krylov Methods)\n",
    "\n",
    "This is will iterate the system on $x^k$ until it reaches a solution. It is an alternative to factorization. However, it has slow convergence rates when the matrix in the linear system is ill-conditioned. \n",
    "\n",
    "A solution to this is to set a matrix $ P $ which has numerically stable inverse. Consider the following case of a right preconditioner P:\n",
    "\n",
    "$$ A x = b $$\n",
    "$$ A P^{-1} P  x = b $$\n",
    "$$ (AP^{-1}) y = b $$ \n",
    "\n",
    "so we can use the last equation to solve for $y$ , and then recover $x$ from $P x = y $. "
   ]
  },
  {
   "cell_type": "code",
   "execution_count": 73,
   "metadata": {},
   "outputs": [
    {
     "data": {
      "text/plain": [
       "1.8546178285821911e6"
      ]
     },
     "execution_count": 73,
     "metadata": {},
     "output_type": "execute_result"
    }
   ],
   "source": [
    "#Pkg.add(\"SparseArrays\")\n",
    "using SparseArrays\n",
    "\n",
    "#This creates a sparse matrix with 10% of zeros\n",
    "A = sprand(100, 100, 0.1)   \n",
    "A = A * A'  \n",
    "cond(Matrix(A)) #Can be ill conditioned!"
   ]
  },
  {
   "cell_type": "markdown",
   "metadata": {},
   "source": [
    "One of the standard Krylov methods is Conjugate Gradient, which works for symmetric and positive definite matrices. This is exactly the case of our least squares problem!\n",
    "\n",
    "We can choose among many preconditioners, and there's no really a way to know which is gonna work the best. In this case I'll show the solution using an Algebraic Multigrid (AMG) preconditioner."
   ]
  },
  {
   "cell_type": "code",
   "execution_count": 75,
   "metadata": {},
   "outputs": [],
   "source": [
    "#Pkg.add(\"IterativeSolvers\")\n",
    "#Pkg.add(\"AlgebraicMultigrid\")\n",
    "using IterativeSolvers\n",
    "using AlgebraicMultigrid"
   ]
  },
  {
   "cell_type": "code",
   "execution_count": 76,
   "metadata": {},
   "outputs": [
    {
     "data": {
      "text/plain": [
       "Converged after 62 iterations."
      ]
     },
     "execution_count": 76,
     "metadata": {},
     "output_type": "execute_result"
    }
   ],
   "source": [
    "#Initial value\n",
    "β_init = zeros(100)\n",
    "b = A * rand(100,1)\n",
    "P = aspreconditioner(ruge_stuben(A))\n",
    "sol = cg!(β_init, A, b, Pl = P, log=true, maxiter = 1000)\n",
    "sol[end]"
   ]
  },
  {
   "cell_type": "code",
   "execution_count": 77,
   "metadata": {},
   "outputs": [
    {
     "data": {
      "text/plain": [
       "100-element Array{Float64,1}:\n",
       " 0.8140076758718121  \n",
       " 0.5912350455937073  \n",
       " 0.9423584907399465  \n",
       " 0.38406978959846105 \n",
       " 0.4644595533778028  \n",
       " 0.7108618640403582  \n",
       " 0.650535755944603   \n",
       " 0.6131608814248856  \n",
       " 0.19907936431703835 \n",
       " 0.71971797418847    \n",
       " 0.6619960114835616  \n",
       " 0.9933297012902798  \n",
       " 0.438651310212625   \n",
       " ⋮                   \n",
       " 0.8959528825863227  \n",
       " 0.7631376310156138  \n",
       " 0.8924169661727606  \n",
       " 0.4208310999476181  \n",
       " 0.4242576343057581  \n",
       " 0.023569295752934125\n",
       " 0.0859614648642639  \n",
       " 0.011207043510461104\n",
       " 0.4255761879150625  \n",
       " 0.07212171243070957 \n",
       " 0.3656614292176173  \n",
       " 0.9359863800101303  "
      ]
     },
     "execution_count": 77,
     "metadata": {},
     "output_type": "execute_result"
    }
   ],
   "source": [
    "#Show the vector of coefficients\n",
    "sol[1]"
   ]
  },
  {
   "cell_type": "markdown",
   "metadata": {},
   "source": [
    "Something I would like to point out is that using a preconditioner does not ensure that the number of iterations will reduce."
   ]
  }
 ],
 "metadata": {
  "kernelspec": {
   "display_name": "Julia 1.0.3",
   "language": "julia",
   "name": "julia-1.0"
  },
  "language_info": {
   "file_extension": ".jl",
   "mimetype": "application/julia",
   "name": "julia",
   "version": "1.0.3"
  }
 },
 "nbformat": 4,
 "nbformat_minor": 2
}
